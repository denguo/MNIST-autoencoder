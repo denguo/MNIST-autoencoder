{
 "cells": [
  {
   "cell_type": "markdown",
   "metadata": {
    "deletable": true,
    "editable": true
   },
   "source": [
    "# Imports"
   ]
  },
  {
   "cell_type": "code",
   "execution_count": 1,
   "metadata": {
    "collapsed": false,
    "deletable": true,
    "editable": true
   },
   "outputs": [],
   "source": [
    "%matplotlib inline\n",
    "\n",
    "import numpy as np\n",
    "import scipy as sp\n",
    "import matplotlib.pyplot as plt\n",
    "import random as rnd\n",
    "import matplotlib.image as mpimg\n",
    "\n",
    "from scipy import stats"
   ]
  },
  {
   "cell_type": "markdown",
   "metadata": {
    "deletable": true,
    "editable": true
   },
   "source": [
    "# Softmax Regression on MNIST"
   ]
  },
  {
   "cell_type": "code",
   "execution_count": 189,
   "metadata": {
    "collapsed": false,
    "deletable": true,
    "editable": true
   },
   "outputs": [
    {
     "name": "stdout",
     "output_type": "stream",
     "text": [
      "Extracting MNIST_data/train-images-idx3-ubyte.gz\n",
      "Extracting MNIST_data/train-labels-idx1-ubyte.gz\n",
      "Extracting MNIST_data/t10k-images-idx3-ubyte.gz\n",
      "Extracting MNIST_data/t10k-labels-idx1-ubyte.gz\n"
     ]
    }
   ],
   "source": [
    "import tensorflow as tf\n",
    "from tensorflow.examples.tutorials.mnist import input_data\n",
    "#from tensorflow.contrib.learn.python.learn.datasets import mnist\n",
    "mnist = input_data.read_data_sets(\"MNIST_data/\", one_hot = True)"
   ]
  },
  {
   "cell_type": "code",
   "execution_count": 11,
   "metadata": {
    "collapsed": true,
    "deletable": true,
    "editable": true
   },
   "outputs": [],
   "source": [
    "x = tf.placeholder(tf.float32, [None, 784])\n",
    "\n",
    "W = tf.Variable(tf.zeros([784, 10]))\n",
    "b = tf.Variable(tf.zeros([10]))\n",
    "\n",
    "y = tf.nn.softmax(tf.matmul(x, W) + b)"
   ]
  },
  {
   "cell_type": "code",
   "execution_count": 12,
   "metadata": {
    "collapsed": false,
    "deletable": true,
    "editable": true
   },
   "outputs": [
    {
     "name": "stdout",
     "output_type": "stream",
     "text": [
      "0.9179\n"
     ]
    }
   ],
   "source": [
    "y_ = tf.placeholder(tf.float32, [None, 10])\n",
    "cross_entropy = tf.reduce_mean(-tf.reduce_sum(y_*tf.log(y), reduction_indices=[1]))\n",
    "\n",
    "train_step = tf.train.GradientDescentOptimizer(0.5).minimize(cross_entropy)\n",
    "init = tf.global_variables_initializer()\n",
    "\n",
    "sess = tf.Session()\n",
    "sess.run(init)\n",
    "\n",
    "for i in range(1000):\n",
    "    batch_xs, batch_ys = mnist.train.next_batch(100)\n",
    "    sess.run(train_step, feed_dict={x: batch_xs, y_: batch_ys})\n",
    "\n",
    "correct_prediction = tf.equal(tf.argmax(y, 1), tf.argmax(y_, 1))\n",
    "accuracy = tf.reduce_mean(tf.cast(correct_prediction, tf.float32))\n",
    "print(sess.run(accuracy, feed_dict = {x: mnist.test.images, y_: mnist.test.labels}))"
   ]
  },
  {
   "cell_type": "markdown",
   "metadata": {
    "deletable": true,
    "editable": true
   },
   "source": [
    "# 3.2 Multilayer Convolutional Network"
   ]
  },
  {
   "cell_type": "code",
   "execution_count": 117,
   "metadata": {
    "collapsed": true,
    "deletable": true,
    "editable": true
   },
   "outputs": [],
   "source": [
    "def weight_variable(shape):\n",
    "    initial = tf.truncated_normal(shape, stddev=0.1)\n",
    "    return tf.Variable(initial)\n",
    "\n",
    "def bias_variable(shape):\n",
    "    initial = tf.constant(0.1, shape=shape)\n",
    "    return tf.Variable(initial)\n",
    "\n",
    "def conv2d(x, W):\n",
    "    return tf.nn.conv2d(x, W, strides=[1,1,1,1], padding='SAME')\n",
    "\n",
    "def max_pool_2x2(x):\n",
    "    return tf.nn.max_pool(x, ksize=[1,2,2,1], strides=[1,2,2,1], padding='SAME')"
   ]
  },
  {
   "cell_type": "code",
   "execution_count": 23,
   "metadata": {
    "collapsed": false,
    "deletable": true,
    "editable": true
   },
   "outputs": [],
   "source": [
    "# layer 1\n",
    "W_conv1 = weight_variable([5,5,1,32])\n",
    "b_conv1 = bias_variable([32])\n",
    "\n",
    "x_image = tf.reshape(x, [-1,28,28,1])\n",
    "\n",
    "h_conv1 = tf.nn.relu(conv2d(x_image, W_conv1) + b_conv1)\n",
    "h_pool1 = max_pool_2x2(h_conv1)\n",
    "\n",
    "# layer 2\n",
    "W_conv2 = weight_variable([5,5,32,64])\n",
    "b_conv2 = bias_variable([64])\n",
    "\n",
    "h_conv2 = tf.nn.relu(conv2d(h_pool1, W_conv2) + b_conv2)\n",
    "h_pool2 = max_pool_2x2(h_conv2)\n",
    "\n",
    "# fully connected layer 1\n",
    "W_fc1 = weight_variable([7*7*64, 1024])\n",
    "b_fc1 = bias_variable([1024])\n",
    "\n",
    "h_pool2_flat = tf.reshape(h_pool2, [-1, 7*7*64])\n",
    "h_fc1 = tf.nn.relu(tf.matmul(h_pool2_flat, W_fc1) + b_fc1)\n",
    "\n",
    "# dropout regularization\n",
    "keep_prob = tf.placeholder(tf.float32)\n",
    "h_fc1_drop = tf.nn.dropout(h_fc1, keep_prob)\n",
    "\n",
    "# fully connected layer 2\n",
    "W_fc2 = weight_variable([1024, 10])\n",
    "b_fc2 = bias_variable([10])\n",
    "y_conv = tf.matmul(h_fc1_drop, W_fc2) + b_fc2"
   ]
  },
  {
   "cell_type": "code",
   "execution_count": 30,
   "metadata": {
    "collapsed": false,
    "deletable": true,
    "editable": true
   },
   "outputs": [
    {
     "name": "stdout",
     "output_type": "stream",
     "text": [
      "step 0, training_accuracy 0.1\n",
      "step 100, training_accuracy 0.84\n",
      "step 200, training_accuracy 0.9\n",
      "step 300, training_accuracy 0.96\n",
      "step 400, training_accuracy 0.88\n",
      "step 500, training_accuracy 0.92\n",
      "step 600, training_accuracy 1\n",
      "step 700, training_accuracy 0.98\n",
      "step 800, training_accuracy 0.98\n",
      "step 900, training_accuracy 0.9\n",
      "step 1000, training_accuracy 0.88\n",
      "step 1100, training_accuracy 1\n",
      "step 1200, training_accuracy 0.96\n",
      "step 1300, training_accuracy 0.98\n",
      "step 1400, training_accuracy 0.96\n",
      "step 1500, training_accuracy 0.96\n",
      "step 1600, training_accuracy 0.94\n",
      "step 1700, training_accuracy 0.96\n",
      "step 1800, training_accuracy 0.98\n",
      "step 1900, training_accuracy 0.98\n",
      "step 2000, training_accuracy 1\n",
      "step 2100, training_accuracy 1\n",
      "step 2200, training_accuracy 1\n",
      "step 2300, training_accuracy 1\n",
      "step 2400, training_accuracy 1\n",
      "step 2500, training_accuracy 0.94\n",
      "step 2600, training_accuracy 1\n",
      "step 2700, training_accuracy 0.96\n",
      "step 2800, training_accuracy 1\n",
      "step 2900, training_accuracy 0.98\n",
      "step 3000, training_accuracy 0.98\n",
      "step 3100, training_accuracy 0.98\n",
      "step 3200, training_accuracy 0.94\n",
      "step 3300, training_accuracy 0.98\n",
      "step 3400, training_accuracy 1\n",
      "step 3500, training_accuracy 1\n",
      "step 3600, training_accuracy 1\n",
      "step 3700, training_accuracy 0.98\n",
      "step 3800, training_accuracy 0.98\n",
      "step 3900, training_accuracy 1\n",
      "step 4000, training_accuracy 1\n",
      "step 4100, training_accuracy 1\n",
      "step 4200, training_accuracy 0.96\n",
      "step 4300, training_accuracy 0.98\n",
      "step 4400, training_accuracy 1\n",
      "step 4500, training_accuracy 0.96\n",
      "step 4600, training_accuracy 0.98\n",
      "step 4700, training_accuracy 0.98\n",
      "step 4800, training_accuracy 0.98\n",
      "step 4900, training_accuracy 0.96\n",
      "step 5000, training_accuracy 0.98\n",
      "step 5100, training_accuracy 0.98\n",
      "step 5200, training_accuracy 0.98\n",
      "step 5300, training_accuracy 0.98\n",
      "step 5400, training_accuracy 1\n",
      "step 5500, training_accuracy 1\n",
      "step 5600, training_accuracy 0.96\n",
      "step 5700, training_accuracy 0.98\n",
      "step 5800, training_accuracy 0.96\n",
      "step 5900, training_accuracy 0.98\n",
      "step 6000, training_accuracy 0.98\n",
      "step 6100, training_accuracy 1\n",
      "step 6200, training_accuracy 0.96\n",
      "step 6300, training_accuracy 1\n",
      "step 6400, training_accuracy 0.94\n",
      "step 6500, training_accuracy 0.96\n",
      "step 6600, training_accuracy 1\n",
      "step 6700, training_accuracy 0.94\n",
      "step 6800, training_accuracy 0.98\n",
      "step 6900, training_accuracy 1\n",
      "step 7000, training_accuracy 0.98\n",
      "step 7100, training_accuracy 1\n",
      "step 7200, training_accuracy 1\n",
      "step 7300, training_accuracy 0.96\n",
      "step 7400, training_accuracy 1\n",
      "step 7500, training_accuracy 1\n",
      "step 7600, training_accuracy 1\n",
      "step 7700, training_accuracy 1\n",
      "step 7800, training_accuracy 1\n",
      "step 7900, training_accuracy 0.96\n",
      "step 8000, training_accuracy 1\n",
      "step 8100, training_accuracy 1\n",
      "step 8200, training_accuracy 1\n",
      "step 8300, training_accuracy 1\n",
      "step 8400, training_accuracy 0.98\n",
      "step 8500, training_accuracy 1\n",
      "step 8600, training_accuracy 1\n",
      "step 8700, training_accuracy 0.96\n",
      "step 8800, training_accuracy 1\n",
      "step 8900, training_accuracy 1\n",
      "step 9000, training_accuracy 1\n",
      "step 9100, training_accuracy 1\n",
      "step 9200, training_accuracy 0.98\n",
      "step 9300, training_accuracy 1\n",
      "step 9400, training_accuracy 1\n",
      "step 9500, training_accuracy 1\n",
      "step 9600, training_accuracy 1\n",
      "step 9700, training_accuracy 0.98\n",
      "step 9800, training_accuracy 1\n",
      "step 9900, training_accuracy 1\n",
      "step 10000, training_accuracy 1\n",
      "step 10100, training_accuracy 1\n",
      "step 10200, training_accuracy 1\n",
      "step 10300, training_accuracy 1\n",
      "step 10400, training_accuracy 1\n",
      "step 10500, training_accuracy 1\n",
      "step 10600, training_accuracy 1\n",
      "step 10700, training_accuracy 1\n",
      "step 10800, training_accuracy 1\n",
      "step 10900, training_accuracy 1\n",
      "step 11000, training_accuracy 1\n",
      "step 11100, training_accuracy 1\n",
      "step 11200, training_accuracy 1\n",
      "step 11300, training_accuracy 1\n",
      "step 11400, training_accuracy 1\n",
      "step 11500, training_accuracy 1\n",
      "step 11600, training_accuracy 1\n",
      "step 11700, training_accuracy 1\n",
      "step 11800, training_accuracy 1\n",
      "step 11900, training_accuracy 1\n",
      "step 12000, training_accuracy 1\n",
      "step 12100, training_accuracy 1\n",
      "step 12200, training_accuracy 1\n",
      "step 12300, training_accuracy 1\n",
      "step 12400, training_accuracy 1\n",
      "step 12500, training_accuracy 1\n",
      "step 12600, training_accuracy 1\n",
      "step 12700, training_accuracy 1\n",
      "step 12800, training_accuracy 0.98\n",
      "step 12900, training_accuracy 1\n",
      "step 13000, training_accuracy 1\n",
      "step 13100, training_accuracy 1\n",
      "step 13200, training_accuracy 1\n",
      "step 13300, training_accuracy 1\n",
      "step 13400, training_accuracy 1\n",
      "step 13500, training_accuracy 1\n",
      "step 13600, training_accuracy 1\n",
      "step 13700, training_accuracy 1\n",
      "step 13800, training_accuracy 1\n",
      "step 13900, training_accuracy 0.98\n",
      "step 14000, training_accuracy 1\n",
      "step 14100, training_accuracy 1\n",
      "step 14200, training_accuracy 1\n",
      "step 14300, training_accuracy 1\n",
      "step 14400, training_accuracy 1\n",
      "step 14500, training_accuracy 1\n",
      "step 14600, training_accuracy 1\n",
      "step 14700, training_accuracy 1\n",
      "step 14800, training_accuracy 1\n",
      "step 14900, training_accuracy 1\n",
      "step 15000, training_accuracy 1\n",
      "step 15100, training_accuracy 1\n",
      "step 15200, training_accuracy 1\n",
      "step 15300, training_accuracy 1\n",
      "step 15400, training_accuracy 1\n",
      "step 15500, training_accuracy 1\n",
      "step 15600, training_accuracy 1\n",
      "step 15700, training_accuracy 1\n",
      "step 15800, training_accuracy 1\n",
      "step 15900, training_accuracy 1\n",
      "step 16000, training_accuracy 0.96\n",
      "step 16100, training_accuracy 1\n",
      "step 16200, training_accuracy 1\n",
      "step 16300, training_accuracy 1\n",
      "step 16400, training_accuracy 1\n",
      "step 16500, training_accuracy 1\n",
      "step 16600, training_accuracy 1\n",
      "step 16700, training_accuracy 1\n",
      "step 16800, training_accuracy 1\n",
      "step 16900, training_accuracy 1\n",
      "step 17000, training_accuracy 1\n",
      "step 17100, training_accuracy 1\n",
      "step 17200, training_accuracy 1\n",
      "step 17300, training_accuracy 1\n",
      "step 17400, training_accuracy 1\n",
      "step 17500, training_accuracy 1\n",
      "step 17600, training_accuracy 1\n",
      "step 17700, training_accuracy 1\n",
      "step 17800, training_accuracy 1\n",
      "step 17900, training_accuracy 1\n",
      "step 18000, training_accuracy 1\n",
      "step 18100, training_accuracy 1\n",
      "step 18200, training_accuracy 1\n",
      "step 18300, training_accuracy 1\n",
      "step 18400, training_accuracy 1\n",
      "step 18500, training_accuracy 1\n",
      "step 18600, training_accuracy 1\n",
      "step 18700, training_accuracy 1\n",
      "step 18800, training_accuracy 1\n",
      "step 18900, training_accuracy 1\n",
      "step 19000, training_accuracy 1\n",
      "step 19100, training_accuracy 0.98\n",
      "step 19200, training_accuracy 1\n",
      "step 19300, training_accuracy 1\n",
      "step 19400, training_accuracy 1\n",
      "step 19500, training_accuracy 1\n",
      "step 19600, training_accuracy 1\n",
      "step 19700, training_accuracy 1\n",
      "step 19800, training_accuracy 1\n",
      "step 19900, training_accuracy 1\n",
      "test accuracy 0.9923\n"
     ]
    }
   ],
   "source": [
    "# train and evaluate model\n",
    "cross_entropy = tf.reduce_mean(tf.nn.softmax_cross_entropy_with_logits(logits=y_conv, labels=y_))\n",
    "train_step = tf.train.AdamOptimizer(1e-4).minimize(cross_entropy)\n",
    "correct_prediction = tf.equal(tf.argmax(y_conv, 1), tf.argmax(y_, 1))\n",
    "accuracy = tf.reduce_mean(tf.cast(correct_prediction, tf.float32))\n",
    "\n",
    "sess.run(tf.global_variables_initializer())\n",
    "for i in range(20000):\n",
    "    batch = mnist.train.next_batch(50)\n",
    "    if (i % 100 == 0):\n",
    "        train_accuracy = accuracy.eval(session=sess, feed_dict={x: batch[0], y_: batch[1], keep_prob: 1.0})\n",
    "        print(\"step %d, training_accuracy %g\"%(i, train_accuracy))\n",
    "    train_step.run(session=sess, feed_dict={x: batch[0], y_: batch[1], keep_prob: 0.5})\n",
    "print(\"test accuracy %g\"%accuracy.eval(session=sess, feed_dict={x: mnist.test.images, y_: mnist.test.labels, keep_prob: 1.0}))"
   ]
  },
  {
   "cell_type": "markdown",
   "metadata": {
    "deletable": true,
    "editable": true
   },
   "source": [
    "# 4.1 Training Neural Networks Using TensorFlow"
   ]
  },
  {
   "cell_type": "markdown",
   "metadata": {
    "deletable": true,
    "editable": true
   },
   "source": [
    "#1. Train a fully-connected neural network on MNIST with 64 neurons in the first hidden layer,\n",
    "128 neuron in the second hidden layer and finally 10 neurons at the output corresponding to\n",
    "10 different digits. Use 50 as the batch size and hinge loss as the cost function. You may use\n",
    "any gradient descent type of algorithm. Report the corresponding testing accuracy"
   ]
  },
  {
   "cell_type": "code",
   "execution_count": 31,
   "metadata": {
    "collapsed": true,
    "deletable": true,
    "editable": true
   },
   "outputs": [],
   "source": [
    "# hidden layer 1 - 64 neurons\n",
    "W_conv1 = weight_variable([5,5,1,64])\n",
    "b_conv1 = bias_variable([64])\n",
    "\n",
    "x_image = tf.reshape(x, [-1,28,28,1])\n",
    "\n",
    "h_conv1 = tf.nn.relu(conv2d(x_image, W_conv1) + b_conv1)\n",
    "h_pool1 = max_pool_2x2(h_conv1)\n",
    "\n",
    "# hidden layer 2 - 128 neurons\n",
    "W_conv2 = weight_variable([5,5,64,128])\n",
    "b_conv2 = bias_variable([128])\n",
    "\n",
    "h_conv2 = tf.nn.relu(conv2d(h_pool1, W_conv2) + b_conv2)\n",
    "h_pool2 = max_pool_2x2(h_conv2)\n",
    "\n",
    "# output layer - 10 neurons\n",
    "# fully connected layer 1\n",
    "W_fc1 = weight_variable([7*7*128, 1024])\n",
    "b_fc1 = bias_variable([1024])\n",
    "\n",
    "h_pool2_flat = tf.reshape(h_pool2, [-1, 7*7*128])\n",
    "h_fc1 = tf.nn.relu(tf.matmul(h_pool2_flat, W_fc1) + b_fc1)\n",
    "\n",
    "# dropout regularization\n",
    "keep_prob = tf.placeholder(tf.float32)\n",
    "h_fc1_drop = tf.nn.dropout(h_fc1, keep_prob)\n",
    "\n",
    "# fully connected layer 2\n",
    "W_fc2 = weight_variable([1024, 10])\n",
    "b_fc2 = bias_variable([10])\n",
    "y_conv = tf.matmul(h_fc1_drop, W_fc2) + b_fc2"
   ]
  },
  {
   "cell_type": "code",
   "execution_count": 32,
   "metadata": {
    "collapsed": false,
    "deletable": true,
    "editable": true
   },
   "outputs": [
    {
     "name": "stdout",
     "output_type": "stream",
     "text": [
      "step 0, training_accuracy 0.12\n",
      "step 100, training_accuracy 0.04\n",
      "step 200, training_accuracy 0.06\n",
      "step 300, training_accuracy 0.08\n",
      "step 400, training_accuracy 0.12\n",
      "step 500, training_accuracy 0.26\n",
      "step 600, training_accuracy 0.22\n",
      "step 700, training_accuracy 0.58\n",
      "step 800, training_accuracy 0.54\n",
      "step 900, training_accuracy 0.74\n",
      "step 1000, training_accuracy 0.84\n",
      "step 1100, training_accuracy 0.7\n",
      "step 1200, training_accuracy 0.84\n",
      "step 1300, training_accuracy 0.88\n",
      "step 1400, training_accuracy 0.94\n",
      "step 1500, training_accuracy 0.94\n",
      "step 1600, training_accuracy 0.88\n",
      "step 1700, training_accuracy 0.96\n",
      "step 1800, training_accuracy 0.86\n",
      "step 1900, training_accuracy 0.98\n",
      "step 2000, training_accuracy 0.98\n",
      "step 2100, training_accuracy 1\n",
      "step 2200, training_accuracy 0.96\n",
      "step 2300, training_accuracy 0.98\n",
      "step 2400, training_accuracy 0.94\n",
      "step 2500, training_accuracy 0.88\n",
      "step 2600, training_accuracy 0.92\n",
      "step 2700, training_accuracy 0.94\n",
      "step 2800, training_accuracy 0.94\n",
      "step 2900, training_accuracy 0.96\n",
      "step 3000, training_accuracy 0.94\n",
      "step 3100, training_accuracy 0.98\n",
      "step 3200, training_accuracy 0.98\n",
      "step 3300, training_accuracy 0.96\n",
      "step 3400, training_accuracy 0.96\n",
      "step 3500, training_accuracy 0.96\n",
      "step 3600, training_accuracy 0.96\n",
      "step 3700, training_accuracy 0.98\n",
      "step 3800, training_accuracy 0.9\n",
      "step 3900, training_accuracy 1\n",
      "step 4000, training_accuracy 0.98\n",
      "step 4100, training_accuracy 0.92\n",
      "step 4200, training_accuracy 0.94\n",
      "step 4300, training_accuracy 0.96\n",
      "step 4400, training_accuracy 0.92\n",
      "step 4500, training_accuracy 1\n",
      "step 4600, training_accuracy 0.98\n",
      "step 4700, training_accuracy 0.98\n",
      "step 4800, training_accuracy 0.98\n",
      "step 4900, training_accuracy 0.98\n",
      "step 5000, training_accuracy 0.96\n",
      "step 5100, training_accuracy 0.94\n",
      "step 5200, training_accuracy 1\n",
      "step 5300, training_accuracy 0.98\n",
      "step 5400, training_accuracy 1\n",
      "step 5500, training_accuracy 0.98\n",
      "step 5600, training_accuracy 1\n",
      "step 5700, training_accuracy 0.98\n",
      "step 5800, training_accuracy 0.96\n",
      "step 5900, training_accuracy 0.98\n",
      "step 6000, training_accuracy 0.98\n",
      "step 6100, training_accuracy 0.96\n",
      "step 6200, training_accuracy 1\n",
      "step 6300, training_accuracy 1\n",
      "step 6400, training_accuracy 1\n",
      "step 6500, training_accuracy 1\n",
      "step 6600, training_accuracy 1\n",
      "step 6700, training_accuracy 1\n",
      "step 6800, training_accuracy 1\n",
      "step 6900, training_accuracy 0.98\n",
      "step 7000, training_accuracy 1\n",
      "step 7100, training_accuracy 1\n",
      "step 7200, training_accuracy 0.98\n",
      "step 7300, training_accuracy 1\n",
      "step 7400, training_accuracy 0.98\n",
      "step 7500, training_accuracy 1\n",
      "step 7600, training_accuracy 0.98\n",
      "step 7700, training_accuracy 1\n",
      "step 7800, training_accuracy 0.98\n",
      "step 7900, training_accuracy 0.98\n",
      "step 8000, training_accuracy 1\n",
      "step 8100, training_accuracy 0.98\n",
      "step 8200, training_accuracy 0.98\n",
      "step 8300, training_accuracy 1\n",
      "step 8400, training_accuracy 0.98\n",
      "step 8500, training_accuracy 0.98\n",
      "step 8600, training_accuracy 0.96\n",
      "step 8700, training_accuracy 0.98\n",
      "step 8800, training_accuracy 1\n",
      "step 8900, training_accuracy 0.98\n",
      "step 9000, training_accuracy 0.92\n",
      "step 9100, training_accuracy 0.98\n",
      "step 9200, training_accuracy 1\n",
      "step 9300, training_accuracy 0.98\n",
      "step 9400, training_accuracy 1\n",
      "step 9500, training_accuracy 0.98\n",
      "step 9600, training_accuracy 1\n",
      "step 9700, training_accuracy 0.98\n",
      "step 9800, training_accuracy 1\n",
      "step 9900, training_accuracy 0.98\n",
      "step 10000, training_accuracy 0.98\n",
      "step 10100, training_accuracy 1\n",
      "step 10200, training_accuracy 1\n",
      "step 10300, training_accuracy 1\n",
      "step 10400, training_accuracy 1\n",
      "step 10500, training_accuracy 1\n",
      "step 10600, training_accuracy 1\n",
      "step 10700, training_accuracy 0.98\n",
      "step 10800, training_accuracy 1\n",
      "step 10900, training_accuracy 0.98\n",
      "step 11000, training_accuracy 1\n",
      "step 11100, training_accuracy 0.98\n",
      "step 11200, training_accuracy 0.96\n",
      "step 11300, training_accuracy 1\n",
      "step 11400, training_accuracy 0.98\n",
      "step 11500, training_accuracy 1\n",
      "step 11600, training_accuracy 1\n",
      "step 11700, training_accuracy 1\n",
      "step 11800, training_accuracy 0.98\n",
      "step 11900, training_accuracy 1\n",
      "step 12000, training_accuracy 0.98\n",
      "step 12100, training_accuracy 0.96\n",
      "step 12200, training_accuracy 1\n",
      "step 12300, training_accuracy 0.98\n",
      "step 12400, training_accuracy 1\n",
      "step 12500, training_accuracy 1\n",
      "step 12600, training_accuracy 1\n",
      "step 12700, training_accuracy 1\n",
      "step 12800, training_accuracy 1\n",
      "step 12900, training_accuracy 0.96\n",
      "step 13000, training_accuracy 1\n",
      "step 13100, training_accuracy 0.98\n",
      "step 13200, training_accuracy 0.96\n",
      "step 13300, training_accuracy 0.98\n",
      "step 13400, training_accuracy 1\n",
      "step 13500, training_accuracy 1\n",
      "step 13600, training_accuracy 1\n",
      "step 13700, training_accuracy 1\n",
      "step 13800, training_accuracy 0.98\n",
      "step 13900, training_accuracy 1\n",
      "step 14000, training_accuracy 0.98\n",
      "step 14100, training_accuracy 1\n",
      "step 14200, training_accuracy 0.96\n",
      "step 14300, training_accuracy 1\n",
      "step 14400, training_accuracy 0.98\n",
      "step 14500, training_accuracy 1\n",
      "step 14600, training_accuracy 1\n",
      "step 14700, training_accuracy 1\n",
      "step 14800, training_accuracy 1\n",
      "step 14900, training_accuracy 0.96\n",
      "step 15000, training_accuracy 1\n",
      "step 15100, training_accuracy 0.98\n",
      "step 15200, training_accuracy 1\n",
      "step 15300, training_accuracy 1\n",
      "step 15400, training_accuracy 1\n",
      "step 15500, training_accuracy 1\n",
      "step 15600, training_accuracy 0.98\n",
      "step 15700, training_accuracy 1\n",
      "step 15800, training_accuracy 1\n",
      "step 15900, training_accuracy 1\n",
      "step 16000, training_accuracy 0.96\n",
      "step 16100, training_accuracy 1\n",
      "step 16200, training_accuracy 1\n",
      "step 16300, training_accuracy 1\n",
      "step 16400, training_accuracy 1\n",
      "step 16500, training_accuracy 1\n",
      "step 16600, training_accuracy 1\n",
      "step 16700, training_accuracy 1\n",
      "step 16800, training_accuracy 1\n",
      "step 16900, training_accuracy 0.98\n",
      "step 17000, training_accuracy 1\n",
      "step 17100, training_accuracy 1\n",
      "step 17200, training_accuracy 0.98\n",
      "step 17300, training_accuracy 1\n",
      "step 17400, training_accuracy 0.98\n",
      "step 17500, training_accuracy 0.98\n",
      "step 17600, training_accuracy 1\n",
      "step 17700, training_accuracy 1\n",
      "step 17800, training_accuracy 0.98\n",
      "step 17900, training_accuracy 1\n",
      "step 18000, training_accuracy 0.98\n",
      "step 18100, training_accuracy 1\n",
      "step 18200, training_accuracy 1\n",
      "step 18300, training_accuracy 0.98\n",
      "step 18400, training_accuracy 0.98\n",
      "step 18500, training_accuracy 1\n",
      "step 18600, training_accuracy 1\n",
      "step 18700, training_accuracy 1\n",
      "step 18800, training_accuracy 1\n",
      "step 18900, training_accuracy 1\n",
      "step 19000, training_accuracy 1\n",
      "step 19100, training_accuracy 1\n",
      "step 19200, training_accuracy 1\n",
      "step 19300, training_accuracy 1\n",
      "step 19400, training_accuracy 1\n",
      "step 19500, training_accuracy 1\n",
      "step 19600, training_accuracy 0.98\n",
      "step 19700, training_accuracy 1\n",
      "step 19800, training_accuracy 1\n",
      "step 19900, training_accuracy 1\n",
      "test accuracy 0.9869\n"
     ]
    }
   ],
   "source": [
    "# train and evaluate model\n",
    "hinge_loss = tf.reduce_mean(tf.losses.hinge_loss(logits=y_conv, labels=y_))\n",
    "train_step = tf.train.GradientDescentOptimizer(0.5).minimize(hinge_loss)\n",
    "correct_prediction = tf.equal(tf.argmax(y_conv, 1), tf.argmax(y_, 1))\n",
    "accuracy = tf.reduce_mean(tf.cast(correct_prediction, tf.float32))\n",
    "\n",
    "sess.run(tf.global_variables_initializer())\n",
    "for i in range(20000):\n",
    "    batch = mnist.train.next_batch(50)\n",
    "    if (i % 100 == 0):\n",
    "        train_accuracy = accuracy.eval(session=sess, feed_dict={x: batch[0], y_: batch[1], keep_prob: 1.0})\n",
    "        print(\"step %d, training_accuracy %g\"%(i, train_accuracy))\n",
    "    train_step.run(session=sess, feed_dict={x: batch[0], y_: batch[1], keep_prob: 0.5})\n",
    "print(\"test accuracy %g\"%accuracy.eval(session=sess, feed_dict={x: mnist.test.images, y_: mnist.test.labels, keep_prob: 1.0}))"
   ]
  },
  {
   "cell_type": "code",
   "execution_count": 114,
   "metadata": {
    "collapsed": true,
    "deletable": true,
    "editable": true
   },
   "outputs": [],
   "source": [
    "x = tf.placeholder(tf.float32, [None, 784])\n",
    "y_ = tf.placeholder(tf.float32, [None, 10])"
   ]
  },
  {
   "cell_type": "code",
   "execution_count": 115,
   "metadata": {
    "collapsed": false,
    "deletable": true,
    "editable": true
   },
   "outputs": [],
   "source": [
    "# fully-connected layer 1 - 64 neurons\n",
    "W_fc1 = weight_variable([784,64])\n",
    "b_fc1 = bias_variable([64])\n",
    "\n",
    "h1 = tf.nn.relu(tf.matmul(x, W_fc1) + b_fc1)\n",
    "\n",
    "# fully_connected layer 2 - 128 neurons\n",
    "W_fc2 = weight_variable([64,128])\n",
    "b_fc2 = bias_variable([128])\n",
    "\n",
    "h2 = tf.nn.relu(tf.matmul(h1, W_fc2) + b_fc2)\n",
    "\n",
    "W_out = weight_variable([128, 10])\n",
    "b_out = bias_variable([10])\n",
    "\n",
    "# dropout regularization\n",
    "keep_prob = tf.placeholder(tf.float32)\n",
    "h2_drop = tf.nn.dropout(h2, keep_prob)\n",
    "\n",
    "y_fc =  tf.nn.relu(tf.matmul(h2_drop, W_out) + b_out)"
   ]
  },
  {
   "cell_type": "code",
   "execution_count": 116,
   "metadata": {
    "collapsed": false,
    "deletable": true,
    "editable": true
   },
   "outputs": [
    {
     "name": "stdout",
     "output_type": "stream",
     "text": [
      "step 0, training_accuracy 0.1\n",
      "step 100, training_accuracy 0.12\n",
      "step 200, training_accuracy 0.1\n",
      "step 300, training_accuracy 0.06\n",
      "step 400, training_accuracy 0.08\n",
      "step 500, training_accuracy 0.08\n",
      "step 600, training_accuracy 0.06\n",
      "step 700, training_accuracy 0.14\n",
      "step 800, training_accuracy 0.06\n",
      "step 900, training_accuracy 0.1\n",
      "step 1000, training_accuracy 0.14\n",
      "step 1100, training_accuracy 0.1\n",
      "step 1200, training_accuracy 0.06\n",
      "step 1300, training_accuracy 0.12\n",
      "step 1400, training_accuracy 0.1\n",
      "step 1500, training_accuracy 0.14\n",
      "step 1600, training_accuracy 0.06\n",
      "step 1700, training_accuracy 0.08\n",
      "step 1800, training_accuracy 0.08\n",
      "step 1900, training_accuracy 0.1\n",
      "step 2000, training_accuracy 0.12\n",
      "step 2100, training_accuracy 0.04\n",
      "step 2200, training_accuracy 0.04\n",
      "step 2300, training_accuracy 0.14\n",
      "step 2400, training_accuracy 0.08\n",
      "step 2500, training_accuracy 0.14\n",
      "step 2600, training_accuracy 0.1\n",
      "step 2700, training_accuracy 0.06\n",
      "step 2800, training_accuracy 0.06\n",
      "step 2900, training_accuracy 0.08\n",
      "step 3000, training_accuracy 0.1\n",
      "step 3100, training_accuracy 0.12\n",
      "step 3200, training_accuracy 0.08\n",
      "step 3300, training_accuracy 0.18\n",
      "step 3400, training_accuracy 0.08\n",
      "step 3500, training_accuracy 0.04\n",
      "step 3600, training_accuracy 0.14\n",
      "step 3700, training_accuracy 0.14\n",
      "step 3800, training_accuracy 0.08\n",
      "step 3900, training_accuracy 0.14\n",
      "step 4000, training_accuracy 0.1\n",
      "step 4100, training_accuracy 0.06\n",
      "step 4200, training_accuracy 0.12\n",
      "step 4300, training_accuracy 0.06\n",
      "step 4400, training_accuracy 0.2\n",
      "step 4500, training_accuracy 0.1\n",
      "step 4600, training_accuracy 0.1\n",
      "step 4700, training_accuracy 0.14\n",
      "step 4800, training_accuracy 0.08\n",
      "step 4900, training_accuracy 0.1\n",
      "step 5000, training_accuracy 0.08\n",
      "step 5100, training_accuracy 0\n",
      "step 5200, training_accuracy 0.12\n",
      "step 5300, training_accuracy 0.1\n",
      "step 5400, training_accuracy 0.06\n",
      "step 5500, training_accuracy 0.06\n",
      "step 5600, training_accuracy 0.1\n",
      "step 5700, training_accuracy 0.14\n",
      "step 5800, training_accuracy 0.06\n",
      "step 5900, training_accuracy 0.08\n",
      "step 6000, training_accuracy 0.1\n",
      "step 6100, training_accuracy 0.04\n",
      "step 6200, training_accuracy 0.1\n",
      "step 6300, training_accuracy 0.1\n",
      "step 6400, training_accuracy 0.06\n",
      "step 6500, training_accuracy 0.06\n",
      "step 6600, training_accuracy 0.08\n",
      "step 6700, training_accuracy 0.12\n",
      "step 6800, training_accuracy 0.16\n",
      "step 6900, training_accuracy 0.04\n",
      "step 7000, training_accuracy 0.1\n",
      "step 7100, training_accuracy 0.06\n",
      "step 7200, training_accuracy 0.12\n",
      "step 7300, training_accuracy 0.12\n",
      "step 7400, training_accuracy 0.04\n",
      "step 7500, training_accuracy 0.1\n",
      "step 7600, training_accuracy 0.04\n",
      "step 7700, training_accuracy 0.14\n",
      "step 7800, training_accuracy 0.1\n",
      "step 7900, training_accuracy 0.12\n",
      "step 8000, training_accuracy 0.08\n",
      "step 8100, training_accuracy 0.08\n",
      "step 8200, training_accuracy 0.08\n",
      "step 8300, training_accuracy 0.24\n",
      "step 8400, training_accuracy 0\n",
      "step 8500, training_accuracy 0.08\n",
      "step 8600, training_accuracy 0.1\n",
      "step 8700, training_accuracy 0.06\n",
      "step 8800, training_accuracy 0.1\n",
      "step 8900, training_accuracy 0.1\n",
      "step 9000, training_accuracy 0.18\n",
      "step 9100, training_accuracy 0.1\n",
      "step 9200, training_accuracy 0.08\n",
      "step 9300, training_accuracy 0.16\n",
      "step 9400, training_accuracy 0.04\n",
      "step 9500, training_accuracy 0.06\n",
      "step 9600, training_accuracy 0.16\n",
      "step 9700, training_accuracy 0.02\n",
      "step 9800, training_accuracy 0.12\n",
      "step 9900, training_accuracy 0.1\n",
      "step 10000, training_accuracy 0.08\n",
      "step 10100, training_accuracy 0.1\n",
      "step 10200, training_accuracy 0.08\n",
      "step 10300, training_accuracy 0.1\n",
      "step 10400, training_accuracy 0.2\n",
      "step 10500, training_accuracy 0.08\n",
      "step 10600, training_accuracy 0.22\n",
      "step 10700, training_accuracy 0.04\n",
      "step 10800, training_accuracy 0.1\n",
      "step 10900, training_accuracy 0.04\n",
      "step 11000, training_accuracy 0.08\n",
      "step 11100, training_accuracy 0.04\n",
      "step 11200, training_accuracy 0.04\n",
      "step 11300, training_accuracy 0.06\n",
      "step 11400, training_accuracy 0.04\n",
      "step 11500, training_accuracy 0.08\n",
      "step 11600, training_accuracy 0.18\n",
      "step 11700, training_accuracy 0.1\n",
      "step 11800, training_accuracy 0.06\n",
      "step 11900, training_accuracy 0.14\n",
      "step 12000, training_accuracy 0.06\n",
      "step 12100, training_accuracy 0.08\n",
      "step 12200, training_accuracy 0.08\n",
      "step 12300, training_accuracy 0.16\n",
      "step 12400, training_accuracy 0.06\n",
      "step 12500, training_accuracy 0.06\n",
      "step 12600, training_accuracy 0.08\n",
      "step 12700, training_accuracy 0.14\n",
      "step 12800, training_accuracy 0.1\n",
      "step 12900, training_accuracy 0.04\n",
      "step 13000, training_accuracy 0.1\n",
      "step 13100, training_accuracy 0.06\n",
      "step 13200, training_accuracy 0.06\n",
      "step 13300, training_accuracy 0.04\n",
      "step 13400, training_accuracy 0.1\n",
      "step 13500, training_accuracy 0.08\n",
      "step 13600, training_accuracy 0.12\n",
      "step 13700, training_accuracy 0.1\n",
      "step 13800, training_accuracy 0.06\n",
      "step 13900, training_accuracy 0.06\n",
      "step 14000, training_accuracy 0.06\n",
      "step 14100, training_accuracy 0.22\n",
      "step 14200, training_accuracy 0.04\n",
      "step 14300, training_accuracy 0.12\n",
      "step 14400, training_accuracy 0.2\n",
      "step 14500, training_accuracy 0.08\n",
      "step 14600, training_accuracy 0.02\n",
      "step 14700, training_accuracy 0\n",
      "step 14800, training_accuracy 0.14\n",
      "step 14900, training_accuracy 0.1\n",
      "step 15000, training_accuracy 0.1\n",
      "step 15100, training_accuracy 0.08\n",
      "step 15200, training_accuracy 0.12\n",
      "step 15300, training_accuracy 0.08\n",
      "step 15400, training_accuracy 0.06\n",
      "step 15500, training_accuracy 0.1\n",
      "step 15600, training_accuracy 0.06\n",
      "step 15700, training_accuracy 0.08\n",
      "step 15800, training_accuracy 0.18\n",
      "step 15900, training_accuracy 0.02\n",
      "step 16000, training_accuracy 0.12\n",
      "step 16100, training_accuracy 0.02\n",
      "step 16200, training_accuracy 0.08\n",
      "step 16300, training_accuracy 0.1\n",
      "step 16400, training_accuracy 0.14\n",
      "step 16500, training_accuracy 0.1\n",
      "step 16600, training_accuracy 0.1\n",
      "step 16700, training_accuracy 0.16\n",
      "step 16800, training_accuracy 0.12\n",
      "step 16900, training_accuracy 0.1\n",
      "step 17000, training_accuracy 0.1\n",
      "step 17100, training_accuracy 0.08\n",
      "step 17200, training_accuracy 0.12\n",
      "step 17300, training_accuracy 0.08\n",
      "step 17400, training_accuracy 0.14\n",
      "step 17500, training_accuracy 0\n",
      "step 17600, training_accuracy 0.14\n",
      "step 17700, training_accuracy 0.22\n",
      "step 17800, training_accuracy 0.08\n",
      "step 17900, training_accuracy 0.18\n",
      "step 18000, training_accuracy 0.1\n",
      "step 18100, training_accuracy 0.1\n",
      "step 18200, training_accuracy 0.2\n",
      "step 18300, training_accuracy 0.12\n",
      "step 18400, training_accuracy 0.24\n",
      "step 18500, training_accuracy 0.18\n",
      "step 18600, training_accuracy 0.04\n",
      "step 18700, training_accuracy 0.1\n",
      "step 18800, training_accuracy 0.16\n",
      "step 18900, training_accuracy 0.12\n",
      "step 19000, training_accuracy 0.2\n",
      "step 19100, training_accuracy 0.04\n",
      "step 19200, training_accuracy 0.12\n",
      "step 19300, training_accuracy 0.24\n",
      "step 19400, training_accuracy 0.12\n",
      "step 19500, training_accuracy 0.22\n",
      "step 19600, training_accuracy 0.2\n",
      "step 19700, training_accuracy 0.14\n",
      "step 19800, training_accuracy 0.16\n",
      "step 19900, training_accuracy 0.16\n",
      "test accuracy 0.1738\n"
     ]
    }
   ],
   "source": [
    "# train and evaluate model\n",
    "hinge_loss = tf.reduce_mean(tf.losses.hinge_loss(logits=y_fc, labels=y_))\n",
    "train_step = tf.train.GradientDescentOptimizer(0.5).minimize(hinge_loss)\n",
    "correct_prediction = tf.equal(tf.argmax(y_fc, 1), tf.argmax(y_, 1))\n",
    "accuracy = tf.reduce_mean(tf.cast(correct_prediction, tf.float32))\n",
    "\n",
    "sess.run(tf.global_variables_initializer())\n",
    "for i in range(20000):\n",
    "    batch = mnist.train.next_batch(50)\n",
    "    if (i % 100 == 0):\n",
    "        train_accuracy = accuracy.eval(session=sess, feed_dict={x: batch[0], y_: batch[1], keep_prob: 1.0})\n",
    "        print(\"step %d, training_accuracy %g\"%(i, train_accuracy))\n",
    "    train_step.run(session=sess, feed_dict={x: batch[0], y_: batch[1], keep_prob: 0.5})\n",
    "print(\"test accuracy %g\"%accuracy.eval(session=sess, feed_dict={x: mnist.test.images, y_: mnist.test.labels, keep_prob: 1.0}))"
   ]
  },
  {
   "cell_type": "markdown",
   "metadata": {
    "deletable": true,
    "editable": true
   },
   "source": [
    "#2. Train a convolutional neural network on MNIST with 32 (5×5) filters with the stride of 1 in\n",
    "the first hidden layer, followed by max-pooling on 2×2 non-overlapping blocks, 64 (5 × 5)\n",
    "filters in the second hidden layer with the stride of 1 followed by max pooling on 2×2 blocks.\n",
    "Put 10 neurons at the output corresponding to 10 different digits. Use 50 as the batch size\n",
    "and cross-entropy cost function. You may use any gradient descent type of algorithm. Report\n",
    "the corresponding testing accuracy."
   ]
  },
  {
   "cell_type": "code",
   "execution_count": 4,
   "metadata": {
    "collapsed": false,
    "deletable": true,
    "editable": true
   },
   "outputs": [],
   "source": [
    "x = tf.placeholder(tf.float32, [None, 784])\n",
    "y_ = tf.placeholder(tf.float32, [None, 10])"
   ]
  },
  {
   "cell_type": "code",
   "execution_count": 7,
   "metadata": {
    "collapsed": false,
    "deletable": true,
    "editable": true
   },
   "outputs": [],
   "source": [
    "# layer 1\n",
    "W_conv1 = weight_variable([5,5,1,32])\n",
    "b_conv1 = bias_variable([32])\n",
    "\n",
    "x_image = tf.reshape(x, [-1,28,28,1])\n",
    "\n",
    "h_conv1 = tf.nn.relu(conv2d(x_image, W_conv1) + b_conv1)\n",
    "h_pool1 = max_pool_2x2(h_conv1)\n",
    "\n",
    "# layer 2\n",
    "W_conv2 = weight_variable([5,5,32,64])\n",
    "b_conv2 = bias_variable([64])\n",
    "\n",
    "h_conv2 = tf.nn.relu(conv2d(h_pool1, W_conv2) + b_conv2)\n",
    "h_pool2 = max_pool_2x2(h_conv2)\n",
    "\n",
    "h_pool2_flat = tf.reshape(h_pool2, [-1, 7*7*64])\n",
    "\n",
    "# fully connected layer 1\n",
    "W_out = weight_variable([7*7*64, 10])\n",
    "b_out = bias_variable([10])\n",
    "\n",
    "# dropout regularization\n",
    "keep_prob = tf.placeholder(tf.float32)\n",
    "h_pool2_flat_drop = tf.nn.dropout(h_pool2_flat, keep_prob)\n",
    "\n",
    "y_conv = tf.nn.relu(tf.matmul(h_pool2_flat_drop, W_out) + b_out)"
   ]
  },
  {
   "cell_type": "code",
   "execution_count": 9,
   "metadata": {
    "collapsed": false,
    "deletable": true,
    "editable": true
   },
   "outputs": [
    {
     "name": "stdout",
     "output_type": "stream",
     "text": [
      "step 0, training_accuracy 0.1\n",
      "step 100, training_accuracy 0.16\n",
      "step 200, training_accuracy 0.2\n",
      "step 300, training_accuracy 0.26\n",
      "step 400, training_accuracy 0.52\n",
      "step 500, training_accuracy 0.62\n",
      "step 600, training_accuracy 0.86\n",
      "step 700, training_accuracy 0.92\n",
      "step 800, training_accuracy 0.8\n",
      "step 900, training_accuracy 0.94\n",
      "step 1000, training_accuracy 0.94\n",
      "step 1100, training_accuracy 0.94\n",
      "step 1200, training_accuracy 0.94\n",
      "step 1300, training_accuracy 0.94\n",
      "step 1400, training_accuracy 0.96\n",
      "step 1500, training_accuracy 0.94\n",
      "step 1600, training_accuracy 0.98\n",
      "step 1700, training_accuracy 0.98\n",
      "step 1800, training_accuracy 0.96\n",
      "step 1900, training_accuracy 0.96\n",
      "step 2000, training_accuracy 0.96\n",
      "step 2100, training_accuracy 0.96\n",
      "step 2200, training_accuracy 0.94\n",
      "step 2300, training_accuracy 0.98\n",
      "step 2400, training_accuracy 0.96\n",
      "step 2500, training_accuracy 0.94\n",
      "step 2600, training_accuracy 0.96\n",
      "step 2700, training_accuracy 1\n",
      "step 2800, training_accuracy 0.92\n",
      "step 2900, training_accuracy 0.9\n",
      "step 3000, training_accuracy 0.96\n",
      "step 3100, training_accuracy 0.98\n",
      "step 3200, training_accuracy 0.94\n",
      "step 3300, training_accuracy 0.94\n",
      "step 3400, training_accuracy 0.96\n",
      "step 3500, training_accuracy 0.96\n",
      "step 3600, training_accuracy 0.98\n",
      "step 3700, training_accuracy 0.94\n",
      "step 3800, training_accuracy 0.96\n",
      "step 3900, training_accuracy 0.94\n",
      "step 4000, training_accuracy 0.98\n",
      "step 4100, training_accuracy 0.92\n",
      "step 4200, training_accuracy 0.98\n",
      "step 4300, training_accuracy 0.98\n",
      "step 4400, training_accuracy 0.96\n",
      "step 4500, training_accuracy 0.98\n",
      "step 4600, training_accuracy 0.98\n",
      "step 4700, training_accuracy 0.96\n",
      "step 4800, training_accuracy 0.98\n",
      "step 4900, training_accuracy 1\n",
      "step 5000, training_accuracy 1\n",
      "step 5100, training_accuracy 0.98\n",
      "step 5200, training_accuracy 0.96\n",
      "step 5300, training_accuracy 0.96\n",
      "step 5400, training_accuracy 0.98\n",
      "step 5500, training_accuracy 1\n",
      "step 5600, training_accuracy 0.96\n",
      "step 5700, training_accuracy 1\n",
      "step 5800, training_accuracy 1\n",
      "step 5900, training_accuracy 1\n",
      "step 6000, training_accuracy 0.96\n",
      "step 6100, training_accuracy 0.94\n",
      "step 6200, training_accuracy 0.94\n",
      "step 6300, training_accuracy 0.94\n",
      "step 6400, training_accuracy 0.98\n",
      "step 6500, training_accuracy 0.98\n",
      "step 6600, training_accuracy 1\n",
      "step 6700, training_accuracy 1\n",
      "step 6800, training_accuracy 0.96\n",
      "step 6900, training_accuracy 0.98\n",
      "step 7000, training_accuracy 1\n",
      "step 7100, training_accuracy 1\n",
      "step 7200, training_accuracy 0.98\n",
      "step 7300, training_accuracy 1\n",
      "step 7400, training_accuracy 0.94\n",
      "step 7500, training_accuracy 1\n",
      "step 7600, training_accuracy 0.96\n",
      "step 7700, training_accuracy 0.96\n",
      "step 7800, training_accuracy 0.98\n",
      "step 7900, training_accuracy 0.98\n",
      "step 8000, training_accuracy 0.98\n",
      "step 8100, training_accuracy 0.98\n",
      "step 8200, training_accuracy 1\n",
      "step 8300, training_accuracy 1\n",
      "step 8400, training_accuracy 1\n",
      "step 8500, training_accuracy 0.96\n",
      "step 8600, training_accuracy 1\n",
      "step 8700, training_accuracy 1\n",
      "step 8800, training_accuracy 0.98\n",
      "step 8900, training_accuracy 1\n",
      "step 9000, training_accuracy 1\n",
      "step 9100, training_accuracy 0.96\n",
      "step 9200, training_accuracy 0.98\n",
      "step 9300, training_accuracy 0.98\n",
      "step 9400, training_accuracy 0.98\n",
      "step 9500, training_accuracy 0.98\n",
      "step 9600, training_accuracy 0.98\n",
      "step 9700, training_accuracy 1\n",
      "step 9800, training_accuracy 1\n",
      "step 9900, training_accuracy 1\n",
      "step 10000, training_accuracy 0.98\n",
      "step 10100, training_accuracy 0.98\n",
      "step 10200, training_accuracy 1\n",
      "step 10300, training_accuracy 0.96\n",
      "step 10400, training_accuracy 1\n",
      "step 10500, training_accuracy 0.96\n",
      "step 10600, training_accuracy 1\n",
      "step 10700, training_accuracy 1\n",
      "step 10800, training_accuracy 1\n",
      "step 10900, training_accuracy 1\n",
      "step 11000, training_accuracy 1\n",
      "step 11100, training_accuracy 0.98\n",
      "step 11200, training_accuracy 1\n",
      "step 11300, training_accuracy 0.98\n",
      "step 11400, training_accuracy 1\n",
      "step 11500, training_accuracy 0.98\n",
      "step 11600, training_accuracy 1\n",
      "step 11700, training_accuracy 0.96\n",
      "step 11800, training_accuracy 1\n",
      "step 11900, training_accuracy 1\n",
      "step 12000, training_accuracy 0.98\n",
      "step 12100, training_accuracy 0.96\n",
      "step 12200, training_accuracy 1\n",
      "step 12300, training_accuracy 1\n",
      "step 12400, training_accuracy 0.98\n",
      "step 12500, training_accuracy 0.94\n",
      "step 12600, training_accuracy 0.98\n",
      "step 12700, training_accuracy 1\n",
      "step 12800, training_accuracy 0.96\n",
      "step 12900, training_accuracy 1\n",
      "step 13000, training_accuracy 0.98\n",
      "step 13100, training_accuracy 0.96\n",
      "step 13200, training_accuracy 1\n",
      "step 13300, training_accuracy 0.96\n",
      "step 13400, training_accuracy 0.96\n",
      "step 13500, training_accuracy 1\n",
      "step 13600, training_accuracy 0.98\n",
      "step 13700, training_accuracy 1\n",
      "step 13800, training_accuracy 1\n",
      "step 13900, training_accuracy 1\n",
      "step 14000, training_accuracy 1\n",
      "step 14100, training_accuracy 0.98\n",
      "step 14200, training_accuracy 0.98\n",
      "step 14300, training_accuracy 1\n",
      "step 14400, training_accuracy 1\n",
      "step 14500, training_accuracy 1\n",
      "step 14600, training_accuracy 1\n",
      "step 14700, training_accuracy 0.98\n",
      "step 14800, training_accuracy 0.98\n",
      "step 14900, training_accuracy 1\n",
      "step 15000, training_accuracy 1\n",
      "step 15100, training_accuracy 1\n",
      "step 15200, training_accuracy 1\n",
      "step 15300, training_accuracy 1\n",
      "step 15400, training_accuracy 1\n",
      "step 15500, training_accuracy 1\n",
      "step 15600, training_accuracy 1\n",
      "step 15700, training_accuracy 1\n",
      "step 15800, training_accuracy 0.98\n",
      "step 15900, training_accuracy 1\n",
      "step 16000, training_accuracy 1\n",
      "step 16100, training_accuracy 0.98\n",
      "step 16200, training_accuracy 0.98\n",
      "step 16300, training_accuracy 1\n",
      "step 16400, training_accuracy 0.98\n",
      "step 16500, training_accuracy 1\n",
      "step 16600, training_accuracy 0.98\n",
      "step 16700, training_accuracy 0.98\n",
      "step 16800, training_accuracy 0.94\n",
      "step 16900, training_accuracy 1\n",
      "step 17000, training_accuracy 1\n",
      "step 17100, training_accuracy 0.98\n",
      "step 17200, training_accuracy 1\n",
      "step 17300, training_accuracy 1\n",
      "step 17400, training_accuracy 1\n",
      "step 17500, training_accuracy 1\n",
      "step 17600, training_accuracy 0.98\n",
      "step 17700, training_accuracy 0.98\n",
      "step 17800, training_accuracy 1\n",
      "step 17900, training_accuracy 1\n",
      "step 18000, training_accuracy 1\n",
      "step 18100, training_accuracy 0.98\n",
      "step 18200, training_accuracy 1\n",
      "step 18300, training_accuracy 1\n",
      "step 18400, training_accuracy 1\n",
      "step 18500, training_accuracy 1\n",
      "step 18600, training_accuracy 1\n",
      "step 18700, training_accuracy 1\n",
      "step 18800, training_accuracy 1\n",
      "step 18900, training_accuracy 1\n",
      "step 19000, training_accuracy 1\n",
      "step 19100, training_accuracy 0.98\n",
      "step 19200, training_accuracy 1\n",
      "step 19300, training_accuracy 1\n",
      "step 19400, training_accuracy 1\n",
      "step 19500, training_accuracy 1\n",
      "step 19600, training_accuracy 1\n",
      "step 19700, training_accuracy 1\n",
      "step 19800, training_accuracy 0.98\n",
      "step 19900, training_accuracy 0.98\n",
      "test accuracy 0.99\n"
     ]
    }
   ],
   "source": [
    "# train and evaluate model\n",
    "cross_entropy = tf.reduce_mean(tf.nn.softmax_cross_entropy_with_logits(logits=y_conv, labels=y_))\n",
    "train_step = tf.train.AdamOptimizer(1e-4).minimize(cross_entropy)\n",
    "correct_prediction = tf.equal(tf.argmax(y_conv, 1), tf.argmax(y_, 1))\n",
    "accuracy = tf.reduce_mean(tf.cast(correct_prediction, tf.float32))\n",
    "\n",
    "sess = tf.Session()\n",
    "sess.run(tf.global_variables_initializer())\n",
    "for i in range(20000):\n",
    "    batch = mnist.train.next_batch(50)\n",
    "    if (i % 100 == 0):\n",
    "        train_accuracy = accuracy.eval(session=sess, feed_dict={x: batch[0], y_: batch[1], keep_prob: 1.0})\n",
    "        print(\"step %d, training_accuracy %g\"%(i, train_accuracy))\n",
    "    train_step.run(session=sess, feed_dict={x: batch[0], y_: batch[1], keep_prob: 0.5})\n",
    "print(\"test accuracy %g\"%accuracy.eval(session=sess, feed_dict={x: mnist.test.images, y_: mnist.test.labels, keep_prob: 1.0}))"
   ]
  },
  {
   "cell_type": "markdown",
   "metadata": {
    "deletable": true,
    "editable": true
   },
   "source": [
    "# 4.2 Image Denoising"
   ]
  },
  {
   "cell_type": "markdown",
   "metadata": {
    "deletable": true,
    "editable": true
   },
   "source": [
    "#1. Load MNIST training data of size 60000 (you may want to concatenate training and validation\n",
    "set if you are importing the data using TensorFlow.)"
   ]
  },
  {
   "cell_type": "code",
   "execution_count": 349,
   "metadata": {
    "collapsed": false
   },
   "outputs": [
    {
     "name": "stdout",
     "output_type": "stream",
     "text": [
      "Extracting MNIST_data/train-images-idx3-ubyte.gz\n",
      "Extracting MNIST_data/train-labels-idx1-ubyte.gz\n",
      "Extracting MNIST_data/t10k-images-idx3-ubyte.gz\n",
      "Extracting MNIST_data/t10k-labels-idx1-ubyte.gz\n"
     ]
    }
   ],
   "source": [
    "mnist = input_data.read_data_sets(\"MNIST_data/\", one_hot = True)"
   ]
  },
  {
   "cell_type": "code",
   "execution_count": 377,
   "metadata": {
    "collapsed": false
   },
   "outputs": [
    {
     "name": "stdout",
     "output_type": "stream",
     "text": [
      "55000 784\n",
      "5000 784\n",
      "(60000, 784)\n"
     ]
    }
   ],
   "source": [
    "numextr, numpx = mnist.train.images.shape\n",
    "print(numextr, numpx)\n",
    "\n",
    "numexv, nump_1 = mnist.validation.images.shape\n",
    "print(numexv, nump_1)\n",
    "\n",
    "mnist_train = np.concatenate((mnist.train.images, mnist.validation.images), axis=0)\n",
    "print(mnist_train.shape)\n",
    "\n",
    "# for faster training\n",
    "mnist_train_10k = mnist.train.next_batch(10000)"
   ]
  },
  {
   "cell_type": "code",
   "execution_count": 378,
   "metadata": {
    "collapsed": false
   },
   "outputs": [
    {
     "name": "stdout",
     "output_type": "stream",
     "text": [
      "55000\n",
      "10000\n"
     ]
    }
   ],
   "source": [
    "print(mnist.train.num_examples)\n",
    "mnist.train._images = mnist_train_10k[0]\n",
    "mnist.train._labels = mnist_train_10k[1]\n",
    "mnist.train._num_examples = 10000\n",
    "mnist.train._epochs_completed = 0\n",
    "print(mnist.train.num_examples)"
   ]
  },
  {
   "cell_type": "markdown",
   "metadata": {},
   "source": [
    "Didn't have enough time to train with dataset size 55,000 so tried to shrink to 10,000. Currently just call next_batch(10,000) which is random, not uniformly distributed across 10 digits. Unfortunately the mnist train dataset is randomly organized so getting 1000 of each digit is also very tedious so I'm just using next_batch"
   ]
  },
  {
   "cell_type": "markdown",
   "metadata": {
    "deletable": true,
    "editable": true
   },
   "source": [
    "#2. Load MNIST testing data of size 10000"
   ]
  },
  {
   "cell_type": "code",
   "execution_count": 209,
   "metadata": {
    "collapsed": false,
    "deletable": true,
    "editable": true
   },
   "outputs": [
    {
     "name": "stdout",
     "output_type": "stream",
     "text": [
      "10000 784\n",
      "(784,)\n"
     ]
    }
   ],
   "source": [
    "numexts, nump_0 = mnist.test.images.shape\n",
    "print(numexts, nump_0)\n",
    "print(mnist.test.images[0,:].shape)"
   ]
  },
  {
   "cell_type": "markdown",
   "metadata": {
    "deletable": true,
    "editable": true
   },
   "source": [
    "#3. Construct and show the minimum MSE affine (MMSE affine) estimator for model X = Y +\n",
    "W, where you can decide the noise type and SNR. You have already done this part in\n",
    "LAB 8 for the MNIST-training data of size 10000. You may repeat your code\n",
    "here and run it for the whole MNIST dataset."
   ]
  },
  {
   "cell_type": "code",
   "execution_count": 12,
   "metadata": {
    "collapsed": true,
    "deletable": true,
    "editable": true
   },
   "outputs": [],
   "source": [
    "def packcw(A,nr,nc):\n",
    "    x = (A.T).reshape(nr*nc,1)\n",
    "    return x\n",
    "\n",
    "def unpackcw(x,nr,nc):\n",
    "    A = x.reshape(nc,nr)\n",
    "    return A.T\n",
    "\n",
    "def packrw(A,nr,nc):\n",
    "    x = A.reshape(nr*nc,1)\n",
    "    return x\n",
    "\n",
    "def unpackrw(x,nr,nc):\n",
    "    A = x.reshape(nr,nc)\n",
    "    return A\n",
    "\n",
    "def Astar(SigY,sig2W):\n",
    "    numpx = SigY.shape[0] \n",
    "    return np.dot(SigY,np.linalg.pinv(SigY + sig2W * np.eye(numpx)))\n",
    "\n",
    "titlefs = 18"
   ]
  },
  {
   "cell_type": "code",
   "execution_count": 210,
   "metadata": {
    "collapsed": false,
    "deletable": true,
    "editable": true
   },
   "outputs": [
    {
     "name": "stdout",
     "output_type": "stream",
     "text": [
      "(784,)\n",
      "muY:  (784, 1)\n",
      "SigY:  (784, 784)\n",
      "trace(Sigma_Y)=53.50, rank(Sigma_Y)=664\n"
     ]
    },
    {
     "data": {
      "image/png": "[encoded data removed]",
      "text/plain": [
       "<matplotlib.figure.Figure at 0x1208c4fd0>"
      ]
     },
     "metadata": {},
     "output_type": "display_data"
    },
    {
     "data": {
      "image/png": "[encoded data removed]",
      "text/plain": [
       "<matplotlib.figure.Figure at 0x1208342e8>"
      ]
     },
     "metadata": {},
     "output_type": "display_data"
    }
   ],
   "source": [
    "# compute what you need\n",
    "# Select the range of data to work with\n",
    "start_dig = 0\n",
    "end_dig = 10\n",
    "ptrtrains = start_dig*1000\n",
    "ptrtraine = end_dig*1000\n",
    "numsamps = ptrtraine - ptrtrains\n",
    "\n",
    "# Find the empirical mean of the selected data\n",
    "muY = np.zeros((numpx,1))\n",
    "temp = np.zeros((numpx,1))\n",
    "print(temp[:,0].shape)\n",
    "for jj in range(ptrtrains,ptrtraine):\n",
    "    temp[:,0] = mnist_train_10k[0][jj,:]\n",
    "    muY = muY + temp\n",
    "\n",
    "muY = muY/numsamps\n",
    "print(\"muY: \", muY.shape)\n",
    "\n",
    "# Find the empirical covariance of the selected data\n",
    "SigY = np.zeros((numpx,numpx))\n",
    "y = np.zeros((numpx,1))\n",
    "for jj in range(ptrtrains, ptrtraine):\n",
    "    y[:,0] = mnist_train_10k[0][jj,:]\n",
    "    SigY = SigY + np.dot(y-muY,np.transpose(y-muY))\n",
    "\n",
    "SigY = SigY/numsamps\n",
    "print(\"SigY: \", SigY.shape)\n",
    "\n",
    "EnY = np.trace(SigY) \n",
    "rankSigY = np.linalg.matrix_rank(SigY)\n",
    "print('trace(Sigma_Y)=%3.2f, rank(Sigma_Y)=%d' %(EnY,rankSigY))\n",
    "\n",
    "plt.figure(figsize=(4,4))\n",
    "plt.imshow(unpackrw(muY,28,28), cmap='gray')\n",
    "plt.colorbar(shrink=0.8)\n",
    "plt.title('$\\hat \\mu_Y$', fontsize = titlefs)\n",
    "plt.show()\n",
    "\n",
    "plt.figure(figsize=(10,10))\n",
    "plt.imshow(SigY, cmap = 'coolwarm')\n",
    "plt.colorbar(shrink=0.8)\n",
    "plt.title('$\\hat \\Sigma_Y$', fontsize = titlefs)\n",
    "plt.show()"
   ]
  },
  {
   "cell_type": "code",
   "execution_count": 212,
   "metadata": {
    "collapsed": false,
    "deletable": true,
    "editable": true
   },
   "outputs": [
    {
     "data": {
      "image/png": "[encoded data removed]",
      "text/plain": [
       "<matplotlib.figure.Figure at 0x11e268cc0>"
      ]
     },
     "metadata": {},
     "output_type": "display_data"
    },
    {
     "data": {
      "image/png": "[encoded data removed]",
      "text/plain": [
       "<matplotlib.figure.Figure at 0x12131f390>"
      ]
     },
     "metadata": {},
     "output_type": "display_data"
    },
    {
     "data": {
      "image/png": "[encoded data removed]",
      "text/plain": [
       "<matplotlib.figure.Figure at 0x1336406d8>"
      ]
     },
     "metadata": {},
     "output_type": "display_data"
    },
    {
     "data": {
      "image/png": "[encoded data removed]",
      "text/plain": [
       "<matplotlib.figure.Figure at 0x11e220b38>"
      ]
     },
     "metadata": {},
     "output_type": "display_data"
    },
    {
     "data": {
      "image/png": "[encoded data removed]",
      "text/plain": [
       "<matplotlib.figure.Figure at 0x13363a4a8>"
      ]
     },
     "metadata": {},
     "output_type": "display_data"
    },
    {
     "data": {
      "image/png": "[encoded data removed]",
      "text/plain": [
       "<matplotlib.figure.Figure at 0x11e52e278>"
      ]
     },
     "metadata": {},
     "output_type": "display_data"
    },
    {
     "data": {
      "image/png": "[encoded data removed]",
      "text/plain": [
       "<matplotlib.figure.Figure at 0x1245dd0b8>"
      ]
     },
     "metadata": {},
     "output_type": "display_data"
    },
    {
     "data": {
      "image/png": "[encoded data removed]",
      "text/plain": [
       "<matplotlib.figure.Figure at 0x11da14be0>"
      ]
     },
     "metadata": {},
     "output_type": "display_data"
    },
    {
     "data": {
      "image/png": "[encoded data removed]",
      "text/plain": [
       "<matplotlib.figure.Figure at 0x11dbf5438>"
      ]
     },
     "metadata": {},
     "output_type": "display_data"
    },
    {
     "data": {
      "image/png": "[encoded data removed]",
      "text/plain": [
       "<matplotlib.figure.Figure at 0x1214f4e48>"
      ]
     },
     "metadata": {},
     "output_type": "display_data"
    },
    {
     "data": {
      "image/png": "[encoded data removed]",
      "text/plain": [
       "<matplotlib.figure.Figure at 0x122ad63c8>"
      ]
     },
     "metadata": {},
     "output_type": "display_data"
    }
   ],
   "source": [
    "# Examine the effect of the SNR\n",
    "\n",
    "# Adjustable Parameters -------\n",
    "noisetype = 'g'\n",
    "# integers:\n",
    "SNRs = -35\n",
    "SNRe =  20\n",
    "# -----------------------------\n",
    "\n",
    "muW = 0.0\n",
    "ptrtests = start_dig*100\n",
    "ptrteste = end_dig*100\n",
    "# Select a random digit\n",
    "ptr = np.random.randint(ptrtests,ptrteste)\n",
    "y = np.zeros((numpx,1))\n",
    "y[:,0] = mnist.test.images[ptr,:]\n",
    "wg1 = np.random.normal(muW,1,(numpx,1))\n",
    "wu1 = np.random.uniform(0,1,(numpx,1))\n",
    "M = int((SNRe-SNRs)/5)\n",
    "\n",
    "for kk in range(M):\n",
    "    SNR = SNRs+5*kk\n",
    "    sig2W = EnY/(numpx*(10**(SNR/10)))\n",
    "    # Make noisy image\n",
    "    if noisetype == 'u':\n",
    "        sab = 2*muW\n",
    "        dab = np.sqrt(12*sig2W)\n",
    "        b = (sab+dab)/2.0\n",
    "        a = (sab-dab)/2.0\n",
    "        w = dab*(wu1-0.5) + muW\n",
    "    else:\n",
    "        w = np.sqrt(sig2W)*wg1\n",
    "    x = y + w\n",
    "\n",
    "    # Compute and apply Astar\n",
    "    As = Astar(SigY,sig2W)\n",
    "    hy = np.dot(As,x-muY) +muY\n",
    "\n",
    "    plt.figure(figsize=(16,4))\n",
    "    plt.subplot(141)\n",
    "    plt.imshow(unpackrw(x, 28, 28), cmap='gray')\n",
    "    plt.title('$x$ SNR=%d' %(SNR), fontsize=titlefs)\n",
    "    plt.axis('off')\n",
    "    plt.subplot(142)\n",
    "    plt.imshow(unpackrw(muY,28,28), cmap='gray')\n",
    "    plt.title('$\\mu_Y$', fontsize=titlefs)\n",
    "    plt.axis('off')\n",
    "    plt.subplot(143)\n",
    "    plt.imshow(unpackrw(hy, 28, 28), cmap='gray')\n",
    "    plt.title('$\\hat y(x)$', fontsize=titlefs)\n",
    "    plt.axis('off')\n",
    "    plt.subplot(144)\n",
    "    plt.imshow(unpackrw(y, 28, 28), cmap='gray')\n",
    "    plt.title('$y$ (#%d)' %(ptr), fontsize=titlefs)\n",
    "    plt.axis('off') \n",
    "    plt.show()"
   ]
  },
  {
   "cell_type": "markdown",
   "metadata": {
    "deletable": true,
    "editable": true
   },
   "source": [
    "#4. Train a fully-connected autoencoder for the model X = Y + W. You may use any architecture/learning\n",
    "algorithm you prefer. Report the testing accuracy. Can you beat the MMSE\n",
    "affine estimator? If so, how can you justify it? You may need to do some experiments with\n",
    "a few different architectures/learning hyperparameters."
   ]
  },
  {
   "cell_type": "code",
   "execution_count": 271,
   "metadata": {
    "collapsed": false,
    "deletable": true,
    "editable": true
   },
   "outputs": [],
   "source": [
    "muW = 0.0\n",
    "wg1 = np.random.normal(muW,1,(numpx,))\n",
    "SNR = 5\n",
    "numpx = 784\n",
    "\n",
    "def addNoise(img):\n",
    "    sig2W = EnY/(numpx*(10**(SNR/10)))\n",
    "    w = np.sqrt(sig2W)*wg1\n",
    "    return img + w\n",
    "\n",
    "def noiseBatch(images):\n",
    "    imgs = np.empty_like(images)\n",
    "    sig2W = EnY/(numpx*(10**(SNR/10)))\n",
    "    w = np.sqrt(sig2W)*wg1\n",
    "    for i in range(50):\n",
    "        imgs[i] = images[i] + w\n",
    "    return imgs"
   ]
  },
  {
   "cell_type": "code",
   "execution_count": 273,
   "metadata": {
    "collapsed": false
   },
   "outputs": [
    {
     "data": {
      "image/png": "[encoded data removed]",
      "text/plain": [
       "<matplotlib.figure.Figure at 0x1219e59e8>"
      ]
     },
     "metadata": {},
     "output_type": "display_data"
    },
    {
     "data": {
      "image/png": "[encoded data removed]",
      "text/plain": [
       "<matplotlib.figure.Figure at 0x122a515f8>"
      ]
     },
     "metadata": {},
     "output_type": "display_data"
    }
   ],
   "source": [
    "images = mnist.train.next_batch(50)\n",
    "plt.figure()\n",
    "plt.imshow(unpackrw(images[0][0], 28, 28), cmap='gray')\n",
    "plt.show()\n",
    "\n",
    "img_noisy = noiseBatch(images[0])\n",
    "plt.figure()\n",
    "plt.imshow(unpackrw(img_noisy[0], 28, 28), cmap='gray')\n",
    "plt.show()"
   ]
  },
  {
   "cell_type": "markdown",
   "metadata": {},
   "source": [
    "one hidden layer - 16 neurons"
   ]
  },
  {
   "cell_type": "code",
   "execution_count": 391,
   "metadata": {
    "collapsed": true
   },
   "outputs": [],
   "source": [
    "x = tf.placeholder(tf.float32, [None, 784])\n",
    "y_ = tf.placeholder(tf.float32, [None, 784])"
   ]
  },
  {
   "cell_type": "code",
   "execution_count": 393,
   "metadata": {
    "collapsed": true
   },
   "outputs": [],
   "source": [
    "# hidden layer 1 - 16 neurons\n",
    "W_conv1 = weight_variable([5,5,1,16])\n",
    "b_conv1 = bias_variable([16])\n",
    "\n",
    "x_image = tf.reshape(x, [-1,28,28,1])\n",
    "\n",
    "h_conv1 = tf.nn.relu(conv2d(x_image, W_conv1) + b_conv1)\n",
    "h_pool1 = max_pool_2x2(h_conv1)\n",
    "h_pool1_flat = tf.reshape(h_pool1, [-1, 14*14*16])\n",
    "\n",
    "# dropout regularization\n",
    "keep_prob = tf.placeholder(tf.float32)\n",
    "h_pool1_flat_drop = tf.nn.dropout(h_pool1_flat, keep_prob)\n",
    "\n",
    "# output layer - 784 neurons\n",
    "# fully connected layer 1\n",
    "W_fc1 = weight_variable([14*14*16, 784])\n",
    "b_fc1 = bias_variable([784])\n",
    "\n",
    "y_conv_16 = tf.nn.relu(tf.matmul(h_pool1_flat_drop, W_fc1) + b_fc1)"
   ]
  },
  {
   "cell_type": "code",
   "execution_count": 394,
   "metadata": {
    "collapsed": false
   },
   "outputs": [
    {
     "name": "stdout",
     "output_type": "stream",
     "text": [
      "step 0, training_accuracy 0.630202\n",
      "step 100, training_accuracy 0.112366\n",
      "step 200, training_accuracy 0.108874\n",
      "step 300, training_accuracy 0.108428\n",
      "step 400, training_accuracy 0.111851\n",
      "step 500, training_accuracy 0.102525\n",
      "step 600, training_accuracy 0.110273\n",
      "step 700, training_accuracy 0.126607\n",
      "step 800, training_accuracy 0.112558\n",
      "step 900, training_accuracy 0.105605\n",
      "step 1000, training_accuracy 0.103611\n",
      "step 1100, training_accuracy 0.105761\n",
      "step 1200, training_accuracy 0.106102\n",
      "step 1300, training_accuracy 0.10735\n",
      "step 1400, training_accuracy 0.102726\n",
      "step 1500, training_accuracy 0.100348\n",
      "step 1600, training_accuracy 0.086032\n",
      "step 1700, training_accuracy 0.0921327\n",
      "step 1800, training_accuracy 0.0865873\n",
      "step 1900, training_accuracy 0.0819827\n",
      "step 2000, training_accuracy 0.0813583\n",
      "step 2100, training_accuracy 0.0775613\n",
      "step 2200, training_accuracy 0.0681293\n",
      "step 2300, training_accuracy 0.0639011\n",
      "step 2400, training_accuracy 0.0561167\n",
      "step 2500, training_accuracy 0.0484239\n",
      "step 2600, training_accuracy 0.0516966\n",
      "step 2700, training_accuracy 0.0498481\n",
      "step 2800, training_accuracy 0.0375533\n",
      "step 2900, training_accuracy 0.0373711\n",
      "step 3000, training_accuracy 0.0325369\n",
      "step 3100, training_accuracy 0.0364855\n",
      "step 3200, training_accuracy 0.0315816\n",
      "step 3300, training_accuracy 0.0302744\n",
      "step 3400, training_accuracy 0.0307429\n",
      "step 3500, training_accuracy 0.0301345\n",
      "step 3600, training_accuracy 0.0259521\n",
      "step 3700, training_accuracy 0.026345\n",
      "step 3800, training_accuracy 0.0296331\n",
      "step 3900, training_accuracy 0.025799\n",
      "step 4000, training_accuracy 0.0228067\n",
      "step 4100, training_accuracy 0.0262071\n",
      "step 4200, training_accuracy 0.0212586\n",
      "step 4300, training_accuracy 0.0238944\n",
      "step 4400, training_accuracy 0.0203246\n",
      "step 4500, training_accuracy 0.0190463\n",
      "step 4600, training_accuracy 0.0189867\n",
      "step 4700, training_accuracy 0.0174427\n",
      "step 4800, training_accuracy 0.0183465\n",
      "step 4900, training_accuracy 0.0189325\n",
      "step 5000, training_accuracy 0.0199259\n",
      "step 5100, training_accuracy 0.015683\n",
      "step 5200, training_accuracy 0.0153947\n",
      "step 5300, training_accuracy 0.0164442\n",
      "step 5400, training_accuracy 0.0155907\n",
      "step 5500, training_accuracy 0.0153269\n",
      "step 5600, training_accuracy 0.0146364\n",
      "step 5700, training_accuracy 0.0146881\n",
      "step 5800, training_accuracy 0.0138359\n",
      "step 5900, training_accuracy 0.0129392\n",
      "step 6000, training_accuracy 0.0124916\n",
      "step 6100, training_accuracy 0.0135931\n",
      "step 6200, training_accuracy 0.0114491\n",
      "step 6300, training_accuracy 0.0127493\n",
      "step 6400, training_accuracy 0.0121524\n",
      "step 6500, training_accuracy 0.0124978\n",
      "step 6600, training_accuracy 0.0107134\n",
      "step 6700, training_accuracy 0.0119123\n",
      "step 6800, training_accuracy 0.0127118\n",
      "step 6900, training_accuracy 0.0110954\n",
      "step 7000, training_accuracy 0.0110272\n",
      "step 7100, training_accuracy 0.0105632\n",
      "step 7200, training_accuracy 0.0105729\n",
      "step 7300, training_accuracy 0.0108477\n",
      "step 7400, training_accuracy 0.00953788\n",
      "step 7500, training_accuracy 0.00965944\n",
      "step 7600, training_accuracy 0.00948027\n",
      "step 7700, training_accuracy 0.00925596\n",
      "step 7800, training_accuracy 0.00894196\n",
      "step 7900, training_accuracy 0.00991219\n",
      "step 8000, training_accuracy 0.00935829\n",
      "step 8100, training_accuracy 0.00881281\n",
      "step 8200, training_accuracy 0.00857196\n",
      "step 8300, training_accuracy 0.0090816\n",
      "step 8400, training_accuracy 0.00976246\n",
      "step 8500, training_accuracy 0.00845105\n",
      "step 8600, training_accuracy 0.00853507\n",
      "step 8700, training_accuracy 0.00911871\n",
      "step 8800, training_accuracy 0.00832258\n",
      "step 8900, training_accuracy 0.00932986\n",
      "step 9000, training_accuracy 0.00927727\n",
      "step 9100, training_accuracy 0.00880885\n",
      "step 9200, training_accuracy 0.00775967\n",
      "step 9300, training_accuracy 0.00791485\n",
      "step 9400, training_accuracy 0.00760747\n",
      "step 9500, training_accuracy 0.00847363\n",
      "step 9600, training_accuracy 0.00740908\n",
      "step 9700, training_accuracy 0.00684426\n",
      "step 9800, training_accuracy 0.00711664\n",
      "step 9900, training_accuracy 0.00741916\n",
      "test accuracy 0.00787334\n"
     ]
    }
   ],
   "source": [
    "# train and evaluate model\n",
    "mse_loss = tf.losses.mean_squared_error(labels=y_, predictions=y_conv_16)\n",
    "train_step = tf.train.AdamOptimizer(1e-4).minimize(mse_loss)\n",
    "\n",
    "sess.run(tf.global_variables_initializer())\n",
    "for i in range(10000):\n",
    "    batch = mnist.train.next_batch(50)\n",
    "    if (i % 100 == 0):\n",
    "        train_mse = mse_loss.eval(session=sess, feed_dict={x: noiseBatch(batch[0]), y_: batch[0], keep_prob: 1.0})\n",
    "        print(\"step %d, training_accuracy %g\"%(i, train_mse))\n",
    "    train_step.run(session=sess, feed_dict={x: noiseBatch(batch[0]), y_: batch[0], keep_prob: 0.5})\n",
    "print(\"test accuracy %g\"%mse_loss.eval(session=sess, feed_dict={x: noiseBatch(batch[0]), y_: batch[0], keep_prob: 1.0}))"
   ]
  },
  {
   "cell_type": "code",
   "execution_count": 395,
   "metadata": {
    "collapsed": false
   },
   "outputs": [
    {
     "data": {
      "image/png": "[encoded data removed]",
      "text/plain": [
       "<matplotlib.figure.Figure at 0x16c0267b8>"
      ]
     },
     "metadata": {},
     "output_type": "display_data"
    },
    {
     "data": {
      "image/png": "[encoded data removed]",
      "text/plain": [
       "<matplotlib.figure.Figure at 0x16b9162b0>"
      ]
     },
     "metadata": {},
     "output_type": "display_data"
    },
    {
     "data": {
      "image/png": "[encoded data removed]",
      "text/plain": [
       "<matplotlib.figure.Figure at 0x16fa80c18>"
      ]
     },
     "metadata": {},
     "output_type": "display_data"
    }
   ],
   "source": [
    "# ex 1\n",
    "hy = y_conv_16.eval(session=sess, feed_dict={x: img_noisy[None, 0], keep_prob: 1.0})\n",
    "plt.subplot(1,3,1)\n",
    "plt.title('x')\n",
    "plt.imshow(unpackrw(img_noisy[0], 28, 28), cmap='gray')\n",
    "\n",
    "plt.subplot(1,3,2)\n",
    "plt.title('y(x)')\n",
    "plt.imshow(unpackrw(hy, 28, 28), cmap='gray')\n",
    "\n",
    "plt.subplot(1,3,3)\n",
    "plt.title('y')\n",
    "plt.imshow(unpackrw(images[0][0], 28, 28), cmap='gray')\n",
    "plt.show()\n",
    "\n",
    "# ex 2\n",
    "hy = y_conv_16.eval(session=sess, feed_dict={x: img_noisy[None, 1], keep_prob: 1.0})\n",
    "plt.subplot(1,3,1)\n",
    "plt.title('x')\n",
    "plt.imshow(unpackrw(img_noisy[1], 28, 28), cmap='gray')\n",
    "\n",
    "plt.subplot(1,3,2)\n",
    "plt.title('y(x)')\n",
    "plt.imshow(unpackrw(hy, 28, 28), cmap='gray')\n",
    "\n",
    "plt.subplot(1,3,3)\n",
    "plt.title('y')\n",
    "plt.imshow(unpackrw(images[0][1], 28, 28), cmap='gray')\n",
    "plt.show()\n",
    "\n",
    "# ex 3\n",
    "hy = y_conv_16.eval(session=sess, feed_dict={x: img_noisy[None, 2], keep_prob: 1.0})\n",
    "plt.subplot(1,3,1)\n",
    "plt.title('x')\n",
    "plt.imshow(unpackrw(img_noisy[2], 28, 28), cmap='gray')\n",
    "\n",
    "plt.subplot(1,3,2)\n",
    "plt.title('y(x)')\n",
    "plt.imshow(unpackrw(hy, 28, 28), cmap='gray')\n",
    "\n",
    "plt.subplot(1,3,3)\n",
    "plt.title('y')\n",
    "plt.imshow(unpackrw(images[0][2], 28, 28), cmap='gray')\n",
    "plt.show()"
   ]
  },
  {
   "cell_type": "markdown",
   "metadata": {},
   "source": [
    "one hidden layer - 32 neurons"
   ]
  },
  {
   "cell_type": "code",
   "execution_count": null,
   "metadata": {
    "collapsed": true
   },
   "outputs": [],
   "source": [
    "x = tf.placeholder(tf.float32, [None, 784])\n",
    "y_ = tf.placeholder(tf.float32, [None, 784])"
   ]
  },
  {
   "cell_type": "code",
   "execution_count": 268,
   "metadata": {
    "collapsed": true
   },
   "outputs": [],
   "source": [
    "# hidden layer 1 - 32 neurons\n",
    "W_conv1 = weight_variable([5,5,1,32])\n",
    "b_conv1 = bias_variable([32])\n",
    "\n",
    "x_image = tf.reshape(x, [-1,28,28,1])\n",
    "\n",
    "h_conv1 = tf.nn.relu(conv2d(x_image, W_conv1) + b_conv1)\n",
    "h_pool1 = max_pool_2x2(h_conv1)\n",
    "h_pool1_flat = tf.reshape(h_pool1, [-1, 14*14*32])\n",
    "\n",
    "# dropout regularization\n",
    "keep_prob = tf.placeholder(tf.float32)\n",
    "h_pool1_flat_drop = tf.nn.dropout(h_pool1_flat, keep_prob)\n",
    "\n",
    "# output layer - 784 neurons\n",
    "# fully connected layer 1\n",
    "W_fc1 = weight_variable([14*14*32, 784])\n",
    "b_fc1 = bias_variable([784])\n",
    "\n",
    "y_conv_32 = tf.nn.relu(tf.matmul(h_pool1_flat_drop, W_fc1) + b_fc1)"
   ]
  },
  {
   "cell_type": "code",
   "execution_count": 272,
   "metadata": {
    "collapsed": false
   },
   "outputs": [
    {
     "name": "stdout",
     "output_type": "stream",
     "text": [
      "step 0, training_accuracy 1.23315\n",
      "step 100, training_accuracy 0.115395\n",
      "step 200, training_accuracy 0.118266\n",
      "step 300, training_accuracy 0.112743\n",
      "step 400, training_accuracy 0.115036\n",
      "step 500, training_accuracy 0.108649\n",
      "step 600, training_accuracy 0.119366\n",
      "step 700, training_accuracy 0.115057\n",
      "step 800, training_accuracy 0.114892\n",
      "step 900, training_accuracy 0.117189\n",
      "step 1000, training_accuracy 0.108204\n",
      "step 1100, training_accuracy 0.104899\n",
      "step 1200, training_accuracy 0.115272\n",
      "step 1300, training_accuracy 0.111871\n",
      "step 1400, training_accuracy 0.110069\n",
      "step 1500, training_accuracy 0.119331\n",
      "step 1600, training_accuracy 0.110588\n",
      "step 1700, training_accuracy 0.123127\n",
      "step 1800, training_accuracy 0.104343\n",
      "step 1900, training_accuracy 0.116878\n",
      "step 2000, training_accuracy 0.111501\n",
      "step 2100, training_accuracy 0.112179\n",
      "step 2200, training_accuracy 0.10971\n",
      "step 2300, training_accuracy 0.113612\n",
      "step 2400, training_accuracy 0.121121\n",
      "step 2500, training_accuracy 0.119174\n",
      "step 2600, training_accuracy 0.121508\n",
      "step 2700, training_accuracy 0.109538\n",
      "step 2800, training_accuracy 0.121076\n",
      "step 2900, training_accuracy 0.121322\n",
      "step 3000, training_accuracy 0.108819\n",
      "step 3100, training_accuracy 0.108154\n",
      "step 3200, training_accuracy 0.117163\n",
      "step 3300, training_accuracy 0.113574\n",
      "step 3400, training_accuracy 0.101654\n",
      "step 3500, training_accuracy 0.111901\n",
      "step 3600, training_accuracy 0.105333\n",
      "step 3700, training_accuracy 0.10326\n",
      "step 3800, training_accuracy 0.0965206\n",
      "step 3900, training_accuracy 0.0841916\n",
      "step 4000, training_accuracy 0.0782711\n",
      "step 4100, training_accuracy 0.0715067\n",
      "step 4200, training_accuracy 0.0502912\n",
      "step 4300, training_accuracy 0.0502502\n",
      "step 4400, training_accuracy 0.0475589\n",
      "step 4500, training_accuracy 0.0428955\n",
      "step 4600, training_accuracy 0.0356065\n",
      "step 4700, training_accuracy 0.0337589\n",
      "step 4800, training_accuracy 0.0294284\n",
      "step 4900, training_accuracy 0.0311511\n",
      "step 5000, training_accuracy 0.0274616\n",
      "step 5100, training_accuracy 0.024357\n",
      "step 5200, training_accuracy 0.0227233\n",
      "step 5300, training_accuracy 0.0230417\n",
      "step 5400, training_accuracy 0.0188639\n",
      "step 5500, training_accuracy 0.0199197\n",
      "step 5600, training_accuracy 0.019066\n",
      "step 5700, training_accuracy 0.0183735\n",
      "step 5800, training_accuracy 0.0186574\n",
      "step 5900, training_accuracy 0.0168547\n",
      "step 6000, training_accuracy 0.0150896\n",
      "step 6100, training_accuracy 0.0151064\n",
      "step 6200, training_accuracy 0.0159844\n",
      "step 6300, training_accuracy 0.0151806\n",
      "step 6400, training_accuracy 0.0137381\n",
      "step 6500, training_accuracy 0.013948\n",
      "step 6600, training_accuracy 0.0110487\n",
      "step 6700, training_accuracy 0.0123688\n",
      "step 6800, training_accuracy 0.0132221\n",
      "step 6900, training_accuracy 0.014467\n",
      "step 7000, training_accuracy 0.0117524\n",
      "step 7100, training_accuracy 0.0116585\n",
      "step 7200, training_accuracy 0.0111514\n",
      "step 7300, training_accuracy 0.0119484\n",
      "step 7400, training_accuracy 0.0113232\n",
      "step 7500, training_accuracy 0.0111574\n",
      "step 7600, training_accuracy 0.0107335\n",
      "step 7700, training_accuracy 0.0120934\n",
      "step 7800, training_accuracy 0.0107201\n",
      "step 7900, training_accuracy 0.0107896\n",
      "step 8000, training_accuracy 0.0105827\n",
      "step 8100, training_accuracy 0.00960734\n",
      "step 8200, training_accuracy 0.00827122\n",
      "step 8300, training_accuracy 0.00956627\n",
      "step 8400, training_accuracy 0.00919447\n",
      "step 8500, training_accuracy 0.00859366\n",
      "step 8600, training_accuracy 0.00938122\n",
      "step 8700, training_accuracy 0.00976583\n",
      "step 8800, training_accuracy 0.00877383\n",
      "step 8900, training_accuracy 0.00757586\n",
      "step 9000, training_accuracy 0.00682886\n",
      "step 9100, training_accuracy 0.00765482\n",
      "step 9200, training_accuracy 0.00654563\n",
      "step 9300, training_accuracy 0.00824312\n",
      "step 9400, training_accuracy 0.00678854\n",
      "step 9500, training_accuracy 0.00720175\n",
      "step 9600, training_accuracy 0.00742832\n",
      "step 9700, training_accuracy 0.00708539\n",
      "step 9800, training_accuracy 0.00674197\n",
      "step 9900, training_accuracy 0.00693842\n",
      "test accuracy 0.00695023\n"
     ]
    }
   ],
   "source": [
    "# train and evaluate model\n",
    "mse_loss = tf.losses.mean_squared_error(labels=y_, predictions=y_conv_32)\n",
    "train_step = tf.train.AdamOptimizer(1e-4).minimize(mse_loss)\n",
    "\n",
    "sess.run(tf.global_variables_initializer())\n",
    "for i in range(10000):\n",
    "    batch = mnist.train.next_batch(50)\n",
    "    if (i % 100 == 0):\n",
    "        train_mse = mse_loss.eval(session=sess, feed_dict={x: noiseBatch(batch[0]), y_: batch[0], keep_prob: 1.0})\n",
    "        print(\"step %d, training_accuracy %g\"%(i, train_mse))\n",
    "    train_step.run(session=sess, feed_dict={x: noiseBatch(batch[0]), y_: batch[0], keep_prob: 0.5})\n",
    "print(\"test accuracy %g\"%mse_loss.eval(session=sess, feed_dict={x: noiseBatch(batch[0]), y_: batch[0], keep_prob: 1.0}))"
   ]
  },
  {
   "cell_type": "code",
   "execution_count": 276,
   "metadata": {
    "collapsed": false
   },
   "outputs": [
    {
     "data": {
      "image/png": "[encoded data removed]",
      "text/plain": [
       "<matplotlib.figure.Figure at 0x120fc46d8>"
      ]
     },
     "metadata": {},
     "output_type": "display_data"
    },
    {
     "data": {
      "image/png": "[encoded data removed]",
      "text/plain": [
       "<matplotlib.figure.Figure at 0x12643b1d0>"
      ]
     },
     "metadata": {},
     "output_type": "display_data"
    },
    {
     "data": {
      "image/png": "[encoded data removed]",
      "text/plain": [
       "<matplotlib.figure.Figure at 0x13354eb70>"
      ]
     },
     "metadata": {},
     "output_type": "display_data"
    }
   ],
   "source": [
    "# ex 1\n",
    "hy = y_conv_32.eval(session=sess, feed_dict={x: img_noisy[None, 0], keep_prob: 1.0})\n",
    "plt.subplot(1,3,1)\n",
    "plt.title('x')\n",
    "plt.imshow(unpackrw(img_noisy[0], 28, 28), cmap='gray')\n",
    "\n",
    "plt.subplot(1,3,2)\n",
    "plt.title('y(x)')\n",
    "plt.imshow(unpackrw(hy, 28, 28), cmap='gray')\n",
    "\n",
    "plt.subplot(1,3,3)\n",
    "plt.title('y')\n",
    "plt.imshow(unpackrw(images[0][0], 28, 28), cmap='gray')\n",
    "plt.show()\n",
    "\n",
    "# ex 2\n",
    "hy = y_conv_32.eval(session=sess, feed_dict={x: img_noisy[None, 1], keep_prob: 1.0})\n",
    "plt.subplot(1,3,1)\n",
    "plt.title('x')\n",
    "plt.imshow(unpackrw(img_noisy[1], 28, 28), cmap='gray')\n",
    "\n",
    "plt.subplot(1,3,2)\n",
    "plt.title('y(x)')\n",
    "plt.imshow(unpackrw(hy, 28, 28), cmap='gray')\n",
    "\n",
    "plt.subplot(1,3,3)\n",
    "plt.title('y')\n",
    "plt.imshow(unpackrw(images[0][1], 28, 28), cmap='gray')\n",
    "plt.show()\n",
    "\n",
    "# ex 3\n",
    "hy = y_conv_32.eval(session=sess, feed_dict={x: img_noisy[None, 2], keep_prob: 1.0})\n",
    "plt.subplot(1,3,1)\n",
    "plt.title('x')\n",
    "plt.imshow(unpackrw(img_noisy[2], 28, 28), cmap='gray')\n",
    "\n",
    "plt.subplot(1,3,2)\n",
    "plt.title('y(x)')\n",
    "plt.imshow(unpackrw(hy, 28, 28), cmap='gray')\n",
    "\n",
    "plt.subplot(1,3,3)\n",
    "plt.title('y')\n",
    "plt.imshow(unpackrw(images[0][2], 28, 28), cmap='gray')\n",
    "plt.show()"
   ]
  },
  {
   "cell_type": "markdown",
   "metadata": {},
   "source": [
    "one hidden layer - 64 neurons"
   ]
  },
  {
   "cell_type": "code",
   "execution_count": 346,
   "metadata": {
    "collapsed": true
   },
   "outputs": [],
   "source": [
    "x = tf.placeholder(tf.float32, [None, 784])\n",
    "y_ = tf.placeholder(tf.float32, [None, 784])"
   ]
  },
  {
   "cell_type": "code",
   "execution_count": 347,
   "metadata": {
    "collapsed": false,
    "deletable": true,
    "editable": true
   },
   "outputs": [],
   "source": [
    "# hidden layer 1 - 64 neurons\n",
    "W_conv1 = weight_variable([5,5,1,64])\n",
    "b_conv1 = bias_variable([64])\n",
    "\n",
    "x_image = tf.reshape(x, [-1,28,28,1])\n",
    "\n",
    "h_conv1 = tf.nn.relu(conv2d(x_image, W_conv1) + b_conv1)\n",
    "h_pool1 = max_pool_2x2(h_conv1)\n",
    "h_pool1_flat = tf.reshape(h_pool1, [-1, 14*14*64])\n",
    "\n",
    "# dropout regularization\n",
    "keep_prob = tf.placeholder(tf.float32)\n",
    "h_pool1_flat_drop = tf.nn.dropout(h_pool1_flat, keep_prob)\n",
    "\n",
    "# output layer - 784 neurons\n",
    "# fully connected layer 1\n",
    "W_fc1 = weight_variable([14*14*64, 784])\n",
    "b_fc1 = bias_variable([784])\n",
    "\n",
    "y_conv_64 = tf.nn.relu(tf.matmul(h_pool1_flat_drop, W_fc1) + b_fc1)"
   ]
  },
  {
   "cell_type": "code",
   "execution_count": 379,
   "metadata": {
    "collapsed": false
   },
   "outputs": [
    {
     "name": "stdout",
     "output_type": "stream",
     "text": [
      "step 0, training_accuracy 3.15339\n",
      "step 100, training_accuracy 0.103235\n",
      "step 200, training_accuracy 0.111645\n",
      "step 300, training_accuracy 0.0987519\n",
      "step 400, training_accuracy 0.12325\n",
      "step 500, training_accuracy 0.117371\n",
      "step 600, training_accuracy 0.121913\n",
      "step 700, training_accuracy 0.107847\n",
      "step 800, training_accuracy 0.118563\n",
      "step 900, training_accuracy 0.107153\n",
      "step 1000, training_accuracy 0.110797\n",
      "step 1100, training_accuracy 0.118201\n",
      "step 1200, training_accuracy 0.106611\n",
      "step 1300, training_accuracy 0.115687\n",
      "step 1400, training_accuracy 0.118671\n",
      "step 1500, training_accuracy 0.111072\n",
      "step 1600, training_accuracy 0.0981819\n",
      "step 1700, training_accuracy 0.129266\n",
      "step 1800, training_accuracy 0.104966\n",
      "step 1900, training_accuracy 0.105726\n",
      "step 2000, training_accuracy 0.114576\n",
      "step 2100, training_accuracy 0.108067\n",
      "step 2200, training_accuracy 0.110577\n",
      "step 2300, training_accuracy 0.10656\n",
      "step 2400, training_accuracy 0.121158\n",
      "step 2500, training_accuracy 0.100124\n",
      "step 2600, training_accuracy 0.119411\n",
      "step 2700, training_accuracy 0.110211\n",
      "step 2800, training_accuracy 0.107176\n",
      "step 2900, training_accuracy 0.108547\n",
      "step 3000, training_accuracy 0.106262\n",
      "step 3100, training_accuracy 0.116972\n",
      "step 3200, training_accuracy 0.106757\n",
      "step 3300, training_accuracy 0.109601\n",
      "step 3400, training_accuracy 0.12175\n",
      "step 3500, training_accuracy 0.125637\n",
      "step 3600, training_accuracy 0.108187\n",
      "step 3700, training_accuracy 0.112972\n",
      "step 3800, training_accuracy 0.117722\n",
      "step 3900, training_accuracy 0.117796\n",
      "step 4000, training_accuracy 0.115441\n",
      "step 4100, training_accuracy 0.106445\n",
      "step 4200, training_accuracy 0.100695\n",
      "step 4300, training_accuracy 0.112852\n",
      "step 4400, training_accuracy 0.115433\n",
      "step 4500, training_accuracy 0.119592\n",
      "step 4600, training_accuracy 0.125277\n",
      "step 4700, training_accuracy 0.101099\n",
      "step 4800, training_accuracy 0.111024\n",
      "step 4900, training_accuracy 0.107455\n",
      "step 5000, training_accuracy 0.109715\n",
      "step 5100, training_accuracy 0.104045\n",
      "step 5200, training_accuracy 0.110477\n",
      "step 5300, training_accuracy 0.109608\n",
      "step 5400, training_accuracy 0.109276\n",
      "step 5500, training_accuracy 0.102241\n",
      "step 5600, training_accuracy 0.110192\n",
      "step 5700, training_accuracy 0.105972\n",
      "step 5800, training_accuracy 0.11333\n",
      "step 5900, training_accuracy 0.109413\n",
      "step 6000, training_accuracy 0.108165\n",
      "step 6100, training_accuracy 0.118147\n",
      "step 6200, training_accuracy 0.11729\n",
      "step 6300, training_accuracy 0.11579\n",
      "step 6400, training_accuracy 0.113399\n",
      "step 6500, training_accuracy 0.111464\n",
      "step 6600, training_accuracy 0.109113\n",
      "step 6700, training_accuracy 0.121503\n",
      "step 6800, training_accuracy 0.106292\n",
      "step 6900, training_accuracy 0.11039\n",
      "step 7000, training_accuracy 0.116201\n",
      "step 7100, training_accuracy 0.108542\n",
      "step 7200, training_accuracy 0.120085\n",
      "step 7300, training_accuracy 0.111467\n",
      "step 7400, training_accuracy 0.113059\n",
      "step 7500, training_accuracy 0.107015\n",
      "step 7600, training_accuracy 0.102124\n",
      "step 7700, training_accuracy 0.11335\n",
      "step 7800, training_accuracy 0.114785\n",
      "step 7900, training_accuracy 0.109802\n",
      "step 8000, training_accuracy 0.10843\n",
      "step 8100, training_accuracy 0.113341\n",
      "step 8200, training_accuracy 0.105039\n",
      "step 8300, training_accuracy 0.106669\n",
      "step 8400, training_accuracy 0.106908\n",
      "step 8500, training_accuracy 0.109477\n",
      "step 8600, training_accuracy 0.106466\n",
      "step 8700, training_accuracy 0.122686\n",
      "step 8800, training_accuracy 0.126873\n",
      "step 8900, training_accuracy 0.116626\n",
      "step 9000, training_accuracy 0.115208\n",
      "step 9100, training_accuracy 0.104948\n",
      "step 9200, training_accuracy 0.105542\n",
      "step 9300, training_accuracy 0.101857\n",
      "step 9400, training_accuracy 0.11516\n",
      "step 9500, training_accuracy 0.113558\n",
      "step 9600, training_accuracy 0.116107\n",
      "step 9700, training_accuracy 0.118506\n",
      "step 9800, training_accuracy 0.115104\n",
      "step 9900, training_accuracy 0.101654\n",
      "test accuracy 0.109176\n"
     ]
    }
   ],
   "source": [
    "# train and evaluate model\n",
    "mse_loss = tf.losses.mean_squared_error(labels=y_, predictions=y_conv_64)\n",
    "train_step = tf.train.AdamOptimizer(1e-4).minimize(mse_loss)\n",
    "\n",
    "sess.run(tf.global_variables_initializer())\n",
    "for i in range(10000):\n",
    "    batch = mnist.train.next_batch(50)\n",
    "    if (i % 100 == 0):\n",
    "        train_mse = mse_loss.eval(session=sess, feed_dict={x: noiseBatch(batch[0]), y_: batch[0], keep_prob: 1.0})\n",
    "        print(\"step %d, training_accuracy %g\"%(i, train_mse))\n",
    "    train_step.run(session=sess, feed_dict={x: noiseBatch(batch[0]), y_: batch[0], keep_prob: 0.5})\n",
    "print(\"test accuracy %g\"%mse_loss.eval(session=sess, feed_dict={x: noiseBatch(batch[0]), y_: batch[0], keep_prob: 1.0}))"
   ]
  },
  {
   "cell_type": "code",
   "execution_count": 390,
   "metadata": {
    "collapsed": false
   },
   "outputs": [
    {
     "data": {
      "image/png": "[encoded data removed]",
      "text/plain": [
       "<matplotlib.figure.Figure at 0x17007b128>"
      ]
     },
     "metadata": {},
     "output_type": "display_data"
    },
    {
     "data": {
      "image/png": "[encoded data removed]",
      "text/plain": [
       "<matplotlib.figure.Figure at 0x16ba3d780>"
      ]
     },
     "metadata": {},
     "output_type": "display_data"
    },
    {
     "data": {
      "image/png": "[encoded data removed]",
      "text/plain": [
       "<matplotlib.figure.Figure at 0x16facd7f0>"
      ]
     },
     "metadata": {},
     "output_type": "display_data"
    }
   ],
   "source": [
    "# ex 1\n",
    "hy = y_conv_64.eval(session=sess, feed_dict={x: img_noisy[None, 0], keep_prob: 1.0})\n",
    "plt.subplot(1,3,1)\n",
    "plt.title('x')\n",
    "plt.imshow(unpackrw(img_noisy[0], 28, 28), cmap='gray')\n",
    "\n",
    "plt.subplot(1,3,2)\n",
    "plt.title('y(x)')\n",
    "plt.imshow(unpackrw(hy, 28, 28), cmap='gray')\n",
    "\n",
    "plt.subplot(1,3,3)\n",
    "plt.title('y')\n",
    "plt.imshow(unpackrw(images[0][0], 28, 28), cmap='gray')\n",
    "plt.show()\n",
    "\n",
    "# ex 2\n",
    "hy = y_conv_64.eval(session=sess, feed_dict={x: img_noisy[None, 1], keep_prob: 1.0})\n",
    "plt.subplot(1,3,1)\n",
    "plt.title('x')\n",
    "plt.imshow(unpackrw(img_noisy[1], 28, 28), cmap='gray')\n",
    "\n",
    "plt.subplot(1,3,2)\n",
    "plt.title('y(x)')\n",
    "plt.imshow(unpackrw(hy, 28, 28), cmap='gray')\n",
    "\n",
    "plt.subplot(1,3,3)\n",
    "plt.title('y')\n",
    "plt.imshow(unpackrw(images[0][1], 28, 28), cmap='gray')\n",
    "plt.show()\n",
    "\n",
    "# ex 3\n",
    "hy = y_conv_64.eval(session=sess, feed_dict={x: img_noisy[None, 2], keep_prob: 1.0})\n",
    "plt.subplot(1,3,1)\n",
    "plt.title('x')\n",
    "plt.imshow(unpackrw(img_noisy[2], 28, 28), cmap='gray')\n",
    "\n",
    "plt.subplot(1,3,2)\n",
    "plt.title('y(x)')\n",
    "plt.imshow(unpackrw(hy, 28, 28), cmap='gray')\n",
    "\n",
    "plt.subplot(1,3,3)\n",
    "plt.title('y')\n",
    "plt.imshow(unpackrw(images[0][2], 28, 28), cmap='gray')\n",
    "plt.show()"
   ]
  },
  {
   "cell_type": "markdown",
   "metadata": {},
   "source": [
    "one hidden layer - 128 neurons"
   ]
  },
  {
   "cell_type": "code",
   "execution_count": 283,
   "metadata": {
    "collapsed": true
   },
   "outputs": [],
   "source": [
    "x = tf.placeholder(tf.float32, [None, 784])\n",
    "y_ = tf.placeholder(tf.float32, [None, 784])"
   ]
  },
  {
   "cell_type": "code",
   "execution_count": 286,
   "metadata": {
    "collapsed": true
   },
   "outputs": [],
   "source": [
    "# hidden layer 1 - 128 neurons\n",
    "W_conv1 = weight_variable([5,5,1,128])\n",
    "b_conv1 = bias_variable([128])\n",
    "\n",
    "x_image = tf.reshape(x, [-1,28,28,1])\n",
    "\n",
    "h_conv1 = tf.nn.relu(conv2d(x_image, W_conv1) + b_conv1)\n",
    "h_pool1 = max_pool_2x2(h_conv1)\n",
    "h_pool1_flat = tf.reshape(h_pool1, [-1, 14*14*128])\n",
    "\n",
    "# dropout regularization\n",
    "keep_prob = tf.placeholder(tf.float32)\n",
    "h_pool1_flat_drop = tf.nn.dropout(h_pool1_flat, keep_prob)\n",
    "\n",
    "# output layer - 784 neurons\n",
    "# fully connected layer 1\n",
    "W_fc1 = weight_variable([14*14*128, 784])\n",
    "b_fc1 = bias_variable([784])\n",
    "\n",
    "y_conv_128 = tf.nn.relu(tf.matmul(h_pool1_flat_drop, W_fc1) + b_fc1)"
   ]
  },
  {
   "cell_type": "code",
   "execution_count": 287,
   "metadata": {
    "collapsed": false
   },
   "outputs": [
    {
     "name": "stdout",
     "output_type": "stream",
     "text": [
      "step 0, training_accuracy 5.72412\n",
      "step 100, training_accuracy 0.111077\n",
      "step 200, training_accuracy 0.115472\n",
      "step 300, training_accuracy 0.111702\n",
      "step 400, training_accuracy 0.125141\n",
      "step 500, training_accuracy 0.112711\n",
      "step 600, training_accuracy 0.112155\n",
      "step 700, training_accuracy 0.120207\n",
      "step 800, training_accuracy 0.12231\n",
      "step 900, training_accuracy 0.125184\n",
      "step 1000, training_accuracy 0.119804\n",
      "step 1100, training_accuracy 0.104905\n",
      "step 1200, training_accuracy 0.127083\n",
      "step 1300, training_accuracy 0.107419\n",
      "step 1400, training_accuracy 0.115794\n",
      "step 1500, training_accuracy 0.103595\n",
      "step 1600, training_accuracy 0.122074\n",
      "step 1700, training_accuracy 0.110722\n",
      "step 1800, training_accuracy 0.103873\n",
      "step 1900, training_accuracy 0.107896\n",
      "step 2000, training_accuracy 0.109229\n",
      "step 2100, training_accuracy 0.100485\n",
      "step 2200, training_accuracy 0.114408\n",
      "step 2300, training_accuracy 0.120242\n",
      "step 2400, training_accuracy 0.109786\n",
      "step 2500, training_accuracy 0.115461\n",
      "step 2600, training_accuracy 0.115543\n",
      "step 2700, training_accuracy 0.116048\n",
      "step 2800, training_accuracy 0.111306\n",
      "step 2900, training_accuracy 0.109596\n",
      "step 3000, training_accuracy 0.111438\n",
      "step 3100, training_accuracy 0.116975\n",
      "step 3200, training_accuracy 0.102697\n",
      "step 3300, training_accuracy 0.108332\n",
      "step 3400, training_accuracy 0.127494\n",
      "step 3500, training_accuracy 0.114371\n",
      "step 3600, training_accuracy 0.107717\n",
      "step 3700, training_accuracy 0.128517\n",
      "step 3800, training_accuracy 0.11635\n",
      "step 3900, training_accuracy 0.112341\n",
      "step 4000, training_accuracy 0.122953\n",
      "step 4100, training_accuracy 0.104266\n",
      "step 4200, training_accuracy 0.120948\n",
      "step 4300, training_accuracy 0.116051\n",
      "step 4400, training_accuracy 0.104351\n",
      "step 4500, training_accuracy 0.118012\n",
      "step 4600, training_accuracy 0.109982\n",
      "step 4700, training_accuracy 0.130525\n",
      "step 4800, training_accuracy 0.105856\n",
      "step 4900, training_accuracy 0.115593\n",
      "step 5000, training_accuracy 0.106054\n",
      "step 5100, training_accuracy 0.116682\n",
      "step 5200, training_accuracy 0.115399\n",
      "step 5300, training_accuracy 0.112111\n",
      "step 5400, training_accuracy 0.10793\n",
      "step 5500, training_accuracy 0.115845\n",
      "step 5600, training_accuracy 0.118892\n",
      "step 5700, training_accuracy 0.116466\n",
      "step 5800, training_accuracy 0.115254\n",
      "step 5900, training_accuracy 0.109929\n",
      "step 6000, training_accuracy 0.118498\n",
      "step 6100, training_accuracy 0.110276\n",
      "step 6200, training_accuracy 0.110251\n",
      "step 6300, training_accuracy 0.115983\n",
      "step 6400, training_accuracy 0.114693\n",
      "step 6500, training_accuracy 0.118096\n",
      "step 6600, training_accuracy 0.118898\n",
      "step 6700, training_accuracy 0.127499\n",
      "step 6800, training_accuracy 0.108999\n",
      "step 6900, training_accuracy 0.117374\n",
      "step 7000, training_accuracy 0.113642\n",
      "step 7100, training_accuracy 0.109174\n",
      "step 7200, training_accuracy 0.127944\n",
      "step 7300, training_accuracy 0.11004\n",
      "step 7400, training_accuracy 0.122394\n",
      "step 7500, training_accuracy 0.128515\n",
      "step 7600, training_accuracy 0.110993\n",
      "step 7700, training_accuracy 0.117994\n",
      "step 7800, training_accuracy 0.110324\n",
      "step 7900, training_accuracy 0.112529\n",
      "step 8000, training_accuracy 0.110614\n",
      "step 8100, training_accuracy 0.110261\n",
      "step 8200, training_accuracy 0.123005\n",
      "step 8300, training_accuracy 0.123175\n",
      "step 8400, training_accuracy 0.125013\n",
      "step 8500, training_accuracy 0.115365\n",
      "step 8600, training_accuracy 0.114529\n",
      "step 8700, training_accuracy 0.119949\n",
      "step 8800, training_accuracy 0.125291\n",
      "step 8900, training_accuracy 0.120956\n",
      "step 9000, training_accuracy 0.124606\n",
      "step 9100, training_accuracy 0.116821\n",
      "step 9200, training_accuracy 0.119972\n",
      "step 9300, training_accuracy 0.116536\n",
      "step 9400, training_accuracy 0.104968\n",
      "step 9500, training_accuracy 0.123404\n",
      "step 9600, training_accuracy 0.117529\n",
      "step 9700, training_accuracy 0.117278\n",
      "step 9800, training_accuracy 0.114603\n",
      "step 9900, training_accuracy 0.108276\n",
      "test accuracy 0.112263\n"
     ]
    }
   ],
   "source": [
    "# train and evaluate model\n",
    "mse_loss = tf.losses.mean_squared_error(labels=y_, predictions=y_conv_128)\n",
    "train_step = tf.train.AdamOptimizer(1e-4).minimize(mse_loss)\n",
    "\n",
    "sess.run(tf.global_variables_initializer())\n",
    "for i in range(10000):\n",
    "    batch = mnist.train.next_batch(50)\n",
    "    if (i % 100 == 0):\n",
    "        train_mse = mse_loss.eval(session=sess, feed_dict={x: noiseBatch(batch[0]), y_: batch[0], keep_prob: 1.0})\n",
    "        print(\"step %d, training_accuracy %g\"%(i, train_mse))\n",
    "    train_step.run(session=sess, feed_dict={x: noiseBatch(batch[0]), y_: batch[0], keep_prob: 0.5})\n",
    "print(\"test accuracy %g\"%mse_loss.eval(session=sess, feed_dict={x: noiseBatch(batch[0]), y_: batch[0], keep_prob: 1.0}))"
   ]
  },
  {
   "cell_type": "code",
   "execution_count": 396,
   "metadata": {
    "collapsed": false
   },
   "outputs": [
    {
     "ename": "InvalidArgumentError",
     "evalue": "You must feed a value for placeholder tensor 'Placeholder_81' with dtype float\n\t [[Node: Placeholder_81 = Placeholder[dtype=DT_FLOAT, shape=[], _device=\"/job:localhost/replica:0/task:0/cpu:0\"]()]]\n\nCaused by op 'Placeholder_81', defined at:\n  File \"/Users/hannalu1/anaconda3/envs/tensorflow/lib/python3.5/runpy.py\", line 193, in _run_module_as_main\n    \"__main__\", mod_spec)\n  File \"/Users/hannalu1/anaconda3/envs/tensorflow/lib/python3.5/runpy.py\", line 85, in _run_code\n    exec(code, run_globals)\n  File \"/Users/hannalu1/anaconda3/envs/tensorflow/lib/python3.5/site-packages/ipykernel/__main__.py\", line 3, in <module>\n    app.launch_new_instance()\n  File \"/Users/hannalu1/anaconda3/envs/tensorflow/lib/python3.5/site-packages/traitlets/config/application.py\", line 658, in launch_instance\n    app.start()\n  File \"/Users/hannalu1/anaconda3/envs/tensorflow/lib/python3.5/site-packages/ipykernel/kernelapp.py\", line 474, in start\n    ioloop.IOLoop.instance().start()\n  File \"/Users/hannalu1/anaconda3/envs/tensorflow/lib/python3.5/site-packages/zmq/eventloop/ioloop.py\", line 177, in start\n    super(ZMQIOLoop, self).start()\n  File \"/Users/hannalu1/anaconda3/envs/tensorflow/lib/python3.5/site-packages/tornado/ioloop.py\", line 887, in start\n    handler_func(fd_obj, events)\n  File \"/Users/hannalu1/anaconda3/envs/tensorflow/lib/python3.5/site-packages/tornado/stack_context.py\", line 275, in null_wrapper\n    return fn(*args, **kwargs)\n  File \"/Users/hannalu1/anaconda3/envs/tensorflow/lib/python3.5/site-packages/zmq/eventloop/zmqstream.py\", line 440, in _handle_events\n    self._handle_recv()\n  File \"/Users/hannalu1/anaconda3/envs/tensorflow/lib/python3.5/site-packages/zmq/eventloop/zmqstream.py\", line 472, in _handle_recv\n    self._run_callback(callback, msg)\n  File \"/Users/hannalu1/anaconda3/envs/tensorflow/lib/python3.5/site-packages/zmq/eventloop/zmqstream.py\", line 414, in _run_callback\n    callback(*args, **kwargs)\n  File \"/Users/hannalu1/anaconda3/envs/tensorflow/lib/python3.5/site-packages/tornado/stack_context.py\", line 275, in null_wrapper\n    return fn(*args, **kwargs)\n  File \"/Users/hannalu1/anaconda3/envs/tensorflow/lib/python3.5/site-packages/ipykernel/kernelbase.py\", line 276, in dispatcher\n    return self.dispatch_shell(stream, msg)\n  File \"/Users/hannalu1/anaconda3/envs/tensorflow/lib/python3.5/site-packages/ipykernel/kernelbase.py\", line 228, in dispatch_shell\n    handler(stream, idents, msg)\n  File \"/Users/hannalu1/anaconda3/envs/tensorflow/lib/python3.5/site-packages/ipykernel/kernelbase.py\", line 390, in execute_request\n    user_expressions, allow_stdin)\n  File \"/Users/hannalu1/anaconda3/envs/tensorflow/lib/python3.5/site-packages/ipykernel/ipkernel.py\", line 196, in do_execute\n    res = shell.run_cell(code, store_history=store_history, silent=silent)\n  File \"/Users/hannalu1/anaconda3/envs/tensorflow/lib/python3.5/site-packages/ipykernel/zmqshell.py\", line 501, in run_cell\n    return super(ZMQInteractiveShell, self).run_cell(*args, **kwargs)\n  File \"/Users/hannalu1/anaconda3/envs/tensorflow/lib/python3.5/site-packages/IPython/core/interactiveshell.py\", line 2683, in run_cell\n    interactivity=interactivity, compiler=compiler, result=result)\n  File \"/Users/hannalu1/anaconda3/envs/tensorflow/lib/python3.5/site-packages/IPython/core/interactiveshell.py\", line 2787, in run_ast_nodes\n    if self.run_code(code, result):\n  File \"/Users/hannalu1/anaconda3/envs/tensorflow/lib/python3.5/site-packages/IPython/core/interactiveshell.py\", line 2847, in run_code\n    exec(code_obj, self.user_global_ns, self.user_ns)\n  File \"<ipython-input-283-2a4fb361455d>\", line 1, in <module>\n    x = tf.placeholder(tf.float32, [None, 784])\n  File \"/Users/hannalu1/anaconda3/envs/tensorflow/lib/python3.5/site-packages/tensorflow/python/ops/array_ops.py\", line 1520, in placeholder\n    name=name)\n  File \"/Users/hannalu1/anaconda3/envs/tensorflow/lib/python3.5/site-packages/tensorflow/python/ops/gen_array_ops.py\", line 2149, in _placeholder\n    name=name)\n  File \"/Users/hannalu1/anaconda3/envs/tensorflow/lib/python3.5/site-packages/tensorflow/python/framework/op_def_library.py\", line 763, in apply_op\n    op_def=op_def)\n  File \"/Users/hannalu1/anaconda3/envs/tensorflow/lib/python3.5/site-packages/tensorflow/python/framework/ops.py\", line 2395, in create_op\n    original_op=self._default_original_op, op_def=op_def)\n  File \"/Users/hannalu1/anaconda3/envs/tensorflow/lib/python3.5/site-packages/tensorflow/python/framework/ops.py\", line 1264, in __init__\n    self._traceback = _extract_stack()\n\nInvalidArgumentError (see above for traceback): You must feed a value for placeholder tensor 'Placeholder_81' with dtype float\n\t [[Node: Placeholder_81 = Placeholder[dtype=DT_FLOAT, shape=[], _device=\"/job:localhost/replica:0/task:0/cpu:0\"]()]]\n",
     "output_type": "error",
     "traceback": [
      "\u001b[0;31m---------------------------------------------------------------------------\u001b[0m",
      "\u001b[0;31mInvalidArgumentError\u001b[0m                      Traceback (most recent call last)",
      "\u001b[0;32m/Users/hannalu1/anaconda3/envs/tensorflow/lib/python3.5/site-packages/tensorflow/python/client/session.py\u001b[0m in \u001b[0;36m_do_call\u001b[0;34m(self, fn, *args)\u001b[0m\n\u001b[1;32m   1021\u001b[0m     \u001b[0;32mtry\u001b[0m\u001b[0;34m:\u001b[0m\u001b[0;34m\u001b[0m\u001b[0m\n\u001b[0;32m-> 1022\u001b[0;31m       \u001b[0;32mreturn\u001b[0m \u001b[0mfn\u001b[0m\u001b[0;34m(\u001b[0m\u001b[0;34m*\u001b[0m\u001b[0margs\u001b[0m\u001b[0;34m)\u001b[0m\u001b[0;34m\u001b[0m\u001b[0m\n\u001b[0m\u001b[1;32m   1023\u001b[0m     \u001b[0;32mexcept\u001b[0m \u001b[0merrors\u001b[0m\u001b[0;34m.\u001b[0m\u001b[0mOpError\u001b[0m \u001b[0;32mas\u001b[0m \u001b[0me\u001b[0m\u001b[0;34m:\u001b[0m\u001b[0;34m\u001b[0m\u001b[0m\n",
      "\u001b[0;32m/Users/hannalu1/anaconda3/envs/tensorflow/lib/python3.5/site-packages/tensorflow/python/client/session.py\u001b[0m in \u001b[0;36m_run_fn\u001b[0;34m(session, feed_dict, fetch_list, target_list, options, run_metadata)\u001b[0m\n\u001b[1;32m   1003\u001b[0m                                  \u001b[0mfeed_dict\u001b[0m\u001b[0;34m,\u001b[0m \u001b[0mfetch_list\u001b[0m\u001b[0;34m,\u001b[0m \u001b[0mtarget_list\u001b[0m\u001b[0;34m,\u001b[0m\u001b[0;34m\u001b[0m\u001b[0m\n\u001b[0;32m-> 1004\u001b[0;31m                                  status, run_metadata)\n\u001b[0m\u001b[1;32m   1005\u001b[0m \u001b[0;34m\u001b[0m\u001b[0m\n",
      "\u001b[0;32m/Users/hannalu1/anaconda3/envs/tensorflow/lib/python3.5/contextlib.py\u001b[0m in \u001b[0;36m__exit__\u001b[0;34m(self, type, value, traceback)\u001b[0m\n\u001b[1;32m     65\u001b[0m             \u001b[0;32mtry\u001b[0m\u001b[0;34m:\u001b[0m\u001b[0;34m\u001b[0m\u001b[0m\n\u001b[0;32m---> 66\u001b[0;31m                 \u001b[0mnext\u001b[0m\u001b[0;34m(\u001b[0m\u001b[0mself\u001b[0m\u001b[0;34m.\u001b[0m\u001b[0mgen\u001b[0m\u001b[0;34m)\u001b[0m\u001b[0;34m\u001b[0m\u001b[0m\n\u001b[0m\u001b[1;32m     67\u001b[0m             \u001b[0;32mexcept\u001b[0m \u001b[0mStopIteration\u001b[0m\u001b[0;34m:\u001b[0m\u001b[0;34m\u001b[0m\u001b[0m\n",
      "\u001b[0;32m/Users/hannalu1/anaconda3/envs/tensorflow/lib/python3.5/site-packages/tensorflow/python/framework/errors_impl.py\u001b[0m in \u001b[0;36mraise_exception_on_not_ok_status\u001b[0;34m()\u001b[0m\n\u001b[1;32m    468\u001b[0m           \u001b[0mcompat\u001b[0m\u001b[0;34m.\u001b[0m\u001b[0mas_text\u001b[0m\u001b[0;34m(\u001b[0m\u001b[0mpywrap_tensorflow\u001b[0m\u001b[0;34m.\u001b[0m\u001b[0mTF_Message\u001b[0m\u001b[0;34m(\u001b[0m\u001b[0mstatus\u001b[0m\u001b[0;34m)\u001b[0m\u001b[0;34m)\u001b[0m\u001b[0;34m,\u001b[0m\u001b[0;34m\u001b[0m\u001b[0m\n\u001b[0;32m--> 469\u001b[0;31m           pywrap_tensorflow.TF_GetCode(status))\n\u001b[0m\u001b[1;32m    470\u001b[0m   \u001b[0;32mfinally\u001b[0m\u001b[0;34m:\u001b[0m\u001b[0;34m\u001b[0m\u001b[0m\n",
      "\u001b[0;31mInvalidArgumentError\u001b[0m: You must feed a value for placeholder tensor 'Placeholder_81' with dtype float\n\t [[Node: Placeholder_81 = Placeholder[dtype=DT_FLOAT, shape=[], _device=\"/job:localhost/replica:0/task:0/cpu:0\"]()]]",
      "\nDuring handling of the above exception, another exception occurred:\n",
      "\u001b[0;31mInvalidArgumentError\u001b[0m                      Traceback (most recent call last)",
      "\u001b[0;32m<ipython-input-396-802e9205c1d2>\u001b[0m in \u001b[0;36m<module>\u001b[0;34m()\u001b[0m\n\u001b[1;32m      1\u001b[0m \u001b[0;31m# ex 1\u001b[0m\u001b[0;34m\u001b[0m\u001b[0;34m\u001b[0m\u001b[0m\n\u001b[0;32m----> 2\u001b[0;31m \u001b[0mhy\u001b[0m \u001b[0;34m=\u001b[0m \u001b[0my_conv_128\u001b[0m\u001b[0;34m.\u001b[0m\u001b[0meval\u001b[0m\u001b[0;34m(\u001b[0m\u001b[0msession\u001b[0m\u001b[0;34m=\u001b[0m\u001b[0msess\u001b[0m\u001b[0;34m,\u001b[0m \u001b[0mfeed_dict\u001b[0m\u001b[0;34m=\u001b[0m\u001b[0;34m{\u001b[0m\u001b[0mx\u001b[0m\u001b[0;34m:\u001b[0m \u001b[0mimg_noisy\u001b[0m\u001b[0;34m[\u001b[0m\u001b[0;32mNone\u001b[0m\u001b[0;34m,\u001b[0m \u001b[0;36m0\u001b[0m\u001b[0;34m]\u001b[0m\u001b[0;34m,\u001b[0m \u001b[0mkeep_prob\u001b[0m\u001b[0;34m:\u001b[0m \u001b[0;36m1.0\u001b[0m\u001b[0;34m}\u001b[0m\u001b[0;34m)\u001b[0m\u001b[0;34m\u001b[0m\u001b[0m\n\u001b[0m\u001b[1;32m      3\u001b[0m \u001b[0mplt\u001b[0m\u001b[0;34m.\u001b[0m\u001b[0msubplot\u001b[0m\u001b[0;34m(\u001b[0m\u001b[0;36m1\u001b[0m\u001b[0;34m,\u001b[0m\u001b[0;36m3\u001b[0m\u001b[0;34m,\u001b[0m\u001b[0;36m1\u001b[0m\u001b[0;34m)\u001b[0m\u001b[0;34m\u001b[0m\u001b[0m\n\u001b[1;32m      4\u001b[0m \u001b[0mplt\u001b[0m\u001b[0;34m.\u001b[0m\u001b[0mtitle\u001b[0m\u001b[0;34m(\u001b[0m\u001b[0;34m'x'\u001b[0m\u001b[0;34m)\u001b[0m\u001b[0;34m\u001b[0m\u001b[0m\n\u001b[1;32m      5\u001b[0m \u001b[0mplt\u001b[0m\u001b[0;34m.\u001b[0m\u001b[0mimshow\u001b[0m\u001b[0;34m(\u001b[0m\u001b[0munpackrw\u001b[0m\u001b[0;34m(\u001b[0m\u001b[0mimg_noisy\u001b[0m\u001b[0;34m[\u001b[0m\u001b[0;36m0\u001b[0m\u001b[0;34m]\u001b[0m\u001b[0;34m,\u001b[0m \u001b[0;36m28\u001b[0m\u001b[0;34m,\u001b[0m \u001b[0;36m28\u001b[0m\u001b[0;34m)\u001b[0m\u001b[0;34m,\u001b[0m \u001b[0mcmap\u001b[0m\u001b[0;34m=\u001b[0m\u001b[0;34m'gray'\u001b[0m\u001b[0;34m)\u001b[0m\u001b[0;34m\u001b[0m\u001b[0m\n",
      "\u001b[0;32m/Users/hannalu1/anaconda3/envs/tensorflow/lib/python3.5/site-packages/tensorflow/python/framework/ops.py\u001b[0m in \u001b[0;36meval\u001b[0;34m(self, feed_dict, session)\u001b[0m\n\u001b[1;32m    579\u001b[0m \u001b[0;34m\u001b[0m\u001b[0m\n\u001b[1;32m    580\u001b[0m     \"\"\"\n\u001b[0;32m--> 581\u001b[0;31m     \u001b[0;32mreturn\u001b[0m \u001b[0m_eval_using_default_session\u001b[0m\u001b[0;34m(\u001b[0m\u001b[0mself\u001b[0m\u001b[0;34m,\u001b[0m \u001b[0mfeed_dict\u001b[0m\u001b[0;34m,\u001b[0m \u001b[0mself\u001b[0m\u001b[0;34m.\u001b[0m\u001b[0mgraph\u001b[0m\u001b[0;34m,\u001b[0m \u001b[0msession\u001b[0m\u001b[0;34m)\u001b[0m\u001b[0;34m\u001b[0m\u001b[0m\n\u001b[0m\u001b[1;32m    582\u001b[0m \u001b[0;34m\u001b[0m\u001b[0m\n\u001b[1;32m    583\u001b[0m \u001b[0;34m\u001b[0m\u001b[0m\n",
      "\u001b[0;32m/Users/hannalu1/anaconda3/envs/tensorflow/lib/python3.5/site-packages/tensorflow/python/framework/ops.py\u001b[0m in \u001b[0;36m_eval_using_default_session\u001b[0;34m(tensors, feed_dict, graph, session)\u001b[0m\n\u001b[1;32m   3795\u001b[0m                        \u001b[0;34m\"the tensor's graph is different from the session's \"\u001b[0m\u001b[0;34m\u001b[0m\u001b[0m\n\u001b[1;32m   3796\u001b[0m                        \"graph.\")\n\u001b[0;32m-> 3797\u001b[0;31m   \u001b[0;32mreturn\u001b[0m \u001b[0msession\u001b[0m\u001b[0;34m.\u001b[0m\u001b[0mrun\u001b[0m\u001b[0;34m(\u001b[0m\u001b[0mtensors\u001b[0m\u001b[0;34m,\u001b[0m \u001b[0mfeed_dict\u001b[0m\u001b[0;34m)\u001b[0m\u001b[0;34m\u001b[0m\u001b[0m\n\u001b[0m\u001b[1;32m   3798\u001b[0m \u001b[0;34m\u001b[0m\u001b[0m\n\u001b[1;32m   3799\u001b[0m \u001b[0;34m\u001b[0m\u001b[0m\n",
      "\u001b[0;32m/Users/hannalu1/anaconda3/envs/tensorflow/lib/python3.5/site-packages/tensorflow/python/client/session.py\u001b[0m in \u001b[0;36mrun\u001b[0;34m(self, fetches, feed_dict, options, run_metadata)\u001b[0m\n\u001b[1;32m    765\u001b[0m     \u001b[0;32mtry\u001b[0m\u001b[0;34m:\u001b[0m\u001b[0;34m\u001b[0m\u001b[0m\n\u001b[1;32m    766\u001b[0m       result = self._run(None, fetches, feed_dict, options_ptr,\n\u001b[0;32m--> 767\u001b[0;31m                          run_metadata_ptr)\n\u001b[0m\u001b[1;32m    768\u001b[0m       \u001b[0;32mif\u001b[0m \u001b[0mrun_metadata\u001b[0m\u001b[0;34m:\u001b[0m\u001b[0;34m\u001b[0m\u001b[0m\n\u001b[1;32m    769\u001b[0m         \u001b[0mproto_data\u001b[0m \u001b[0;34m=\u001b[0m \u001b[0mtf_session\u001b[0m\u001b[0;34m.\u001b[0m\u001b[0mTF_GetBuffer\u001b[0m\u001b[0;34m(\u001b[0m\u001b[0mrun_metadata_ptr\u001b[0m\u001b[0;34m)\u001b[0m\u001b[0;34m\u001b[0m\u001b[0m\n",
      "\u001b[0;32m/Users/hannalu1/anaconda3/envs/tensorflow/lib/python3.5/site-packages/tensorflow/python/client/session.py\u001b[0m in \u001b[0;36m_run\u001b[0;34m(self, handle, fetches, feed_dict, options, run_metadata)\u001b[0m\n\u001b[1;32m    963\u001b[0m     \u001b[0;32mif\u001b[0m \u001b[0mfinal_fetches\u001b[0m \u001b[0;32mor\u001b[0m \u001b[0mfinal_targets\u001b[0m\u001b[0;34m:\u001b[0m\u001b[0;34m\u001b[0m\u001b[0m\n\u001b[1;32m    964\u001b[0m       results = self._do_run(handle, final_targets, final_fetches,\n\u001b[0;32m--> 965\u001b[0;31m                              feed_dict_string, options, run_metadata)\n\u001b[0m\u001b[1;32m    966\u001b[0m     \u001b[0;32melse\u001b[0m\u001b[0;34m:\u001b[0m\u001b[0;34m\u001b[0m\u001b[0m\n\u001b[1;32m    967\u001b[0m       \u001b[0mresults\u001b[0m \u001b[0;34m=\u001b[0m \u001b[0;34m[\u001b[0m\u001b[0;34m]\u001b[0m\u001b[0;34m\u001b[0m\u001b[0m\n",
      "\u001b[0;32m/Users/hannalu1/anaconda3/envs/tensorflow/lib/python3.5/site-packages/tensorflow/python/client/session.py\u001b[0m in \u001b[0;36m_do_run\u001b[0;34m(self, handle, target_list, fetch_list, feed_dict, options, run_metadata)\u001b[0m\n\u001b[1;32m   1013\u001b[0m     \u001b[0;32mif\u001b[0m \u001b[0mhandle\u001b[0m \u001b[0;32mis\u001b[0m \u001b[0;32mNone\u001b[0m\u001b[0;34m:\u001b[0m\u001b[0;34m\u001b[0m\u001b[0m\n\u001b[1;32m   1014\u001b[0m       return self._do_call(_run_fn, self._session, feed_dict, fetch_list,\n\u001b[0;32m-> 1015\u001b[0;31m                            target_list, options, run_metadata)\n\u001b[0m\u001b[1;32m   1016\u001b[0m     \u001b[0;32melse\u001b[0m\u001b[0;34m:\u001b[0m\u001b[0;34m\u001b[0m\u001b[0m\n\u001b[1;32m   1017\u001b[0m       return self._do_call(_prun_fn, self._session, handle, feed_dict,\n",
      "\u001b[0;32m/Users/hannalu1/anaconda3/envs/tensorflow/lib/python3.5/site-packages/tensorflow/python/client/session.py\u001b[0m in \u001b[0;36m_do_call\u001b[0;34m(self, fn, *args)\u001b[0m\n\u001b[1;32m   1033\u001b[0m         \u001b[0;32mexcept\u001b[0m \u001b[0mKeyError\u001b[0m\u001b[0;34m:\u001b[0m\u001b[0;34m\u001b[0m\u001b[0m\n\u001b[1;32m   1034\u001b[0m           \u001b[0;32mpass\u001b[0m\u001b[0;34m\u001b[0m\u001b[0m\n\u001b[0;32m-> 1035\u001b[0;31m       \u001b[0;32mraise\u001b[0m \u001b[0mtype\u001b[0m\u001b[0;34m(\u001b[0m\u001b[0me\u001b[0m\u001b[0;34m)\u001b[0m\u001b[0;34m(\u001b[0m\u001b[0mnode_def\u001b[0m\u001b[0;34m,\u001b[0m \u001b[0mop\u001b[0m\u001b[0;34m,\u001b[0m \u001b[0mmessage\u001b[0m\u001b[0;34m)\u001b[0m\u001b[0;34m\u001b[0m\u001b[0m\n\u001b[0m\u001b[1;32m   1036\u001b[0m \u001b[0;34m\u001b[0m\u001b[0m\n\u001b[1;32m   1037\u001b[0m   \u001b[0;32mdef\u001b[0m \u001b[0m_extend_graph\u001b[0m\u001b[0;34m(\u001b[0m\u001b[0mself\u001b[0m\u001b[0;34m)\u001b[0m\u001b[0;34m:\u001b[0m\u001b[0;34m\u001b[0m\u001b[0m\n",
      "\u001b[0;31mInvalidArgumentError\u001b[0m: You must feed a value for placeholder tensor 'Placeholder_81' with dtype float\n\t [[Node: Placeholder_81 = Placeholder[dtype=DT_FLOAT, shape=[], _device=\"/job:localhost/replica:0/task:0/cpu:0\"]()]]\n\nCaused by op 'Placeholder_81', defined at:\n  File \"/Users/hannalu1/anaconda3/envs/tensorflow/lib/python3.5/runpy.py\", line 193, in _run_module_as_main\n    \"__main__\", mod_spec)\n  File \"/Users/hannalu1/anaconda3/envs/tensorflow/lib/python3.5/runpy.py\", line 85, in _run_code\n    exec(code, run_globals)\n  File \"/Users/hannalu1/anaconda3/envs/tensorflow/lib/python3.5/site-packages/ipykernel/__main__.py\", line 3, in <module>\n    app.launch_new_instance()\n  File \"/Users/hannalu1/anaconda3/envs/tensorflow/lib/python3.5/site-packages/traitlets/config/application.py\", line 658, in launch_instance\n    app.start()\n  File \"/Users/hannalu1/anaconda3/envs/tensorflow/lib/python3.5/site-packages/ipykernel/kernelapp.py\", line 474, in start\n    ioloop.IOLoop.instance().start()\n  File \"/Users/hannalu1/anaconda3/envs/tensorflow/lib/python3.5/site-packages/zmq/eventloop/ioloop.py\", line 177, in start\n    super(ZMQIOLoop, self).start()\n  File \"/Users/hannalu1/anaconda3/envs/tensorflow/lib/python3.5/site-packages/tornado/ioloop.py\", line 887, in start\n    handler_func(fd_obj, events)\n  File \"/Users/hannalu1/anaconda3/envs/tensorflow/lib/python3.5/site-packages/tornado/stack_context.py\", line 275, in null_wrapper\n    return fn(*args, **kwargs)\n  File \"/Users/hannalu1/anaconda3/envs/tensorflow/lib/python3.5/site-packages/zmq/eventloop/zmqstream.py\", line 440, in _handle_events\n    self._handle_recv()\n  File \"/Users/hannalu1/anaconda3/envs/tensorflow/lib/python3.5/site-packages/zmq/eventloop/zmqstream.py\", line 472, in _handle_recv\n    self._run_callback(callback, msg)\n  File \"/Users/hannalu1/anaconda3/envs/tensorflow/lib/python3.5/site-packages/zmq/eventloop/zmqstream.py\", line 414, in _run_callback\n    callback(*args, **kwargs)\n  File \"/Users/hannalu1/anaconda3/envs/tensorflow/lib/python3.5/site-packages/tornado/stack_context.py\", line 275, in null_wrapper\n    return fn(*args, **kwargs)\n  File \"/Users/hannalu1/anaconda3/envs/tensorflow/lib/python3.5/site-packages/ipykernel/kernelbase.py\", line 276, in dispatcher\n    return self.dispatch_shell(stream, msg)\n  File \"/Users/hannalu1/anaconda3/envs/tensorflow/lib/python3.5/site-packages/ipykernel/kernelbase.py\", line 228, in dispatch_shell\n    handler(stream, idents, msg)\n  File \"/Users/hannalu1/anaconda3/envs/tensorflow/lib/python3.5/site-packages/ipykernel/kernelbase.py\", line 390, in execute_request\n    user_expressions, allow_stdin)\n  File \"/Users/hannalu1/anaconda3/envs/tensorflow/lib/python3.5/site-packages/ipykernel/ipkernel.py\", line 196, in do_execute\n    res = shell.run_cell(code, store_history=store_history, silent=silent)\n  File \"/Users/hannalu1/anaconda3/envs/tensorflow/lib/python3.5/site-packages/ipykernel/zmqshell.py\", line 501, in run_cell\n    return super(ZMQInteractiveShell, self).run_cell(*args, **kwargs)\n  File \"/Users/hannalu1/anaconda3/envs/tensorflow/lib/python3.5/site-packages/IPython/core/interactiveshell.py\", line 2683, in run_cell\n    interactivity=interactivity, compiler=compiler, result=result)\n  File \"/Users/hannalu1/anaconda3/envs/tensorflow/lib/python3.5/site-packages/IPython/core/interactiveshell.py\", line 2787, in run_ast_nodes\n    if self.run_code(code, result):\n  File \"/Users/hannalu1/anaconda3/envs/tensorflow/lib/python3.5/site-packages/IPython/core/interactiveshell.py\", line 2847, in run_code\n    exec(code_obj, self.user_global_ns, self.user_ns)\n  File \"<ipython-input-283-2a4fb361455d>\", line 1, in <module>\n    x = tf.placeholder(tf.float32, [None, 784])\n  File \"/Users/hannalu1/anaconda3/envs/tensorflow/lib/python3.5/site-packages/tensorflow/python/ops/array_ops.py\", line 1520, in placeholder\n    name=name)\n  File \"/Users/hannalu1/anaconda3/envs/tensorflow/lib/python3.5/site-packages/tensorflow/python/ops/gen_array_ops.py\", line 2149, in _placeholder\n    name=name)\n  File \"/Users/hannalu1/anaconda3/envs/tensorflow/lib/python3.5/site-packages/tensorflow/python/framework/op_def_library.py\", line 763, in apply_op\n    op_def=op_def)\n  File \"/Users/hannalu1/anaconda3/envs/tensorflow/lib/python3.5/site-packages/tensorflow/python/framework/ops.py\", line 2395, in create_op\n    original_op=self._default_original_op, op_def=op_def)\n  File \"/Users/hannalu1/anaconda3/envs/tensorflow/lib/python3.5/site-packages/tensorflow/python/framework/ops.py\", line 1264, in __init__\n    self._traceback = _extract_stack()\n\nInvalidArgumentError (see above for traceback): You must feed a value for placeholder tensor 'Placeholder_81' with dtype float\n\t [[Node: Placeholder_81 = Placeholder[dtype=DT_FLOAT, shape=[], _device=\"/job:localhost/replica:0/task:0/cpu:0\"]()]]\n"
     ]
    }
   ],
   "source": [
    "# ex 1\n",
    "hy = y_conv_128.eval(session=sess, feed_dict={x: img_noisy[None, 0], keep_prob: 1.0})\n",
    "plt.subplot(1,3,1)\n",
    "plt.title('x')\n",
    "plt.imshow(unpackrw(img_noisy[0], 28, 28), cmap='gray')\n",
    "\n",
    "plt.subplot(1,3,2)\n",
    "plt.title('y(x)')\n",
    "plt.imshow(unpackrw(hy, 28, 28), cmap='gray')\n",
    "\n",
    "plt.subplot(1,3,3)\n",
    "plt.title('y')\n",
    "plt.imshow(unpackrw(images[0][0], 28, 28), cmap='gray')\n",
    "plt.show()\n",
    "\n",
    "# ex 2\n",
    "hy = y_conv_128.eval(session=sess, feed_dict={x: img_noisy[None, 1], keep_prob: 1.0})\n",
    "plt.subplot(1,3,1)\n",
    "plt.title('x')\n",
    "plt.imshow(unpackrw(img_noisy[1], 28, 28), cmap='gray')\n",
    "\n",
    "plt.subplot(1,3,2)\n",
    "plt.title('y(x)')\n",
    "plt.imshow(unpackrw(hy, 28, 28), cmap='gray')\n",
    "\n",
    "plt.subplot(1,3,3)\n",
    "plt.title('y')\n",
    "plt.imshow(unpackrw(images[0][1], 28, 28), cmap='gray')\n",
    "plt.show()\n",
    "\n",
    "# ex 3\n",
    "hy = y_conv_128.eval(session=sess, feed_dict={x: img_noisy[None, 2], keep_prob: 1.0})\n",
    "plt.subplot(1,3,1)\n",
    "plt.title('x')\n",
    "plt.imshow(unpackrw(img_noisy[2], 28, 28), cmap='gray')\n",
    "\n",
    "plt.subplot(1,3,2)\n",
    "plt.title('y(x)')\n",
    "plt.imshow(unpackrw(hy, 28, 28), cmap='gray')\n",
    "\n",
    "plt.subplot(1,3,3)\n",
    "plt.title('y')\n",
    "plt.imshow(unpackrw(images[0][2], 28, 28), cmap='gray')\n",
    "plt.show()"
   ]
  },
  {
   "cell_type": "markdown",
   "metadata": {},
   "source": [
    "32 neurons seems to be the best performing autoencoder for me. At 64 and 128 however the output image is black, which could mean I'm either overfitting or it could have to do with my non-evenly distributed trainset of 10,000 . \n",
    "  \n",
    "Generally speaking, the neural net should outperform the MMSE because it can account for non-linearities in the image structure"
   ]
  },
  {
   "cell_type": "markdown",
   "metadata": {
    "deletable": true,
    "editable": true
   },
   "source": [
    "#5. Plot the MSE performance versus the representation size of the corresponding autoencoder.\n",
    "By representation size we mean the number of neurons in the last layer of the encoder part."
   ]
  },
  {
   "cell_type": "code",
   "execution_count": 406,
   "metadata": {
    "collapsed": false
   },
   "outputs": [
    {
     "data": {
      "text/plain": [
       "[<matplotlib.text.Text at 0x16b9af5f8>,\n",
       " <matplotlib.text.Text at 0x145d27e48>,\n",
       " <matplotlib.text.Text at 0x228a4cbe0>,\n",
       " <matplotlib.text.Text at 0x228a4c400>]"
      ]
     },
     "execution_count": 406,
     "metadata": {},
     "output_type": "execute_result"
    },
    {
     "data": {
      "image/png": "[encoded data removed]",
      "text/plain": [
       "<matplotlib.figure.Figure at 0x152b9c940>"
      ]
     },
     "metadata": {},
     "output_type": "display_data"
    }
   ],
   "source": [
    "n_neurons = np.zeros((1,M))\n",
    "n_neurons[0,0] = 32\n",
    "n_neurons[0,1] = 64\n",
    "n_neurons[0,2] = 128\n",
    "\n",
    "mse = np.zeros((1,M))\n",
    "mse[0,0] = 0.00695023\n",
    "mse[0,1] = 0.122196\n",
    "mse[0,2] = 0.112263\n",
    "\n",
    "N = 4\n",
    "mse_means = (0.007873, 0.00695023, 0.122196, 0.112263)\n",
    "mse_std = (0, 0 ,0, 0)\n",
    "\n",
    "ind = np.arange(N)  # the x locations for the groups\n",
    "width = 0.35       # the width of the bars\n",
    "\n",
    "fig, ax = plt.subplots()\n",
    "rects1 = ax.bar(ind + width/2, mse_means, width, color='r', yerr=mse_std)\n",
    "\n",
    "# add some text for labels, title and axes ticks\n",
    "ax.set_ylabel('MSE/pixel')\n",
    "ax.set_title('MSE performance vs representation size')\n",
    "ax.set_xticks(ind + width / 2)\n",
    "ax.set_xticklabels(('16', '32', '64', '128'))"
   ]
  },
  {
   "cell_type": "markdown",
   "metadata": {
    "deletable": true,
    "editable": true
   },
   "source": [
    "#6. Plot MSE Performance versus SNR for MMSE affine estimator and an auto-encoder. Put\n",
    "them in the same plot with different legends"
   ]
  },
  {
   "cell_type": "code",
   "execution_count": 408,
   "metadata": {
    "collapsed": false
   },
   "outputs": [],
   "source": [
    "# Plot performance curve\n",
    "\n",
    "# Adjustable parameters --------\n",
    "noisetype = 'g'\n",
    "SNRs =-40\n",
    "SNRe = 20\n",
    "numpdig =  20 # number of test examples to use per digit\n",
    "# ------------------------------\n",
    "\n",
    "numdig = end_dig - start_dig\n",
    "M = int((SNRe-SNRs)/2)\n",
    "testSNR = np.zeros((1,M))\n",
    "testmse = np.zeros((1,M))\n",
    "testster = np.zeros((1,M))\n",
    "mseth = np.zeros((1,M))\n",
    "tempmse = np.zeros((1,numpdig*numdig))\n",
    "y = np.zeros((numpx,1))\n",
    "muW = 0.0\n",
    "\n",
    "for kk in range(M):\n",
    "    testSNR[0,kk] = SNRs + 2*kk\n",
    "    sig2W = EnY/(numpx*10**(testSNR[0,kk]/10))\n",
    "    As = Astar(SigY,sig2W)\n",
    "    mseth[0,kk] = np.trace( (np.eye(numpx) - 2*As + (As.dot(As))).dot(SigY) + sig2W*As.dot(As.T))/numpx  \n",
    "    for jj in range(numdig):\n",
    "        for mm in range(numpdig):\n",
    "            if noisetype == 'u':\n",
    "                sab = 2*muW\n",
    "                dab = np.sqrt(12*sig2W)\n",
    "                b = (sab+dab)/2.0\n",
    "                a = (sab-dab)/2.0\n",
    "                w = np.random.uniform(a,b,(numpx,1))\n",
    "            else:\n",
    "                w = np.random.normal(muW,np.sqrt(sig2W),(numpx,1))\n",
    "                \n",
    "            y[:,0] = mnist.train.images[jj*100 + mm,:]\n",
    "            x = y + w\n",
    "            hy = np.dot(As,x-muY) + muY\n",
    "            tempmse[0, numpdig*jj + mm] = (y-hy).T.dot(y-hy)\n",
    "            \n",
    "    # find mean        \n",
    "    testmse[0,kk] = tempmse.mean()/numpx\n",
    "    # find standard error\n",
    "    testster[0,kk] = sp.stats.sem(tempmse[0,:])/numpx"
   ]
  },
  {
   "cell_type": "code",
   "execution_count": 409,
   "metadata": {
    "collapsed": false
   },
   "outputs": [
    {
     "data": {
      "image/png": "[encoded data removed]",
      "text/plain": [
       "<matplotlib.figure.Figure at 0x145d49ef0>"
      ]
     },
     "metadata": {},
     "output_type": "display_data"
    }
   ],
   "source": [
    "# Plot the figure\n",
    "plt.figure(figsize=(6,6))\n",
    "thmse_line, = plt.plot(testSNR[0,:], mseth[0,:],'r-',linewidth=2, label='MSE/pixel theory')\n",
    "exmse_line, = plt.plot(testSNR[0,:],testmse[0,:],'b.--',linewidth=2, label='MSE/pixel exp.')\n",
    "stderr_line, = plt.plot(testSNR[0,:],testmse[0,:] + testster[0,:], 'g-', label='std error')\n",
    "plt.plot(testSNR[0,:],testmse[0,:] - testster[0,:], 'g-')\n",
    "limit_line, = plt.plot([SNRs, SNRe],[EnY/numpx, EnY/numpx],'r--',linewidth=2, label='trace($\\Sigma_Y$)/pixel')\n",
    "plt.legend([exmse_line, stderr_line, thmse_line, limit_line], ['MSE/pixel exp.', '$\\pm$std error', 'MSE/pixel theory', 'trace($\\Sigma_Y$)/pixel'], loc=3)\n",
    "plt.grid('on')\n",
    "plt.xlabel('SNR dB')\n",
    "plt.ylabel('MSE per pixel')\n",
    "if noisetype == 'u':\n",
    "    plt.title('MSE Performance (uniform noise)')\n",
    "else:\n",
    "    plt.title('MSE Performance (Gaussian Noise)')\n",
    "plt.show()      \n",
    "            "
   ]
  },
  {
   "cell_type": "markdown",
   "metadata": {
    "deletable": true,
    "editable": true
   },
   "source": [
    "# 4.3 Box Occlusions"
   ]
  },
  {
   "cell_type": "markdown",
   "metadata": {
    "deletable": true,
    "editable": true
   },
   "source": [
    "#1. Write a general function that computes the MMSE affine estimator to estimate the hidden\n",
    "part of an image given covariance of Y and the indices of the hidden part. You have already\n",
    "done this part in LAB 8 for the MNIST-training data of size 10000. You may\n",
    "repeat your code here and run it for the whole MNIST dataset"
   ]
  },
  {
   "cell_type": "code",
   "execution_count": 302,
   "metadata": {
    "collapsed": true
   },
   "outputs": [],
   "source": [
    "# returns array of hidden indices that form a square with side length window in an nxn image\n",
    "def middle(n, window):\n",
    "    N = n*n\n",
    "    mid = int(n/2)\n",
    "    lo = int(mid - window/2)\n",
    "    hi = int(mid + window/2)\n",
    "    \n",
    "    hidden = []\n",
    "    for i in range(lo*n, hi*n, n):\n",
    "        for j in range(i+lo, i+hi):\n",
    "            hidden.append(j)\n",
    "    return hidden\n",
    "\n",
    "# returns an image with its elements hidden according to a list of indices hidden\n",
    "def hide(img, hidden):\n",
    "    img_new = np.copy(img)\n",
    "    for i in range(0, len(hidden)):\n",
    "        img_new[hidden[i]] = 0\n",
    "    return img_new\n",
    "\n",
    "# returns an estimated image based on its MSE \n",
    "def hidden_MSE(img, muY, SigY, hidden):\n",
    "    # permutation matrix\n",
    "    P = np.zeros(shape=[784, 784], dtype='float64')\n",
    "    n_hidden = len(hidden)\n",
    "    n_total = len(img)\n",
    "    start = n_total - n_hidden\n",
    "    \n",
    "    isHidden = np.zeros(shape=[784, 1], dtype='int')\n",
    "    for i in hidden:\n",
    "        isHidden[i] = 1\n",
    "    \n",
    "    hidden_offset = 0\n",
    "    seen_offset = 0\n",
    "    img_seen = np.zeros(shape=[start,1], dtype='float64')\n",
    "    for i in range(784):\n",
    "        if (isHidden[i]):\n",
    "            P[start+hidden_offset, i] = 1\n",
    "            hidden_offset += 1\n",
    "        else:\n",
    "            P[seen_offset, i] = 1\n",
    "            img_seen[seen_offset, 0] = img[i, 0]\n",
    "            seen_offset += 1\n",
    "\n",
    "    # permute mean and covariance\n",
    "    muY_new = P.dot(muY)\n",
    "    muY_1 = muY_new[:start]\n",
    "    muY_2 = muY_new[start:n_total]\n",
    "    \n",
    "    SigY_new = P.dot(SigY.dot(np.transpose(P)))\n",
    "    SigY_1 = SigY_new[:start, :start]\n",
    "    SigY_21 = SigY_new[start:n_total, :start]\n",
    "    \n",
    "    Astar = SigY_21.dot(np.linalg.pinv(SigY_1))\n",
    "    \n",
    "    # y2(y1) = E21 E1^-1 (y1-mean1) + mean2\n",
    "    img_new = np.zeros(shape=[784,1], dtype='float64')\n",
    "    img_new[:start] = img_seen\n",
    "    img_new[start:n_total] = Astar.dot(img_seen - muY_1) + muY_2\n",
    "    \n",
    "    img_new = np.dot(np.linalg.inv(P), img_new)\n",
    "    return img_new\n",
    "\n",
    "def hiddenBatch(images, hidden):\n",
    "    imgs = np.empty_like(images)\n",
    "    for i in range(50):\n",
    "        imgs[i] = hide(images[i], hidden)\n",
    "    return imgs"
   ]
  },
  {
   "cell_type": "code",
   "execution_count": 317,
   "metadata": {
    "collapsed": false
   },
   "outputs": [
    {
     "name": "stdout",
     "output_type": "stream",
     "text": [
      "[232, 233, 234, 235, 236, 237, 238, 239, 240, 241, 242, 243, 260, 261, 262, 263, 264, 265, 266, 267, 268, 269, 270, 271, 288, 289, 290, 291, 292, 293, 294, 295, 296, 297, 298, 299, 316, 317, 318, 319, 320, 321, 322, 323, 324, 325, 326, 327, 344, 345, 346, 347, 348, 349, 350, 351, 352, 353, 354, 355, 372, 373, 374, 375, 376, 377, 378, 379, 380, 381, 382, 383, 400, 401, 402, 403, 404, 405, 406, 407, 408, 409, 410, 411, 428, 429, 430, 431, 432, 433, 434, 435, 436, 437, 438, 439, 456, 457, 458, 459, 460, 461, 462, 463, 464, 465, 466, 467, 484, 485, 486, 487, 488, 489, 490, 491, 492, 493, 494, 495, 512, 513, 514, 515, 516, 517, 518, 519, 520, 521, 522, 523, 540, 541, 542, 543, 544, 545, 546, 547, 548, 549, 550, 551]\n"
     ]
    },
    {
     "data": {
      "image/png": "[encoded data removed]",
      "text/plain": [
       "<matplotlib.figure.Figure at 0x228afdfd0>"
      ]
     },
     "metadata": {},
     "output_type": "display_data"
    },
    {
     "data": {
      "image/png": "[encoded data removed]",
      "text/plain": [
       "<matplotlib.figure.Figure at 0x228c0ebe0>"
      ]
     },
     "metadata": {},
     "output_type": "display_data"
    }
   ],
   "source": [
    "hidden = middle(28, 12)\n",
    "print(hidden)\n",
    "images = mnist.train.next_batch(50)\n",
    "plt.figure()\n",
    "plt.imshow(unpackrw(images[0][5], 28, 28), cmap='gray')\n",
    "plt.show()\n",
    "\n",
    "img_hidden = hiddenBatch(images[0], hidden)\n",
    "plt.figure()\n",
    "plt.imshow(unpackrw(img_hidden[5], 28, 28), cmap='gray')\n",
    "plt.show()"
   ]
  },
  {
   "cell_type": "markdown",
   "metadata": {
    "deletable": true,
    "editable": true
   },
   "source": [
    "#2. Hide a k×k square at the center of the training images (choose an arbitrary k) and display\n",
    "the MMSE affine estimator. Report the testing performance."
   ]
  },
  {
   "cell_type": "code",
   "execution_count": 294,
   "metadata": {
    "collapsed": false
   },
   "outputs": [
    {
     "data": {
      "image/png": "[encoded data removed]",
      "text/plain": [
       "<matplotlib.figure.Figure at 0x10be90e80>"
      ]
     },
     "metadata": {},
     "output_type": "display_data"
    },
    {
     "data": {
      "image/png": "[encoded data removed]",
      "text/plain": [
       "<matplotlib.figure.Figure at 0x1533af0b8>"
      ]
     },
     "metadata": {},
     "output_type": "display_data"
    },
    {
     "data": {
      "image/png": "[encoded data removed]",
      "text/plain": [
       "<matplotlib.figure.Figure at 0x17010e390>"
      ]
     },
     "metadata": {},
     "output_type": "display_data"
    }
   ],
   "source": [
    "r = np.random.rand(1, 3)\n",
    "i1 = int(r[0, 0]*1000)\n",
    "i2 = int(r[0, 1]*1000)\n",
    "i3 = int(r[0, 2]*1000)\n",
    "\n",
    "img_1 = np.zeros(shape=[784, 1], dtype='float64')\n",
    "img_2 = np.zeros(shape=[784, 1], dtype='float64')\n",
    "img_3 = np.zeros(shape=[784, 1], dtype='float64')\n",
    "\n",
    "img_1[:, 0] = testset[:, i1]\n",
    "img_2[:, 0] = testset[:, i2]\n",
    "img_3[:, 0] = testset[:, i3]\n",
    "\n",
    "# minimum MSE affine estimate\n",
    "hidden = middle(28, 8)\n",
    "\n",
    "img_1 = hide(img_1, hidden)\n",
    "img_2 = hide(img_2, hidden)\n",
    "img_3 = hide(img_3, hidden)\n",
    "\n",
    "img_1_est = hidden_MSE(img_1, muY, SigY, hidden)\n",
    "img_2_est = hidden_MSE(img_2, muY, SigY, hidden)\n",
    "img_3_est = hidden_MSE(img_3, muY, SigY, hidden)\n",
    "\n",
    "# img 1\n",
    "plt.subplot(1,3,1)\n",
    "plt.title('x')\n",
    "plt.imshow(unpackcw(img_1, 28,28), cmap='gray')\n",
    "\n",
    "plt.subplot(1,3,2)\n",
    "plt.title('y(x)')\n",
    "plt.imshow(unpackcw(img_1_est, 28,28), cmap='gray')\n",
    "\n",
    "plt.subplot(1,3,3)\n",
    "plt.title('y(#{})'.format(i1))\n",
    "plt.imshow(np.reshape(testset[:, i1], [28,28], order='F'), cmap='gray')\n",
    "plt.show()\n",
    "\n",
    "# img 2\n",
    "plt.subplot(1,3,1)\n",
    "plt.title('x')\n",
    "plt.imshow(np.reshape(img_2, [28,28], order='F'), cmap='gray')\n",
    "\n",
    "plt.subplot(1,3,2)\n",
    "plt.title('y(x)')\n",
    "plt.imshow(np.reshape(img_2_est, [28,28], order='F'), cmap='gray')\n",
    "\n",
    "plt.subplot(1,3,3)\n",
    "plt.title('y(#{})'.format(i2))\n",
    "plt.imshow(np.reshape(testset[:, i2], [28,28], order='F'), cmap='gray')\n",
    "plt.show()\n",
    "\n",
    "# img 3\n",
    "plt.subplot(1,3,1)\n",
    "plt.title('x')\n",
    "plt.imshow(np.reshape(img_3, [28,28], order='F'), cmap='gray')\n",
    "\n",
    "plt.subplot(1,3,2)\n",
    "plt.title('y(x)')\n",
    "plt.imshow(np.reshape(img_3_est, [28,28], order='F'), cmap='gray')\n",
    "\n",
    "plt.subplot(1,3,3)\n",
    "plt.title('y(#{})'.format(i3))\n",
    "plt.imshow(np.reshape(testset[:, i3], [28,28], order='F'), cmap='gray')\n",
    "plt.show()"
   ]
  },
  {
   "cell_type": "code",
   "execution_count": null,
   "metadata": {
    "collapsed": true
   },
   "outputs": [],
   "source": [
    "for i in range(len(hidden)):\n",
    "    \n",
    "# Adustable Parameters ---------\n",
    "numpdig = 20\n",
    "# ------------------------------\n",
    "\n",
    "testmseL = np.zeros((1,28))\n",
    "testmseR = np.zeros((1,28))\n",
    "teststerL = np.zeros((1,28))\n",
    "teststerR = np.zeros((1,28))\n",
    "mseth = np.zeros((1,28))\n",
    "numdig = end_dig - start_dig\n",
    "tempmseL = np.zeros((1,numpdig*numdig))\n",
    "tempmseR = np.zeros((1,numpdig*numdig))\n",
    "y = np.zeros((numpx,1))\n",
    "cut = np.arange(0,28,1)\n",
    "\n",
    "xL = np.zeros((numpx,1))\n",
    "xR = np.zeros((numpx,1))\n",
    "\n",
    "\n",
    "for ii in range(1,27):\n",
    "    pp = 28*ii\n",
    "    #AsR = AstarR(SigY,pp)\n",
    "    AsL = AstarL(SigY,pp)\n",
    "    mseth[0,ii] = np.trace( (np.eye(numpx) - 2*AsL + (AsL.dot(AsL))).dot(SigY) )/numpx\n",
    "\n",
    "    for jj in range(numdig):\n",
    "        for mm in range(numpdig):\n",
    "            y[:,0] = mnist.test.images[jj*100 + mm,:]\n",
    "            xL[0:pp,0] = y[0:pp,0]\n",
    "            xL[pp:numpx,0] = 0.0\n",
    "            xR[0:pp,0] = 0.0\n",
    "            xR[pp:numpx,0] = y[pp:numpx,0]\n",
    "        \n",
    "            hyL = AsL.dot(xL-muY) + muY\n",
    "            #hyR = AsR.dot(xR-muY) + muY\n",
    "            tempmseL[0, numpdig*jj + mm] = (y-hyL).T.dot(y-hyL)\n",
    "            #tempmseR[0, numpdig*jj + mm] = (y-hyR).T.dot(y-hyR)         \n",
    "            \n",
    "    testmseL[0,ii] = tempmseL.mean()/numpx\n",
    "    teststerL[0,ii] = sp.stats.sem(tempmseL[0,:])/numpx"
   ]
  },
  {
   "cell_type": "markdown",
   "metadata": {
    "deletable": true,
    "editable": true
   },
   "source": [
    "#3. Train an auto-encoder to restore the full image. Report the corresponding testing accuracy.\n",
    "Can an autoencoder beat a MMSE affine estimator?"
   ]
  },
  {
   "cell_type": "code",
   "execution_count": 321,
   "metadata": {
    "collapsed": true
   },
   "outputs": [],
   "source": [
    "hidden = middle(28, 8)"
   ]
  },
  {
   "cell_type": "code",
   "execution_count": 319,
   "metadata": {
    "collapsed": true
   },
   "outputs": [],
   "source": [
    "x = tf.placeholder(tf.float32, [None, 784])\n",
    "y_ = tf.placeholder(tf.float32, [None, 784])"
   ]
  },
  {
   "cell_type": "code",
   "execution_count": 320,
   "metadata": {
    "collapsed": true
   },
   "outputs": [],
   "source": [
    "# hidden layer 1 - 64 neurons\n",
    "W_conv1 = weight_variable([5,5,1,64])\n",
    "b_conv1 = bias_variable([64])\n",
    "\n",
    "x_image = tf.reshape(x, [-1,28,28,1])\n",
    "\n",
    "h_conv1 = tf.nn.relu(conv2d(x_image, W_conv1) + b_conv1)\n",
    "h_pool1 = max_pool_2x2(h_conv1)\n",
    "h_pool1_flat = tf.reshape(h_pool1, [-1, 14*14*64])\n",
    "\n",
    "# dropout regularization\n",
    "keep_prob = tf.placeholder(tf.float32)\n",
    "h_pool1_flat_drop = tf.nn.dropout(h_pool1_flat, keep_prob)\n",
    "\n",
    "# output layer - 784 neurons\n",
    "# fully connected layer 1\n",
    "W_fc1 = weight_variable([14*14*64, 784])\n",
    "b_fc1 = bias_variable([784])\n",
    "\n",
    "y_conv_occ_64 = tf.nn.relu(tf.matmul(h_pool1_flat_drop, W_fc1) + b_fc1)"
   ]
  },
  {
   "cell_type": "code",
   "execution_count": 307,
   "metadata": {
    "collapsed": false
   },
   "outputs": [
    {
     "name": "stdout",
     "output_type": "stream",
     "text": [
      "step 0, training_accuracy 1.67946\n",
      "step 100, training_accuracy 0.125298\n",
      "step 200, training_accuracy 0.117085\n",
      "step 300, training_accuracy 0.117292\n",
      "step 400, training_accuracy 0.124229\n",
      "step 500, training_accuracy 0.11679\n",
      "step 600, training_accuracy 0.119189\n",
      "step 700, training_accuracy 0.123272\n",
      "step 800, training_accuracy 0.116587\n",
      "step 900, training_accuracy 0.105271\n",
      "step 1000, training_accuracy 0.123958\n",
      "step 1100, training_accuracy 0.109736\n",
      "step 1200, training_accuracy 0.113096\n",
      "step 1300, training_accuracy 0.106913\n",
      "step 1400, training_accuracy 0.111519\n",
      "step 1500, training_accuracy 0.111035\n",
      "step 1600, training_accuracy 0.117473\n",
      "step 1700, training_accuracy 0.112392\n",
      "step 1800, training_accuracy 0.119019\n",
      "step 1900, training_accuracy 0.125708\n",
      "step 2000, training_accuracy 0.115327\n",
      "step 2100, training_accuracy 0.118105\n",
      "step 2200, training_accuracy 0.128571\n",
      "step 2300, training_accuracy 0.110963\n",
      "step 2400, training_accuracy 0.116398\n",
      "step 2500, training_accuracy 0.109817\n",
      "step 2600, training_accuracy 0.117625\n",
      "step 2700, training_accuracy 0.129062\n",
      "step 2800, training_accuracy 0.116868\n",
      "step 2900, training_accuracy 0.113891\n",
      "step 3000, training_accuracy 0.112811\n",
      "step 3100, training_accuracy 0.111434\n",
      "step 3200, training_accuracy 0.118838\n",
      "step 3300, training_accuracy 0.111341\n",
      "step 3400, training_accuracy 0.108701\n",
      "step 3500, training_accuracy 0.120439\n",
      "step 3600, training_accuracy 0.116141\n",
      "step 3700, training_accuracy 0.118353\n",
      "step 3800, training_accuracy 0.119508\n",
      "step 3900, training_accuracy 0.118189\n",
      "step 4000, training_accuracy 0.114149\n",
      "step 4100, training_accuracy 0.10447\n",
      "step 4200, training_accuracy 0.120745\n",
      "step 4300, training_accuracy 0.121278\n",
      "step 4400, training_accuracy 0.103586\n",
      "step 4500, training_accuracy 0.117416\n",
      "step 4600, training_accuracy 0.112224\n",
      "step 4700, training_accuracy 0.108547\n",
      "step 4800, training_accuracy 0.115897\n",
      "step 4900, training_accuracy 0.115445\n",
      "step 5000, training_accuracy 0.109877\n",
      "step 5100, training_accuracy 0.105269\n",
      "step 5200, training_accuracy 0.121151\n",
      "step 5300, training_accuracy 0.106149\n",
      "step 5400, training_accuracy 0.110157\n",
      "step 5500, training_accuracy 0.113745\n",
      "step 5600, training_accuracy 0.123206\n",
      "step 5700, training_accuracy 0.112349\n",
      "step 5800, training_accuracy 0.115601\n",
      "step 5900, training_accuracy 0.11449\n",
      "step 6000, training_accuracy 0.112131\n",
      "step 6100, training_accuracy 0.0967224\n",
      "step 6200, training_accuracy 0.0834053\n",
      "step 6300, training_accuracy 0.0712825\n",
      "step 6400, training_accuracy 0.0537482\n",
      "step 6500, training_accuracy 0.037982\n",
      "step 6600, training_accuracy 0.0335791\n",
      "step 6700, training_accuracy 0.0303352\n",
      "step 6800, training_accuracy 0.027952\n",
      "step 6900, training_accuracy 0.025841\n",
      "step 7000, training_accuracy 0.0231691\n",
      "step 7100, training_accuracy 0.0232902\n",
      "step 7200, training_accuracy 0.0253109\n",
      "step 7300, training_accuracy 0.0180609\n",
      "step 7400, training_accuracy 0.0203519\n",
      "step 7500, training_accuracy 0.0223989\n",
      "step 7600, training_accuracy 0.0170874\n",
      "step 7700, training_accuracy 0.0191114\n",
      "step 7800, training_accuracy 0.017899\n",
      "step 7900, training_accuracy 0.0165594\n",
      "step 8000, training_accuracy 0.0168657\n",
      "step 8100, training_accuracy 0.0161166\n",
      "step 8200, training_accuracy 0.0160952\n",
      "step 8300, training_accuracy 0.0147627\n",
      "step 8400, training_accuracy 0.014824\n",
      "step 8500, training_accuracy 0.0141466\n",
      "step 8600, training_accuracy 0.014146\n",
      "step 8700, training_accuracy 0.0141125\n",
      "step 8800, training_accuracy 0.0120601\n",
      "step 8900, training_accuracy 0.0136194\n",
      "step 9000, training_accuracy 0.0147699\n",
      "step 9100, training_accuracy 0.0139512\n",
      "step 9200, training_accuracy 0.0123647\n",
      "step 9300, training_accuracy 0.0134993\n",
      "step 9400, training_accuracy 0.0116626\n",
      "step 9500, training_accuracy 0.0123808\n",
      "step 9600, training_accuracy 0.0120481\n",
      "step 9700, training_accuracy 0.0122366\n",
      "step 9800, training_accuracy 0.0134148\n",
      "step 9900, training_accuracy 0.0118781\n",
      "test accuracy 0.011522\n"
     ]
    }
   ],
   "source": [
    "# train and evaluate model\n",
    "mse_loss = tf.losses.mean_squared_error(labels=y_, predictions=y_conv_occ_64)\n",
    "train_step = tf.train.AdamOptimizer(1e-4).minimize(mse_loss)\n",
    "\n",
    "sess.run(tf.global_variables_initializer())\n",
    "for i in range(10000):\n",
    "    batch = mnist.train.next_batch(50)\n",
    "    if (i % 100 == 0):\n",
    "        train_mse = mse_loss.eval(session=sess, feed_dict={x: hiddenBatch(batch[0], hidden), y_: batch[0], keep_prob: 1.0})\n",
    "        print(\"step %d, training_accuracy %g\"%(i, train_mse))\n",
    "    train_step.run(session=sess, feed_dict={x: hiddenBatch(batch[0], hidden), y_: batch[0], keep_prob: 0.5})\n",
    "print(\"test accuracy %g\"%mse_loss.eval(session=sess, feed_dict={x: hiddenBatch(batch[0], hidden), y_: batch[0], keep_prob: 1.0}))"
   ]
  },
  {
   "cell_type": "code",
   "execution_count": 308,
   "metadata": {
    "collapsed": false
   },
   "outputs": [
    {
     "data": {
      "image/png": "[encoded data removed]",
      "text/plain": [
       "<matplotlib.figure.Figure at 0x153318b38>"
      ]
     },
     "metadata": {},
     "output_type": "display_data"
    },
    {
     "data": {
      "image/png": "[encoded data removed]",
      "text/plain": [
       "<matplotlib.figure.Figure at 0x13b3ba5c0>"
      ]
     },
     "metadata": {},
     "output_type": "display_data"
    },
    {
     "data": {
      "image/png": "[encoded data removed]",
      "text/plain": [
       "<matplotlib.figure.Figure at 0x1532d8e80>"
      ]
     },
     "metadata": {},
     "output_type": "display_data"
    }
   ],
   "source": [
    "# ex 1\n",
    "hy = y_conv_occ_64.eval(session=sess, feed_dict={x: img_hidden[None, 0], keep_prob: 1.0})\n",
    "plt.subplot(1,3,1)\n",
    "plt.title('x')\n",
    "plt.imshow(unpackrw(img_hidden[0], 28, 28), cmap='gray')\n",
    "\n",
    "plt.subplot(1,3,2)\n",
    "plt.title('y(x)')\n",
    "plt.imshow(unpackrw(hy, 28, 28), cmap='gray')\n",
    "\n",
    "plt.subplot(1,3,3)\n",
    "plt.title('y')\n",
    "plt.imshow(unpackrw(images[0][0], 28, 28), cmap='gray')\n",
    "plt.show()\n",
    "\n",
    "# ex 2\n",
    "hy = y_conv_occ_64.eval(session=sess, feed_dict={x: img_hidden[None, 1], keep_prob: 1.0})\n",
    "plt.subplot(1,3,1)\n",
    "plt.title('x')\n",
    "plt.imshow(unpackrw(img_hidden[1], 28, 28), cmap='gray')\n",
    "\n",
    "plt.subplot(1,3,2)\n",
    "plt.title('y(x)')\n",
    "plt.imshow(unpackrw(hy, 28, 28), cmap='gray')\n",
    "\n",
    "plt.subplot(1,3,3)\n",
    "plt.title('y')\n",
    "plt.imshow(unpackrw(images[0][1], 28, 28), cmap='gray')\n",
    "plt.show()\n",
    "\n",
    "# ex 3\n",
    "hy = y_conv_occ_64.eval(session=sess, feed_dict={x: img_hidden[None, 2], keep_prob: 1.0})\n",
    "plt.subplot(1,3,1)\n",
    "plt.title('x')\n",
    "plt.imshow(unpackrw(img_hidden[2], 28, 28), cmap='gray')\n",
    "\n",
    "plt.subplot(1,3,2)\n",
    "plt.title('y(x)')\n",
    "plt.imshow(unpackrw(hy, 28, 28), cmap='gray')\n",
    "\n",
    "plt.subplot(1,3,3)\n",
    "plt.title('y')\n",
    "plt.imshow(unpackrw(images[0][2], 28, 28), cmap='gray')\n",
    "plt.show()"
   ]
  },
  {
   "cell_type": "markdown",
   "metadata": {},
   "source": [
    "The autocoder clearly does a better job qualitatively looking at the reconstructions above so yes it can beat the MMSE affine estimator, once again because of its ability to capture non-linearities"
   ]
  },
  {
   "cell_type": "markdown",
   "metadata": {
    "deletable": true,
    "editable": true
   },
   "source": [
    "#4. In this part, we will investigate the impact of varying k (size of the occluded square) on\n",
    "the MSE performance. Plot the MSE performance versus k for the affine estimator and the\n",
    "autoencoder."
   ]
  },
  {
   "cell_type": "markdown",
   "metadata": {},
   "source": [
    "k = 12"
   ]
  },
  {
   "cell_type": "code",
   "execution_count": 322,
   "metadata": {
    "collapsed": true
   },
   "outputs": [],
   "source": [
    "hidden = middle(28, 12)"
   ]
  },
  {
   "cell_type": "code",
   "execution_count": 323,
   "metadata": {
    "collapsed": true
   },
   "outputs": [],
   "source": [
    "x = tf.placeholder(tf.float32, [None, 784])\n",
    "y_ = tf.placeholder(tf.float32, [None, 784])"
   ]
  },
  {
   "cell_type": "code",
   "execution_count": 324,
   "metadata": {
    "collapsed": true
   },
   "outputs": [],
   "source": [
    "# hidden layer 1 - 64 neurons\n",
    "W_conv1 = weight_variable([5,5,1,64])\n",
    "b_conv1 = bias_variable([64])\n",
    "\n",
    "x_image = tf.reshape(x, [-1,28,28,1])\n",
    "\n",
    "h_conv1 = tf.nn.relu(conv2d(x_image, W_conv1) + b_conv1)\n",
    "h_pool1 = max_pool_2x2(h_conv1)\n",
    "h_pool1_flat = tf.reshape(h_pool1, [-1, 14*14*64])\n",
    "\n",
    "# dropout regularization\n",
    "keep_prob = tf.placeholder(tf.float32)\n",
    "h_pool1_flat_drop = tf.nn.dropout(h_pool1_flat, keep_prob)\n",
    "\n",
    "# output layer - 784 neurons\n",
    "# fully connected layer 1\n",
    "W_fc1 = weight_variable([14*14*64, 784])\n",
    "b_fc1 = bias_variable([784])\n",
    "\n",
    "y_conv_occ12_64 = tf.nn.relu(tf.matmul(h_pool1_flat_drop, W_fc1) + b_fc1)"
   ]
  },
  {
   "cell_type": "code",
   "execution_count": 325,
   "metadata": {
    "collapsed": false
   },
   "outputs": [
    {
     "name": "stdout",
     "output_type": "stream",
     "text": [
      "step 0, training_accuracy 1.29769\n",
      "step 100, training_accuracy 0.118907\n",
      "step 200, training_accuracy 0.109383\n",
      "step 300, training_accuracy 0.108108\n",
      "step 400, training_accuracy 0.112378\n",
      "step 500, training_accuracy 0.110534\n",
      "step 600, training_accuracy 0.115835\n",
      "step 700, training_accuracy 0.120233\n",
      "step 800, training_accuracy 0.112563\n",
      "step 900, training_accuracy 0.117959\n",
      "step 1000, training_accuracy 0.109952\n",
      "step 1100, training_accuracy 0.11215\n",
      "step 1200, training_accuracy 0.117785\n",
      "step 1300, training_accuracy 0.126719\n",
      "step 1400, training_accuracy 0.12095\n",
      "step 1500, training_accuracy 0.130556\n",
      "step 1600, training_accuracy 0.11003\n",
      "step 1700, training_accuracy 0.128995\n",
      "step 1800, training_accuracy 0.115247\n",
      "step 1900, training_accuracy 0.112166\n",
      "step 2000, training_accuracy 0.107128\n",
      "step 2100, training_accuracy 0.108213\n",
      "step 2200, training_accuracy 0.11577\n",
      "step 2300, training_accuracy 0.11029\n",
      "step 2400, training_accuracy 0.124259\n",
      "step 2500, training_accuracy 0.114278\n",
      "step 2600, training_accuracy 0.10442\n",
      "step 2700, training_accuracy 0.119708\n",
      "step 2800, training_accuracy 0.113879\n",
      "step 2900, training_accuracy 0.123129\n",
      "step 3000, training_accuracy 0.124627\n",
      "step 3100, training_accuracy 0.121139\n",
      "step 3200, training_accuracy 0.112825\n",
      "step 3300, training_accuracy 0.109385\n",
      "step 3400, training_accuracy 0.105329\n",
      "step 3500, training_accuracy 0.11133\n",
      "step 3600, training_accuracy 0.110906\n",
      "step 3700, training_accuracy 0.13003\n",
      "step 3800, training_accuracy 0.119968\n",
      "step 3900, training_accuracy 0.117728\n",
      "step 4000, training_accuracy 0.120407\n",
      "step 4100, training_accuracy 0.115129\n",
      "step 4200, training_accuracy 0.113658\n",
      "step 4300, training_accuracy 0.114302\n",
      "step 4400, training_accuracy 0.106146\n",
      "step 4500, training_accuracy 0.0997161\n",
      "step 4600, training_accuracy 0.100392\n",
      "step 4700, training_accuracy 0.0927371\n",
      "step 4800, training_accuracy 0.0739558\n",
      "step 4900, training_accuracy 0.0681665\n",
      "step 5000, training_accuracy 0.0516389\n",
      "step 5100, training_accuracy 0.0477295\n",
      "step 5200, training_accuracy 0.0397919\n",
      "step 5300, training_accuracy 0.0342074\n",
      "step 5400, training_accuracy 0.0343723\n",
      "step 5500, training_accuracy 0.0292099\n",
      "step 5600, training_accuracy 0.031197\n",
      "step 5700, training_accuracy 0.0305907\n",
      "step 5800, training_accuracy 0.0302543\n",
      "step 5900, training_accuracy 0.0255608\n",
      "step 6000, training_accuracy 0.0266792\n",
      "step 6100, training_accuracy 0.02734\n",
      "step 6200, training_accuracy 0.0272611\n",
      "step 6300, training_accuracy 0.0249303\n",
      "step 6400, training_accuracy 0.0253963\n",
      "step 6500, training_accuracy 0.0259985\n",
      "step 6600, training_accuracy 0.0240723\n",
      "step 6700, training_accuracy 0.0235635\n",
      "step 6800, training_accuracy 0.0263249\n",
      "step 6900, training_accuracy 0.0254168\n",
      "step 7000, training_accuracy 0.0222247\n",
      "step 7100, training_accuracy 0.0230417\n",
      "step 7200, training_accuracy 0.0215214\n",
      "step 7300, training_accuracy 0.0224745\n",
      "step 7400, training_accuracy 0.025276\n",
      "step 7500, training_accuracy 0.0204434\n",
      "step 7600, training_accuracy 0.0232333\n",
      "step 7700, training_accuracy 0.0231143\n",
      "step 7800, training_accuracy 0.0198693\n",
      "step 7900, training_accuracy 0.0211572\n",
      "step 8000, training_accuracy 0.0201045\n",
      "step 8100, training_accuracy 0.0218968\n",
      "step 8200, training_accuracy 0.0188023\n",
      "step 8300, training_accuracy 0.0201974\n",
      "step 8400, training_accuracy 0.020052\n",
      "step 8500, training_accuracy 0.0196252\n",
      "step 8600, training_accuracy 0.0195254\n",
      "step 8700, training_accuracy 0.0203798\n",
      "step 8800, training_accuracy 0.021246\n",
      "step 8900, training_accuracy 0.0197911\n",
      "step 9000, training_accuracy 0.0201604\n",
      "step 9100, training_accuracy 0.0185144\n",
      "step 9200, training_accuracy 0.0180231\n",
      "step 9300, training_accuracy 0.0177887\n",
      "step 9400, training_accuracy 0.0202196\n",
      "step 9500, training_accuracy 0.0174559\n",
      "step 9600, training_accuracy 0.017379\n",
      "step 9700, training_accuracy 0.0187318\n",
      "step 9800, training_accuracy 0.0185573\n",
      "step 9900, training_accuracy 0.0175058\n",
      "test accuracy 0.0176966\n"
     ]
    }
   ],
   "source": [
    "# train and evaluate model\n",
    "mse_loss = tf.losses.mean_squared_error(labels=y_, predictions=y_conv_occ12_64)\n",
    "train_step = tf.train.AdamOptimizer(1e-4).minimize(mse_loss)\n",
    "\n",
    "sess.run(tf.global_variables_initializer())\n",
    "for i in range(10000):\n",
    "    batch = mnist.train.next_batch(50)\n",
    "    if (i % 100 == 0):\n",
    "        train_mse = mse_loss.eval(session=sess, feed_dict={x: hiddenBatch(batch[0], hidden), y_: batch[0], keep_prob: 1.0})\n",
    "        print(\"step %d, training_accuracy %g\"%(i, train_mse))\n",
    "    train_step.run(session=sess, feed_dict={x: hiddenBatch(batch[0], hidden), y_: batch[0], keep_prob: 0.5})\n",
    "print(\"test accuracy %g\"%mse_loss.eval(session=sess, feed_dict={x: hiddenBatch(batch[0], hidden), y_: batch[0], keep_prob: 1.0}))"
   ]
  },
  {
   "cell_type": "code",
   "execution_count": 326,
   "metadata": {
    "collapsed": false
   },
   "outputs": [
    {
     "data": {
      "image/png": "[encoded data removed]",
      "text/plain": [
       "<matplotlib.figure.Figure at 0x228af5208>"
      ]
     },
     "metadata": {},
     "output_type": "display_data"
    },
    {
     "data": {
      "image/png": "[encoded data removed]",
      "text/plain": [
       "<matplotlib.figure.Figure at 0x170066f98>"
      ]
     },
     "metadata": {},
     "output_type": "display_data"
    },
    {
     "data": {
      "image/png": "[encoded data removed]",
      "text/plain": [
       "<matplotlib.figure.Figure at 0x1247415c0>"
      ]
     },
     "metadata": {},
     "output_type": "display_data"
    }
   ],
   "source": [
    "# ex 1\n",
    "hy = y_conv_occ12_64.eval(session=sess, feed_dict={x: img_hidden[None, 0], keep_prob: 1.0})\n",
    "plt.subplot(1,3,1)\n",
    "plt.title('x')\n",
    "plt.imshow(unpackrw(img_hidden[0], 28, 28), cmap='gray')\n",
    "\n",
    "plt.subplot(1,3,2)\n",
    "plt.title('y(x)')\n",
    "plt.imshow(unpackrw(hy, 28, 28), cmap='gray')\n",
    "\n",
    "plt.subplot(1,3,3)\n",
    "plt.title('y')\n",
    "plt.imshow(unpackrw(images[0][0], 28, 28), cmap='gray')\n",
    "plt.show()\n",
    "\n",
    "# ex 2\n",
    "hy = y_conv_occ12_64.eval(session=sess, feed_dict={x: img_hidden[None, 1], keep_prob: 1.0})\n",
    "plt.subplot(1,3,1)\n",
    "plt.title('x')\n",
    "plt.imshow(unpackrw(img_hidden[1], 28, 28), cmap='gray')\n",
    "\n",
    "plt.subplot(1,3,2)\n",
    "plt.title('y(x)')\n",
    "plt.imshow(unpackrw(hy, 28, 28), cmap='gray')\n",
    "\n",
    "plt.subplot(1,3,3)\n",
    "plt.title('y')\n",
    "plt.imshow(unpackrw(images[0][1], 28, 28), cmap='gray')\n",
    "plt.show()\n",
    "\n",
    "# ex 3\n",
    "hy = y_conv_occ12_64.eval(session=sess, feed_dict={x: img_hidden[None, 2], keep_prob: 1.0})\n",
    "plt.subplot(1,3,1)\n",
    "plt.title('x')\n",
    "plt.imshow(unpackrw(img_hidden[2], 28, 28), cmap='gray')\n",
    "\n",
    "plt.subplot(1,3,2)\n",
    "plt.title('y(x)')\n",
    "plt.imshow(unpackrw(hy, 28, 28), cmap='gray')\n",
    "\n",
    "plt.subplot(1,3,3)\n",
    "plt.title('y')\n",
    "plt.imshow(unpackrw(images[0][2], 28, 28), cmap='gray')\n",
    "plt.show()"
   ]
  },
  {
   "cell_type": "markdown",
   "metadata": {},
   "source": [
    "k = 16"
   ]
  },
  {
   "cell_type": "code",
   "execution_count": 327,
   "metadata": {
    "collapsed": false
   },
   "outputs": [
    {
     "name": "stdout",
     "output_type": "stream",
     "text": [
      "[174, 175, 176, 177, 178, 179, 180, 181, 182, 183, 184, 185, 186, 187, 188, 189, 202, 203, 204, 205, 206, 207, 208, 209, 210, 211, 212, 213, 214, 215, 216, 217, 230, 231, 232, 233, 234, 235, 236, 237, 238, 239, 240, 241, 242, 243, 244, 245, 258, 259, 260, 261, 262, 263, 264, 265, 266, 267, 268, 269, 270, 271, 272, 273, 286, 287, 288, 289, 290, 291, 292, 293, 294, 295, 296, 297, 298, 299, 300, 301, 314, 315, 316, 317, 318, 319, 320, 321, 322, 323, 324, 325, 326, 327, 328, 329, 342, 343, 344, 345, 346, 347, 348, 349, 350, 351, 352, 353, 354, 355, 356, 357, 370, 371, 372, 373, 374, 375, 376, 377, 378, 379, 380, 381, 382, 383, 384, 385, 398, 399, 400, 401, 402, 403, 404, 405, 406, 407, 408, 409, 410, 411, 412, 413, 426, 427, 428, 429, 430, 431, 432, 433, 434, 435, 436, 437, 438, 439, 440, 441, 454, 455, 456, 457, 458, 459, 460, 461, 462, 463, 464, 465, 466, 467, 468, 469, 482, 483, 484, 485, 486, 487, 488, 489, 490, 491, 492, 493, 494, 495, 496, 497, 510, 511, 512, 513, 514, 515, 516, 517, 518, 519, 520, 521, 522, 523, 524, 525, 538, 539, 540, 541, 542, 543, 544, 545, 546, 547, 548, 549, 550, 551, 552, 553, 566, 567, 568, 569, 570, 571, 572, 573, 574, 575, 576, 577, 578, 579, 580, 581, 594, 595, 596, 597, 598, 599, 600, 601, 602, 603, 604, 605, 606, 607, 608, 609]\n"
     ]
    },
    {
     "data": {
      "image/png": "[encoded data removed]",
      "text/plain": [
       "<matplotlib.figure.Figure at 0x228bc7860>"
      ]
     },
     "metadata": {},
     "output_type": "display_data"
    },
    {
     "data": {
      "image/png": "[encoded data removed]",
      "text/plain": [
       "<matplotlib.figure.Figure at 0x13ae2fdd8>"
      ]
     },
     "metadata": {},
     "output_type": "display_data"
    }
   ],
   "source": [
    "hidden = middle(28, 16)\n",
    "print(hidden)\n",
    "images = mnist.train.next_batch(50)\n",
    "plt.figure()\n",
    "plt.imshow(unpackrw(images[0][5], 28, 28), cmap='gray')\n",
    "plt.show()\n",
    "\n",
    "img_hidden = hiddenBatch(images[0], hidden)\n",
    "plt.figure()\n",
    "plt.imshow(unpackrw(img_hidden[5], 28, 28), cmap='gray')\n",
    "plt.show()"
   ]
  },
  {
   "cell_type": "code",
   "execution_count": 328,
   "metadata": {
    "collapsed": true
   },
   "outputs": [],
   "source": [
    "x = tf.placeholder(tf.float32, [None, 784])\n",
    "y_ = tf.placeholder(tf.float32, [None, 784])"
   ]
  },
  {
   "cell_type": "code",
   "execution_count": 329,
   "metadata": {
    "collapsed": true
   },
   "outputs": [],
   "source": [
    "# hidden layer 1 - 64 neurons\n",
    "W_conv1 = weight_variable([5,5,1,64])\n",
    "b_conv1 = bias_variable([64])\n",
    "\n",
    "x_image = tf.reshape(x, [-1,28,28,1])\n",
    "\n",
    "h_conv1 = tf.nn.relu(conv2d(x_image, W_conv1) + b_conv1)\n",
    "h_pool1 = max_pool_2x2(h_conv1)\n",
    "h_pool1_flat = tf.reshape(h_pool1, [-1, 14*14*64])\n",
    "\n",
    "# dropout regularization\n",
    "keep_prob = tf.placeholder(tf.float32)\n",
    "h_pool1_flat_drop = tf.nn.dropout(h_pool1_flat, keep_prob)\n",
    "\n",
    "# output layer - 784 neurons\n",
    "# fully connected layer 1\n",
    "W_fc1 = weight_variable([14*14*64, 784])\n",
    "b_fc1 = bias_variable([784])\n",
    "\n",
    "y_conv_occ16_64 = tf.nn.relu(tf.matmul(h_pool1_flat_drop, W_fc1) + b_fc1)"
   ]
  },
  {
   "cell_type": "code",
   "execution_count": 330,
   "metadata": {
    "collapsed": false
   },
   "outputs": [
    {
     "name": "stdout",
     "output_type": "stream",
     "text": [
      "step 0, training_accuracy 0.840735\n",
      "step 100, training_accuracy 0.101095\n",
      "step 200, training_accuracy 0.109529\n",
      "step 300, training_accuracy 0.115143\n",
      "step 400, training_accuracy 0.108038\n",
      "step 500, training_accuracy 0.114975\n",
      "step 600, training_accuracy 0.122255\n",
      "step 700, training_accuracy 0.116043\n",
      "step 800, training_accuracy 0.112848\n",
      "step 900, training_accuracy 0.121518\n",
      "step 1000, training_accuracy 0.125208\n",
      "step 1100, training_accuracy 0.119088\n",
      "step 1200, training_accuracy 0.122259\n",
      "step 1300, training_accuracy 0.118648\n",
      "step 1400, training_accuracy 0.106422\n",
      "step 1500, training_accuracy 0.107863\n",
      "step 1600, training_accuracy 0.117844\n",
      "step 1700, training_accuracy 0.117024\n",
      "step 1800, training_accuracy 0.121024\n",
      "step 1900, training_accuracy 0.110026\n",
      "step 2000, training_accuracy 0.106395\n",
      "step 2100, training_accuracy 0.111576\n",
      "step 2200, training_accuracy 0.112352\n",
      "step 2300, training_accuracy 0.127253\n",
      "step 2400, training_accuracy 0.100969\n",
      "step 2500, training_accuracy 0.116908\n",
      "step 2600, training_accuracy 0.11223\n",
      "step 2700, training_accuracy 0.111722\n",
      "step 2800, training_accuracy 0.101715\n",
      "step 2900, training_accuracy 0.108919\n",
      "step 3000, training_accuracy 0.103968\n",
      "step 3100, training_accuracy 0.0943631\n",
      "step 3200, training_accuracy 0.0934098\n",
      "step 3300, training_accuracy 0.0974713\n",
      "step 3400, training_accuracy 0.078145\n",
      "step 3500, training_accuracy 0.0618138\n",
      "step 3600, training_accuracy 0.0593357\n",
      "step 3700, training_accuracy 0.0544092\n",
      "step 3800, training_accuracy 0.0490336\n",
      "step 3900, training_accuracy 0.0508221\n",
      "step 4000, training_accuracy 0.044946\n",
      "step 4100, training_accuracy 0.0493617\n",
      "step 4200, training_accuracy 0.046118\n",
      "step 4300, training_accuracy 0.0427742\n",
      "step 4400, training_accuracy 0.0414596\n",
      "step 4500, training_accuracy 0.0410954\n",
      "step 4600, training_accuracy 0.0409444\n",
      "step 4700, training_accuracy 0.0379427\n",
      "step 4800, training_accuracy 0.0393478\n",
      "step 4900, training_accuracy 0.0383344\n",
      "step 5000, training_accuracy 0.0397712\n",
      "step 5100, training_accuracy 0.0368148\n",
      "step 5200, training_accuracy 0.0382542\n",
      "step 5300, training_accuracy 0.0365459\n",
      "step 5400, training_accuracy 0.0346613\n",
      "step 5500, training_accuracy 0.0347172\n",
      "step 5600, training_accuracy 0.0367733\n",
      "step 5700, training_accuracy 0.0355752\n",
      "step 5800, training_accuracy 0.0377773\n",
      "step 5900, training_accuracy 0.0356754\n",
      "step 6000, training_accuracy 0.0315788\n",
      "step 6100, training_accuracy 0.0335405\n",
      "step 6200, training_accuracy 0.0339749\n",
      "step 6300, training_accuracy 0.0336561\n",
      "step 6400, training_accuracy 0.0351431\n",
      "step 6500, training_accuracy 0.0326405\n",
      "step 6600, training_accuracy 0.0305481\n",
      "step 6700, training_accuracy 0.0330324\n",
      "step 6800, training_accuracy 0.0351426\n",
      "step 6900, training_accuracy 0.0364549\n",
      "step 7000, training_accuracy 0.0330769\n",
      "step 7100, training_accuracy 0.0345288\n",
      "step 7200, training_accuracy 0.032995\n",
      "step 7300, training_accuracy 0.0328266\n",
      "step 7400, training_accuracy 0.030953\n",
      "step 7500, training_accuracy 0.0339757\n",
      "step 7600, training_accuracy 0.0324842\n",
      "step 7700, training_accuracy 0.032019\n",
      "step 7800, training_accuracy 0.0327275\n",
      "step 7900, training_accuracy 0.0334173\n",
      "step 8000, training_accuracy 0.033148\n",
      "step 8100, training_accuracy 0.0325173\n",
      "step 8200, training_accuracy 0.0270981\n",
      "step 8300, training_accuracy 0.0329991\n",
      "step 8400, training_accuracy 0.032368\n",
      "step 8500, training_accuracy 0.0292345\n",
      "step 8600, training_accuracy 0.0311462\n",
      "step 8700, training_accuracy 0.0296973\n",
      "step 8800, training_accuracy 0.0281933\n",
      "step 8900, training_accuracy 0.0287291\n",
      "step 9000, training_accuracy 0.0288624\n",
      "step 9100, training_accuracy 0.0280071\n",
      "step 9200, training_accuracy 0.0296663\n",
      "step 9300, training_accuracy 0.0295179\n",
      "step 9400, training_accuracy 0.0328794\n",
      "step 9500, training_accuracy 0.0318367\n",
      "step 9600, training_accuracy 0.0320839\n",
      "step 9700, training_accuracy 0.0298736\n",
      "step 9800, training_accuracy 0.0301938\n",
      "step 9900, training_accuracy 0.0295644\n",
      "test accuracy 0.0310024\n"
     ]
    }
   ],
   "source": [
    "# train and evaluate model\n",
    "mse_loss = tf.losses.mean_squared_error(labels=y_, predictions=y_conv_occ16_64)\n",
    "train_step = tf.train.AdamOptimizer(1e-4).minimize(mse_loss)\n",
    "\n",
    "sess.run(tf.global_variables_initializer())\n",
    "for i in range(10000):\n",
    "    batch = mnist.train.next_batch(50)\n",
    "    if (i % 100 == 0):\n",
    "        train_mse = mse_loss.eval(session=sess, feed_dict={x: hiddenBatch(batch[0], hidden), y_: batch[0], keep_prob: 1.0})\n",
    "        print(\"step %d, training_accuracy %g\"%(i, train_mse))\n",
    "    train_step.run(session=sess, feed_dict={x: hiddenBatch(batch[0], hidden), y_: batch[0], keep_prob: 0.5})\n",
    "print(\"test accuracy %g\"%mse_loss.eval(session=sess, feed_dict={x: hiddenBatch(batch[0], hidden), y_: batch[0], keep_prob: 1.0}))"
   ]
  },
  {
   "cell_type": "code",
   "execution_count": 331,
   "metadata": {
    "collapsed": false
   },
   "outputs": [
    {
     "data": {
      "image/png": "[encoded data removed]",
      "text/plain": [
       "<matplotlib.figure.Figure at 0x228dc2ba8>"
      ]
     },
     "metadata": {},
     "output_type": "display_data"
    },
    {
     "data": {
      "image/png": "[encoded data removed]",
      "text/plain": [
       "<matplotlib.figure.Figure at 0x1336f1a90>"
      ]
     },
     "metadata": {},
     "output_type": "display_data"
    },
    {
     "data": {
      "image/png": "[encoded data removed]",
      "text/plain": [
       "<matplotlib.figure.Figure at 0x12610b710>"
      ]
     },
     "metadata": {},
     "output_type": "display_data"
    }
   ],
   "source": [
    "# ex 1\n",
    "hy = y_conv_occ16_64.eval(session=sess, feed_dict={x: img_hidden[None, 0], keep_prob: 1.0})\n",
    "plt.subplot(1,3,1)\n",
    "plt.title('x')\n",
    "plt.imshow(unpackrw(img_hidden[0], 28, 28), cmap='gray')\n",
    "\n",
    "plt.subplot(1,3,2)\n",
    "plt.title('y(x)')\n",
    "plt.imshow(unpackrw(hy, 28, 28), cmap='gray')\n",
    "\n",
    "plt.subplot(1,3,3)\n",
    "plt.title('y')\n",
    "plt.imshow(unpackrw(images[0][0], 28, 28), cmap='gray')\n",
    "plt.show()\n",
    "\n",
    "# ex 2\n",
    "hy = y_conv_occ16_64.eval(session=sess, feed_dict={x: img_hidden[None, 1], keep_prob: 1.0})\n",
    "plt.subplot(1,3,1)\n",
    "plt.title('x')\n",
    "plt.imshow(unpackrw(img_hidden[1], 28, 28), cmap='gray')\n",
    "\n",
    "plt.subplot(1,3,2)\n",
    "plt.title('y(x)')\n",
    "plt.imshow(unpackrw(hy, 28, 28), cmap='gray')\n",
    "\n",
    "plt.subplot(1,3,3)\n",
    "plt.title('y')\n",
    "plt.imshow(unpackrw(images[0][1], 28, 28), cmap='gray')\n",
    "plt.show()\n",
    "\n",
    "# ex 3\n",
    "hy = y_conv_occ16_64.eval(session=sess, feed_dict={x: img_hidden[None, 2], keep_prob: 1.0})\n",
    "plt.subplot(1,3,1)\n",
    "plt.title('x')\n",
    "plt.imshow(unpackrw(img_hidden[2], 28, 28), cmap='gray')\n",
    "\n",
    "plt.subplot(1,3,2)\n",
    "plt.title('y(x)')\n",
    "plt.imshow(unpackrw(hy, 28, 28), cmap='gray')\n",
    "\n",
    "plt.subplot(1,3,3)\n",
    "plt.title('y')\n",
    "plt.imshow(unpackrw(images[0][2], 28, 28), cmap='gray')\n",
    "plt.show()"
   ]
  },
  {
   "cell_type": "code",
   "execution_count": 412,
   "metadata": {
    "collapsed": false
   },
   "outputs": [
    {
     "data": {
      "image/png": "[encoded data removed]",
      "text/plain": [
       "<matplotlib.figure.Figure at 0x13b506588>"
      ]
     },
     "metadata": {},
     "output_type": "display_data"
    }
   ],
   "source": [
    "N = 3\n",
    "mse_means = (0.011522, 0.01767, 0.031)\n",
    "mse_std = (0, 0 ,0)\n",
    "\n",
    "ind = np.arange(N)  # the x locations for the groups\n",
    "width = 0.35       # the width of the bars\n",
    "\n",
    "fig, ax = plt.subplots()\n",
    "rects1 = ax.bar(ind + width/2, mse_means, width, color='r', yerr=mse_std)\n",
    "\n",
    "# add some text for labels, title and axes ticks\n",
    "ax.set_ylabel('MSE/pixel')\n",
    "ax.set_xlabel('k')\n",
    "ax.set_title('MSE performance vs representation size')\n",
    "ax.set_xticks(ind + width / 2)\n",
    "ax.set_xticklabels(('8', '12', '16'))\n",
    "plt.show()"
   ]
  },
  {
   "cell_type": "code",
   "execution_count": 337,
   "metadata": {
    "collapsed": true
   },
   "outputs": [],
   "source": [
    "def AstarL(SigY,pp):\n",
    "    numpx = SigY.shape[0]\n",
    "    Sig11 = SigY[0:pp,0:pp]\n",
    "    Sig21 = SigY[pp:numpx,0:pp]\n",
    "    D = np.zeros((numpx, numpx))\n",
    "    D[0:pp,0:pp] = np.eye(pp)\n",
    "    D[pp:numpx,0:pp] = np.dot(Sig21,np.linalg.pinv(Sig11))    \n",
    "    return D \n",
    "\n",
    "def AstarR(SigY,pp):\n",
    "    numpx = SigY.shape[0]\n",
    "    Sig22 = SigY[pp:numpx,pp:numpx]\n",
    "    Sig12 = SigY[0:pp,pp:numpx]\n",
    "    D = np.zeros((numpx, numpx))\n",
    "    D[pp:numpx,pp:numpx] = np.eye(numpx-pp)\n",
    "    D[0:pp,pp:numpx] = np.dot(Sig12,np.linalg.pinv(Sig22))    \n",
    "    return D "
   ]
  },
  {
   "cell_type": "code",
   "execution_count": 413,
   "metadata": {
    "collapsed": false
   },
   "outputs": [],
   "source": [
    "#MSE versus position\n",
    "\n",
    "# Adustable Parameters ---------\n",
    "numpdig = 20\n",
    "# ------------------------------\n",
    "\n",
    "testmseL = np.zeros((1,28))\n",
    "testmseR = np.zeros((1,28))\n",
    "teststerL = np.zeros((1,28))\n",
    "teststerR = np.zeros((1,28))\n",
    "mseth = np.zeros((1,28))\n",
    "numdig = end_dig - start_dig\n",
    "tempmseL = np.zeros((1,numpdig*numdig))\n",
    "tempmseR = np.zeros((1,numpdig*numdig))\n",
    "y = np.zeros((numpx,1))\n",
    "cut = np.arange(0,28,1)\n",
    "\n",
    "xL = np.zeros((numpx,1))\n",
    "xR = np.zeros((numpx,1))\n",
    "\n",
    "for ii in range(1,27):\n",
    "    pp = 28*ii\n",
    "    #AsR = AstarR(SigY,pp)\n",
    "    AsL = AstarL(SigY,pp)\n",
    "    mseth[0,ii] = np.trace( (np.eye(numpx) - 2*AsL + (AsL.dot(AsL))).dot(SigY) )/numpx\n",
    "\n",
    "    for jj in range(numdig):\n",
    "        for mm in range(numpdig):\n",
    "            y[:,0] = mnist.test.images[jj*100 + mm,:]\n",
    "            xL[0:pp,0] = y[0:pp,0]\n",
    "            xL[pp:numpx,0] = 0.0\n",
    "            xR[0:pp,0] = 0.0\n",
    "            xR[pp:numpx,0] = y[pp:numpx,0]\n",
    "        \n",
    "            hyL = AsL.dot(xL-muY) + muY\n",
    "            #hyR = AsR.dot(xR-muY) + muY\n",
    "            tempmseL[0, numpdig*jj + mm] = (y-hyL).T.dot(y-hyL)\n",
    "            #tempmseR[0, numpdig*jj + mm] = (y-hyR).T.dot(y-hyR)         \n",
    "            \n",
    "    testmseL[0,ii] = tempmseL.mean()/numpx\n",
    "    teststerL[0,ii] = sp.stats.sem(tempmseL[0,:])/numpx\n",
    " "
   ]
  },
  {
   "cell_type": "code",
   "execution_count": 414,
   "metadata": {
    "collapsed": false
   },
   "outputs": [
    {
     "data": {
      "image/png": "[encoded data removed]",
      "text/plain": [
       "<matplotlib.figure.Figure at 0x145a45ac8>"
      ]
     },
     "metadata": {},
     "output_type": "display_data"
    }
   ],
   "source": [
    "# Plot the figure\n",
    "plt.figure(figsize=(6,6))\n",
    "thmse_line, = plt.plot(cut[1:27], mseth[0,1:27],'r-',linewidth=2, label='MSE/pixel theory')\n",
    "exmse_line, = plt.plot(cut[1:27],testmseL[0,1:27],'b.--',linewidth=2, label='MSE/pixel exp.')\n",
    "stderr_line, = plt.plot(cut[1:27],testmseL[0,1:27] + teststerL[0,1:27], 'g-', label='std error')\n",
    "plt.plot(cut[1:27],testmseL[0,1:27] - teststerL[0,1:27], 'g-')\n",
    "limit_line, = plt.plot([0, 27],[EnY/numpx, EnY/numpx],'r--',linewidth=2, label='trace($\\Sigma_Y$)/pixel')\n",
    "plt.legend([exmse_line, stderr_line, thmse_line, limit_line], ['MSE/pixel exp.', '$\\pm$std error', 'MSE/pixel theory', 'trace($\\Sigma_Y$)/pixel'], loc=3)\n",
    "plt.grid('on')\n",
    "plt.axis([1, 27, 0, 1.1*EnY/numpx])\n",
    "plt.xlabel('k',fontsize=16)\n",
    "plt.ylabel('MSE per pixel',fontsize=16)\n",
    "plt.title('MSE Performance (x=y[:,0:p])')\n",
    "plt.show()      "
   ]
  },
  {
   "cell_type": "code",
   "execution_count": null,
   "metadata": {
    "collapsed": true
   },
   "outputs": [],
   "source": []
  }
 ],
 "metadata": {
  "kernelspec": {
   "display_name": "Python 3",
   "language": "python",
   "name": "tf_kernel"
  },
  "language_info": {
   "codemirror_mode": {
    "name": "ipython",
    "version": 3
   },
   "file_extension": ".py",
   "mimetype": "text/x-python",
   "name": "python",
   "nbconvert_exporter": "python",
   "pygments_lexer": "ipython3",
   "version": "3.5.3"
  }
 },
 "nbformat": 4,
 "nbformat_minor": 2
}
